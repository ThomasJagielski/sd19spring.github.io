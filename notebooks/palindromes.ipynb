{
 "cells": [
  {
   "cell_type": "markdown",
   "metadata": {},
   "source": [
    "# Palindrome Notes"
   ]
  },
  {
   "cell_type": "markdown",
   "metadata": {},
   "source": [
    "## Iterative strategy"
   ]
  },
  {
   "cell_type": "code",
   "execution_count": 35,
   "metadata": {
    "collapsed": true
   },
   "outputs": [],
   "source": [
    "import doctest\n",
    "\n",
    "def is_palindrome(s):\n",
    "    \"\"\"\n",
    "    >>> is_palindrome('divide')\n",
    "    False\n",
    "    >>> is_palindrome('redivider')\n",
    "    True\n",
    "    \"\"\"\n",
    "    for i in range(len(s)):\n",
    "        if s[i] != s[len(s) - 1 - i]:\n",
    "            return False\n",
    "    return True\n",
    "\n",
    "doctest.run_docstring_examples(is_palindrome, globals())"
   ]
  },
  {
   "cell_type": "markdown",
   "metadata": {},
   "source": [
    "Abbreviate `s[len(s) - n]` as `s[-m]`:"
   ]
  },
  {
   "cell_type": "code",
   "execution_count": 59,
   "metadata": {},
   "outputs": [],
   "source": [
    "import doctest\n",
    "\n",
    "def is_palindrome(s):\n",
    "    \"\"\"\n",
    "    >>> is_palindrome('divide')\n",
    "    False\n",
    "    >>> is_palindrome('redivider')\n",
    "    True\n",
    "    \"\"\"\n",
    "    for i in range(len(s)):\n",
    "        if s[i] != s[-1 - i]:\n",
    "            return False\n",
    "    return True\n",
    "\n",
    "doctest.run_docstring_examples(is_palindrome, globals())"
   ]
  },
  {
   "cell_type": "markdown",
   "metadata": {},
   "source": [
    "Stop at the middle. (More efficient; same functionality.)"
   ]
  },
  {
   "cell_type": "code",
   "execution_count": 37,
   "metadata": {
    "collapsed": true
   },
   "outputs": [],
   "source": [
    "import doctest\n",
    "\n",
    "def is_palindrome(s):\n",
    "    \"\"\"\n",
    "    >>> is_palindrome('divide')\n",
    "    False\n",
    "    >>> is_palindrome('redivider')\n",
    "    True\n",
    "    \"\"\"\n",
    "    for i in range(len(s) // 2):\n",
    "        if s[i] != s[len(s) -1 - i]:\n",
    "            return False\n",
    "    return True\n",
    "\n",
    "doctest.run_docstring_examples(is_palindrome, globals())"
   ]
  },
  {
   "cell_type": "markdown",
   "metadata": {},
   "source": [
    "It's good to have test cases for special and extreme cases. (In this case, the empty string.)"
   ]
  },
  {
   "cell_type": "code",
   "execution_count": 38,
   "metadata": {
    "collapsed": true
   },
   "outputs": [],
   "source": [
    "import doctest\n",
    "\n",
    "def is_palindrome(s):\n",
    "    \"\"\"\n",
    "    >>> is_palindrome('')\n",
    "    True\n",
    "    >>> is_palindrome('a')\n",
    "    True\n",
    "    >>> is_palindrome('divide')\n",
    "    False\n",
    "    >>> is_palindrome('redivider')\n",
    "    True\n",
    "    \"\"\"\n",
    "    for i in range(len(s) // 2):\n",
    "        if s[i] != s[len(s) -1 - i]:\n",
    "            return False\n",
    "    return True\n",
    "\n",
    "doctest.run_docstring_examples(is_palindrome, globals())"
   ]
  },
  {
   "cell_type": "markdown",
   "metadata": {},
   "source": [
    "### Iterative strategy – ignoring case"
   ]
  },
  {
   "cell_type": "markdown",
   "metadata": {},
   "source": [
    "Add a test case we wished passed, and replace `=` by the function we wish we had (`eq_ignores_case`)."
   ]
  },
  {
   "cell_type": "code",
   "execution_count": 39,
   "metadata": {
    "collapsed": true
   },
   "outputs": [],
   "source": [
    "import doctest\n",
    "\n",
    "def palindrome(s):\n",
    "    \"\"\"Returns true iff s is a palindrome.\n",
    "    \n",
    "    A palindrome is a string that is the same reversed, ignoring capitalization.\n",
    "    \n",
    "    >>> is_palindrome('')\n",
    "    True\n",
    "    >>> is_palindrome('a')\n",
    "    True\n",
    "    >>> is_palindrome('divide')\n",
    "    False\n",
    "    >>> is_palindrome('redivider')\n",
    "    True\n",
    "    >>> is_palindrome('Bob')\n",
    "    True\n",
    "    \"\"\"\n",
    "    for i in range(len(s)):\n",
    "        if not eq_ignores_case(s[i], s[-1-i]):\n",
    "            return False\n",
    "    return True\n",
    "\n",
    "doctest.run_docstring_examples(is_palindrome, globals())"
   ]
  },
  {
   "cell_type": "markdown",
   "metadata": {},
   "source": [
    "Now write `eq_ignores_case`:"
   ]
  },
  {
   "cell_type": "code",
   "execution_count": 40,
   "metadata": {
    "collapsed": true
   },
   "outputs": [],
   "source": [
    "def eq_ignores_case(a, b):\n",
    "    \"\"\"\n",
    "    >>> eq_ignores_case('a', 'a')\n",
    "    True\n",
    "    >>> eq_ignores_case('a', 'A')\n",
    "    True\n",
    "    >>> eq_ignores_case('A', 'a')\n",
    "    True\n",
    "    >>> eq_ignores_case('A', 'A')\n",
    "    True\n",
    "    >>> eq_ignores_case('a', 'b')\n",
    "    False\n",
    "    \"\"\"\n",
    "    if a == b:\n",
    "        return True\n",
    "    if a.islower() and b.isupper() and a.upper() == b:\n",
    "        return True\n",
    "    if b.islower() and a.isupper() and b.upper() == a:\n",
    "        return True\n",
    "    return False\n",
    "\n",
    "doctest.run_docstring_examples(eq_ignores_case, globals())"
   ]
  },
  {
   "cell_type": "markdown",
   "metadata": {},
   "source": [
    "Can be simplified to:"
   ]
  },
  {
   "cell_type": "code",
   "execution_count": 41,
   "metadata": {
    "collapsed": true
   },
   "outputs": [],
   "source": [
    "def eq_ignores_case(a, b):\n",
    "    \"\"\"\n",
    "    >>> eq_ignores_case('a', 'a')\n",
    "    True\n",
    "    >>> eq_ignores_case('a', 'A')\n",
    "    True\n",
    "    >>> eq_ignores_case('A', 'a')\n",
    "    True\n",
    "    >>> eq_ignores_case('A', 'A')\n",
    "    True\n",
    "    >>> eq_ignores_case('a', 'b')\n",
    "    False\n",
    "    \"\"\"\n",
    "    if a == b:\n",
    "        return True\n",
    "    if a.upper() == b:\n",
    "        return True\n",
    "    if b.upper() == a:\n",
    "        return True\n",
    "    return False\n",
    "\n",
    "doctest.run_docstring_examples(eq_ignores_case, globals())"
   ]
  },
  {
   "cell_type": "markdown",
   "metadata": {},
   "source": [
    "Can be simplified to:"
   ]
  },
  {
   "cell_type": "code",
   "execution_count": 42,
   "metadata": {
    "collapsed": true
   },
   "outputs": [],
   "source": [
    "def eq_ignores_case(a, b):\n",
    "    \"\"\"\n",
    "    >>> eq_ignores_case('a', 'a')\n",
    "    True\n",
    "    >>> eq_ignores_case('a', 'A')\n",
    "    True\n",
    "    >>> eq_ignores_case('A', 'a')\n",
    "    True\n",
    "    >>> eq_ignores_case('A', 'A')\n",
    "    True\n",
    "    >>> eq_ignores_case('a', 'b')\n",
    "    False\n",
    "    \"\"\"\n",
    "    if a == b:\n",
    "        return True\n",
    "    if a.upper() == b.upper():\n",
    "        return True\n",
    "    return False\n",
    "\n",
    "doctest.run_docstring_examples(eq_ignores_case, globals())"
   ]
  },
  {
   "cell_type": "markdown",
   "metadata": {},
   "source": [
    "Can be simplified to:"
   ]
  },
  {
   "cell_type": "code",
   "execution_count": 43,
   "metadata": {
    "collapsed": true
   },
   "outputs": [],
   "source": [
    "def eq_ignores_case(a, b):\n",
    "    \"\"\"\n",
    "    >>> eq_ignores_case('a', 'a')\n",
    "    True\n",
    "    >>> eq_ignores_case('a', 'A')\n",
    "    True\n",
    "    >>> eq_ignores_case('A', 'a')\n",
    "    True\n",
    "    >>> eq_ignores_case('A', 'A')\n",
    "    True\n",
    "    >>> eq_ignores_case('a', 'b')\n",
    "    False\n",
    "    \"\"\"\n",
    "    if a.upper() == b.upper():\n",
    "        return True\n",
    "    return False\n",
    "\n",
    "doctest.run_docstring_examples(eq_ignores_case, globals())"
   ]
  },
  {
   "cell_type": "markdown",
   "metadata": {},
   "source": [
    "Can be simplified to:"
   ]
  },
  {
   "cell_type": "code",
   "execution_count": 44,
   "metadata": {
    "collapsed": true
   },
   "outputs": [],
   "source": [
    "def eq_ignores_case(a, b):\n",
    "    \"\"\"\n",
    "    >>> eq_ignores_case('a', 'a')\n",
    "    True\n",
    "    >>> eq_ignores_case('a', 'A')\n",
    "    True\n",
    "    >>> eq_ignores_case('A', 'a')\n",
    "    True\n",
    "    >>> eq_ignores_case('A', 'A')\n",
    "    True\n",
    "    >>> eq_ignores_case('a', 'b')\n",
    "    False\n",
    "    \"\"\"\n",
    "    return a.upper() == b.upper()\n",
    "\n",
    "doctest.run_docstring_examples(eq_ignores_case, globals())"
   ]
  },
  {
   "cell_type": "markdown",
   "metadata": {},
   "source": [
    "Now the tests pass:"
   ]
  },
  {
   "cell_type": "code",
   "execution_count": 45,
   "metadata": {},
   "outputs": [],
   "source": [
    "import doctest\n",
    "\n",
    "def is_palindrome(s):\n",
    "    \"\"\"Returns true iff s is a palindrome.\n",
    "    \n",
    "    A palindrome is a string that is the same reversed, ignoring capitalization.\n",
    "    \n",
    "    >>> is_palindrome('')\n",
    "    True\n",
    "    >>> is_palindrome('a')\n",
    "    True\n",
    "    >>> is_palindrome('divide')\n",
    "    False\n",
    "    >>> is_palindrome('redivider')\n",
    "    True\n",
    "    >>> is_palindrome('Bob')\n",
    "    True\n",
    "    \"\"\"\n",
    "    for i in range(len(s)):\n",
    "        if not eq_ignores_case(s[i], s[-1-i]):\n",
    "            return False\n",
    "    return True\n",
    "\n",
    "doctest.run_docstring_examples(is_palindrome, globals())"
   ]
  },
  {
   "cell_type": "markdown",
   "metadata": {},
   "source": [
    "### Iterative strategy – ignoring punctuation"
   ]
  },
  {
   "cell_type": "markdown",
   "metadata": {},
   "source": [
    "First, unpack the `for i` in the previous definition of `is_palindrome`, for more control over its iteration than `for i in range` allows.\n",
    "\n",
    "We will add test cases for the new functionality (ignoring punctation) that we want to test, but these test cases won't pass."
   ]
  },
  {
   "cell_type": "code",
   "execution_count": 60,
   "metadata": {},
   "outputs": [],
   "source": [
    "import doctest\n",
    "\n",
    "def is_palindrome(s):\n",
    "    \"\"\"Returns true iff s is a palindrome.\n",
    "    \n",
    "    A palindrome is a string that is the same reversed, ignoring punctuation and capitalization.\n",
    "    \n",
    "    >>> is_palindrome('')\n",
    "    True\n",
    "    >>> is_palindrome('a')\n",
    "    True\n",
    "    >>> is_palindrome('divide')\n",
    "    False\n",
    "    >>> is_palindrome('redivider')\n",
    "    True\n",
    "    >>> is_palindrome('Re-divider')\n",
    "    True\n",
    "    >>> is_palindrome('Bob')\n",
    "    True\n",
    "    >>> is_palindrome('A man, a plan, a canal – Panama!')\n",
    "    True\n",
    "    \"\"\"\n",
    "    i = 0\n",
    "    while i < len(s):\n",
    "        if not eq_ignores_case(s[i], s[-1-i]):\n",
    "            return False\n",
    "        i += 1\n",
    "    return True\n",
    "\n",
    "doctest.run_docstring_examples(palindrome, globals())"
   ]
  },
  {
   "cell_type": "markdown",
   "metadata": {},
   "source": [
    "Now introduce a distinct variable for iterating from the end of the loop. This still doesn't make the tests pass, but it's one step closer."
   ]
  },
  {
   "cell_type": "code",
   "execution_count": 61,
   "metadata": {},
   "outputs": [
    {
     "name": "stdout",
     "output_type": "stream",
     "text": [
      "**********************************************************************\n",
      "File \"__main__\", line 16, in NoName\n",
      "Failed example:\n",
      "    is_palindrome('Re-divider')\n",
      "Expected:\n",
      "    True\n",
      "Got:\n",
      "    False\n",
      "**********************************************************************\n",
      "File \"__main__\", line 20, in NoName\n",
      "Failed example:\n",
      "    is_palindrome('A man, a plan, a canal – Panama!')\n",
      "Expected:\n",
      "    True\n",
      "Got:\n",
      "    False\n"
     ]
    }
   ],
   "source": [
    "import doctest\n",
    "\n",
    "def is_palindrome(s):\n",
    "    \"\"\"Returns true iff s is a palindrome.\n",
    "    \n",
    "    A palindrome is a string that is the same reversed, ignoring punctuation and capitalization.\n",
    "    \n",
    "    >>> is_palindrome('')\n",
    "    True\n",
    "    >>> is_palindrome('a')\n",
    "    True\n",
    "    >>> is_palindrome('divide')\n",
    "    False\n",
    "    >>> is_palindrome('redivider')\n",
    "    True\n",
    "    >>> is_palindrome('Re-divider')\n",
    "    True\n",
    "    >>> is_palindrome('Bob')\n",
    "    True\n",
    "    >>> is_palindrome('A man, a plan, a canal – Panama!')\n",
    "    True\n",
    "    \"\"\"\n",
    "    i = 0\n",
    "    j = len(s) - 1\n",
    "    while i < len(s):\n",
    "        if not eq_ignores_case(s[i], s[j]):\n",
    "            return False\n",
    "        i += 1\n",
    "        j -= 1\n",
    "    return True\n",
    "\n",
    "doctest.run_docstring_examples(is_palindrome, globals())"
   ]
  },
  {
   "cell_type": "markdown",
   "metadata": {},
   "source": [
    "Step over punctuation. The following uses a slightly different approach from in class: defining a function `is_punct` instead of using `c in punct` each time.\n",
    "\n",
    "It also changes the loop test to `i < j` to detect when the left and right indices meet in the middle. This avoids the need for more complicated `while` statements to avoid running the indices off the end of the string while skipping over punctuation."
   ]
  },
  {
   "cell_type": "code",
   "execution_count": 1,
   "metadata": {},
   "outputs": [
    {
     "name": "stdout",
     "output_type": "stream",
     "text": [
      "**********************************************************************\n",
      "File \"__main__\", line 15, in NoName\n",
      "Failed example:\n",
      "    is_palindrome('divide')\n",
      "Exception raised:\n",
      "    Traceback (most recent call last):\n",
      "      File \"/Users/osteele/anaconda3/lib/python3.5/doctest.py\", line 1321, in __run\n",
      "        compileflags, 1), test.globs)\n",
      "      File \"<doctest NoName[2]>\", line 1, in <module>\n",
      "        is_palindrome('divide')\n",
      "      File \"<ipython-input-1-397877bcfdf1>\", line 35, in is_palindrome\n",
      "        if not eq_ignores_case(s[i], s[j]):\n",
      "    NameError: name 'eq_ignores_case' is not defined\n",
      "**********************************************************************\n",
      "File \"__main__\", line 17, in NoName\n",
      "Failed example:\n",
      "    is_palindrome('redivider')\n",
      "Exception raised:\n",
      "    Traceback (most recent call last):\n",
      "      File \"/Users/osteele/anaconda3/lib/python3.5/doctest.py\", line 1321, in __run\n",
      "        compileflags, 1), test.globs)\n",
      "      File \"<doctest NoName[3]>\", line 1, in <module>\n",
      "        is_palindrome('redivider')\n",
      "      File \"<ipython-input-1-397877bcfdf1>\", line 35, in is_palindrome\n",
      "        if not eq_ignores_case(s[i], s[j]):\n",
      "    NameError: name 'eq_ignores_case' is not defined\n",
      "**********************************************************************\n",
      "File \"__main__\", line 19, in NoName\n",
      "Failed example:\n",
      "    is_palindrome('Re-divider')\n",
      "Exception raised:\n",
      "    Traceback (most recent call last):\n",
      "      File \"/Users/osteele/anaconda3/lib/python3.5/doctest.py\", line 1321, in __run\n",
      "        compileflags, 1), test.globs)\n",
      "      File \"<doctest NoName[4]>\", line 1, in <module>\n",
      "        is_palindrome('Re-divider')\n",
      "      File \"<ipython-input-1-397877bcfdf1>\", line 35, in is_palindrome\n",
      "        if not eq_ignores_case(s[i], s[j]):\n",
      "    NameError: name 'eq_ignores_case' is not defined\n",
      "**********************************************************************\n",
      "File \"__main__\", line 21, in NoName\n",
      "Failed example:\n",
      "    is_palindrome('Bob')\n",
      "Exception raised:\n",
      "    Traceback (most recent call last):\n",
      "      File \"/Users/osteele/anaconda3/lib/python3.5/doctest.py\", line 1321, in __run\n",
      "        compileflags, 1), test.globs)\n",
      "      File \"<doctest NoName[5]>\", line 1, in <module>\n",
      "        is_palindrome('Bob')\n",
      "      File \"<ipython-input-1-397877bcfdf1>\", line 35, in is_palindrome\n",
      "        if not eq_ignores_case(s[i], s[j]):\n",
      "    NameError: name 'eq_ignores_case' is not defined\n",
      "**********************************************************************\n",
      "File \"__main__\", line 23, in NoName\n",
      "Failed example:\n",
      "    is_palindrome('A man, a plan, a canal – Panama!')\n",
      "Exception raised:\n",
      "    Traceback (most recent call last):\n",
      "      File \"/Users/osteele/anaconda3/lib/python3.5/doctest.py\", line 1321, in __run\n",
      "        compileflags, 1), test.globs)\n",
      "      File \"<doctest NoName[6]>\", line 1, in <module>\n",
      "        is_palindrome('A man, a plan, a canal – Panama!')\n",
      "      File \"<ipython-input-1-397877bcfdf1>\", line 35, in is_palindrome\n",
      "        if not eq_ignores_case(s[i], s[j]):\n",
      "    NameError: name 'eq_ignores_case' is not defined\n",
      "**********************************************************************\n",
      "File \"__main__\", line 25, in NoName\n",
      "Failed example:\n",
      "    is_palindrome('Doc, note I dissent. A fast never prevents a fatness. I diet on cod.')\n",
      "Exception raised:\n",
      "    Traceback (most recent call last):\n",
      "      File \"/Users/osteele/anaconda3/lib/python3.5/doctest.py\", line 1321, in __run\n",
      "        compileflags, 1), test.globs)\n",
      "      File \"<doctest NoName[7]>\", line 1, in <module>\n",
      "        is_palindrome('Doc, note I dissent. A fast never prevents a fatness. I diet on cod.')\n",
      "      File \"<ipython-input-1-397877bcfdf1>\", line 35, in is_palindrome\n",
      "        if not eq_ignores_case(s[i], s[j]):\n",
      "    NameError: name 'eq_ignores_case' is not defined\n"
     ]
    }
   ],
   "source": [
    "import doctest\n",
    "\n",
    "def is_punct(c):\n",
    "    return c in ' -–.,!'\n",
    "\n",
    "def is_palindrome(s):\n",
    "    \"\"\"Returns true iff s is a palindrome.\n",
    "    \n",
    "    A palindrome is a string that is the same reversed, ignoring punctuation or capitalization.\n",
    "    \n",
    "    >>> is_palindrome('')\n",
    "    True\n",
    "    >>> is_palindrome('a')\n",
    "    True\n",
    "    >>> is_palindrome('divide')\n",
    "    False\n",
    "    >>> is_palindrome('redivider')\n",
    "    True\n",
    "    >>> is_palindrome('Re-divider')\n",
    "    True\n",
    "    >>> is_palindrome('Bob')\n",
    "    True\n",
    "    >>> is_palindrome('A man, a plan, a canal – Panama!')\n",
    "    True\n",
    "    >>> is_palindrome('Doc, note I dissent. A fast never prevents a fatness. I diet on cod.')\n",
    "    True\n",
    "    \"\"\"\n",
    "    i = 0\n",
    "    j = len(s) - 1\n",
    "    while i < j:\n",
    "        while is_punct(s[i]):\n",
    "            i += 1\n",
    "        while is_punct(s[j]):\n",
    "            j -= 1\n",
    "        if not eq_ignores_case(s[i], s[j]):\n",
    "            return False\n",
    "        i += 1\n",
    "        j -= 1\n",
    "    return True\n",
    "\n",
    "doctest.run_docstring_examples(is_palindrome, globals())"
   ]
  },
  {
   "cell_type": "markdown",
   "metadata": {},
   "source": [
    "A more robust implementation of `is_punct`:"
   ]
  },
  {
   "cell_type": "code",
   "execution_count": 63,
   "metadata": {
    "collapsed": true
   },
   "outputs": [],
   "source": [
    "import string\n",
    "\n",
    "def is_punct(c):\n",
    "    return c not in string.ascii_letters"
   ]
  },
  {
   "cell_type": "markdown",
   "metadata": {},
   "source": [
    "## Compare to Reversed String\n",
    "\n",
    "This is a more direct implementation of “A palindrome is a string that is the same reversed”.\n",
    "The following three implementations use three different methods to reverse a string."
   ]
  },
  {
   "cell_type": "code",
   "execution_count": 65,
   "metadata": {},
   "outputs": [],
   "source": [
    "import doctest\n",
    "\n",
    "def is_palindrome(s):\n",
    "    \"\"\"\n",
    "    >>> is_palindrome('divide')\n",
    "    False\n",
    "    >>> is_palindrome('redivider')\n",
    "    True\n",
    "    \"\"\"\n",
    "    r = ''\n",
    "    for i in range(len(s)):\n",
    "        r += s[-1-i]\n",
    "    return s == r\n",
    "\n",
    "doctest.run_docstring_examples(is_palindrome, globals())"
   ]
  },
  {
   "cell_type": "code",
   "execution_count": 51,
   "metadata": {
    "collapsed": true
   },
   "outputs": [],
   "source": [
    "import doctest\n",
    "\n",
    "def is_palindrome(s):\n",
    "    \"\"\"\n",
    "    >>> is_palindrome('divide')\n",
    "    False\n",
    "    >>> is_palindrome('redivider')\n",
    "    True\n",
    "    \"\"\"\n",
    "    r = ''.join(reversed(s))\n",
    "    return s == r\n",
    "\n",
    "doctest.run_docstring_examples(is_palindrome, globals())"
   ]
  },
  {
   "cell_type": "code",
   "execution_count": 52,
   "metadata": {
    "collapsed": true
   },
   "outputs": [],
   "source": [
    "import doctest\n",
    "\n",
    "def is_palindrome(s):\n",
    "    \"\"\"\n",
    "    >>> is_palindrome('divide')\n",
    "    False\n",
    "    >>> is_palindrome('redivider')\n",
    "    True\n",
    "    \"\"\"\n",
    "    r = s[::-1]\n",
    "    return s == r\n",
    "\n",
    "doctest.run_docstring_examples(is_palindrome, globals())"
   ]
  },
  {
   "cell_type": "markdown",
   "metadata": {},
   "source": [
    "### Ignore case"
   ]
  },
  {
   "cell_type": "code",
   "execution_count": 53,
   "metadata": {
    "collapsed": true
   },
   "outputs": [],
   "source": [
    "import doctest\n",
    "\n",
    "def is_palindrome(s):\n",
    "    \"\"\"\n",
    "    >>> palindrome('divide')\n",
    "    False\n",
    "    >>> palindrome('redivider')\n",
    "    True\n",
    "    >>> palindrome('Bob')\n",
    "    True\n",
    "    \"\"\"\n",
    "    r = s[::-1]\n",
    "    return s.upper() == r.upper()\n",
    "\n",
    "doctest.run_docstring_examples(is_palindrome, globals())"
   ]
  },
  {
   "cell_type": "markdown",
   "metadata": {},
   "source": [
    "### Ignore punctuation\n",
    "\n",
    "This implementation is slightly different from the version in class."
   ]
  },
  {
   "cell_type": "code",
   "execution_count": 54,
   "metadata": {
    "collapsed": true
   },
   "outputs": [],
   "source": [
    "import doctest\n",
    "\n",
    "def is_palindrome(s):\n",
    "    \"\"\"\n",
    "    >>> is_palindrome('divide')\n",
    "    False\n",
    "    >>> is_palindrome('redivider')\n",
    "    True\n",
    "    >>> is_palindrome('Bob')\n",
    "    True\n",
    "    >>> is_palindrome('Re-divider')\n",
    "    True\n",
    "    \"\"\"\n",
    "    # Remove each punctuation character from s, and assign the new value to s.\n",
    "    for c in set(s):\n",
    "        if is_punct(c):\n",
    "            s = s.replace(c, '')\n",
    "    r = s[::-1]\n",
    "    return s.upper() == r.upper()\n",
    "\n",
    "doctest.run_docstring_examples(is_palindrome, globals())"
   ]
  },
  {
   "cell_type": "markdown",
   "metadata": {},
   "source": [
    "## Using Recursion"
   ]
  },
  {
   "cell_type": "code",
   "execution_count": 56,
   "metadata": {
    "collapsed": true
   },
   "outputs": [],
   "source": [
    "import doctest\n",
    "\n",
    "def palindrome(s):\n",
    "    \"\"\"\n",
    "    >>> is_palindrome('divide')\n",
    "    False\n",
    "    >>> is_palindrome('redivider')\n",
    "    True\n",
    "    \"\"\"\n",
    "    if len(s) == 0:\n",
    "        return True\n",
    "    if len(s) == 1:\n",
    "        return True\n",
    "    if s[0] != s[-1]:\n",
    "        return False\n",
    "    return is_palindrome(s[1:-1])\n",
    "\n",
    "doctest.run_docstring_examples(is_palindrome, globals())"
   ]
  },
  {
   "cell_type": "markdown",
   "metadata": {},
   "source": [
    "### Recursion – ignoring case"
   ]
  },
  {
   "cell_type": "code",
   "execution_count": 57,
   "metadata": {},
   "outputs": [],
   "source": [
    "import doctest\n",
    "\n",
    "def is_palindrome(s):\n",
    "    \"\"\"\n",
    "    >>> is_palindrome('divide')\n",
    "    False\n",
    "    >>> is_palindrome('redivider')\n",
    "    True\n",
    "    >>> is_palindrome('Bob')\n",
    "    True\n",
    "    \"\"\"\n",
    "    if len(s) == 0:\n",
    "        return True\n",
    "    if len(s) == 1:\n",
    "        return True\n",
    "    if s[0].upper() != s[-1].upper():\n",
    "        return False\n",
    "    return palindrome(s[1:-1])\n",
    "\n",
    "doctest.run_docstring_examples(is_palindrome, globals())"
   ]
  },
  {
   "cell_type": "markdown",
   "metadata": {},
   "source": [
    "### Recursion – ignore punctuation"
   ]
  },
  {
   "cell_type": "code",
   "execution_count": 58,
   "metadata": {
    "collapsed": true
   },
   "outputs": [],
   "source": [
    "import doctest\n",
    "\n",
    "def is_palindrome(s):\n",
    "    \"\"\"\n",
    "    >>> is_palindrome('divide')\n",
    "    False\n",
    "    >>> is_palindrome('redivider')\n",
    "    True\n",
    "    >>> is_palindrome('Bob')\n",
    "    True\n",
    "    >>> is_palindrome('Re-divider')\n",
    "    True\n",
    "    \"\"\"\n",
    "    if len(s) <= 1:\n",
    "        return True\n",
    "    if is_punct(s[0]):\n",
    "        return is_palindrome(s[1:])\n",
    "    if is_punct(s[-1]):\n",
    "        return is_palindrome(s[:-1])\n",
    "    if s[0].upper() != s[-1].upper():\n",
    "        return False\n",
    "    return is_palindrome(s[1:-1])\n",
    "\n",
    "doctest.run_docstring_examples(is_palindrome, globals())"
   ]
  }
 ],
 "metadata": {
  "anaconda-cloud": {},
  "kernelspec": {
   "display_name": "Python 3",
   "language": "python",
   "name": "python3"
  },
  "language_info": {
   "codemirror_mode": {
    "name": "ipython",
    "version": 3
   },
   "file_extension": ".py",
   "mimetype": "text/x-python",
   "name": "python",
   "nbconvert_exporter": "python",
   "pygments_lexer": "ipython3",
   "version": "3.5.2"
  }
 },
 "nbformat": 4,
 "nbformat_minor": 2
}

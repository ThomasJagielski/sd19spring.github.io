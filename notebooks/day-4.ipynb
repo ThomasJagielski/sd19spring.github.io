{
 "cells": [
  {
   "cell_type": "markdown",
   "metadata": {},
   "source": [
    "# Day 4 Notes"
   ]
  },
  {
   "cell_type": "markdown",
   "metadata": {},
   "source": [
    "## `has_triangle`, the hard way"
   ]
  },
  {
   "cell_type": "markdown",
   "metadata": {},
   "source": [
    "We're asked to write a function that returns True iff either of two triplets is a triangle.\n",
    "\n",
    "`is_triangle` does something close to what we want. We'll use it for reference."
   ]
  },
  {
   "cell_type": "code",
   "execution_count": null,
   "metadata": {
    "collapsed": false,
    "scrolled": true
   },
   "outputs": [],
   "source": [
    "def is_triangle(a, b, c):\n",
    "    if a > b + c:\n",
    "        return False\n",
    "    if b > a + c:\n",
    "        return False\n",
    "    if c > a + b:\n",
    "        return False\n",
    "    return True"
   ]
  },
  {
   "cell_type": "markdown",
   "metadata": {},
   "source": [
    "Now incorporate two copies of `is_triangle` into our new function:"
   ]
  },
  {
   "cell_type": "code",
   "execution_count": 78,
   "metadata": {
    "collapsed": false,
    "scrolled": false
   },
   "outputs": [
    {
     "name": "stdout",
     "output_type": "stream",
     "text": [
      "**********************************************************************\n",
      "File \"__main__\", line 5, in NoName\n",
      "Failed example:\n",
      "    has_triangles(3, 4, 5, 6)\n",
      "Expected:\n",
      "    True\n",
      "Got nothing\n",
      "**********************************************************************\n",
      "File \"__main__\", line 7, in NoName\n",
      "Failed example:\n",
      "    has_triangles(10, 4, 5, 6)\n",
      "Expected nothing\n",
      "Got:\n",
      "    False\n"
     ]
    }
   ],
   "source": [
    "import doctest\n",
    "\n",
    "def has_triangles_1(a, b, c, d):\n",
    "    \"\"\"Return true iff either of (a, b, c) and (b, c, d) is a triangle.\n",
    "    >>> has_triangles(3, 4, 5, 6)\n",
    "    True\n",
    "    >>> has_triangles(10, 4, 5, 6)\n",
    "    \"\"\"\n",
    "    # first copy of is_triangle; tests a, b, c\n",
    "    if a > b + c:\n",
    "        return False\n",
    "    if b > a + c:\n",
    "        return False\n",
    "    if c > a + b:\n",
    "        return False\n",
    "    # second copy of is_triangle; tests b, c, d\n",
    "    if b > c + d:\n",
    "        return False\n",
    "    if c > b + d:\n",
    "        return False\n",
    "    if d > b + c:\n",
    "        return False\n",
    "    return True\n",
    "\n",
    "doctest.run_docstring_examples(has_triangles_1, globals())"
   ]
  },
  {
   "cell_type": "markdown",
   "metadata": {},
   "source": [
    "Oops! The implementation above returns True if *both* (a, b, c), (b, c, d) are triangles,\n",
    "instead of if *either* of these is a triangle.\n",
    "\n",
    "You might be able to see in the code that it returns False if *either* triplet is *not* a triangle.\n",
    "\n",
    "Returning False iff either of two things is False, is the same as returning True iff both those things are True. [[De Morgan's Law](https://en.wikipedia.org/wiki/De_Morgan's_laws)].\n",
    "\n",
    "This is difficult to fix starting from the implementation of `is_triangle` above, because it returns out of the whole function as soon as it detects a triangle violation.\n",
    "\n",
    "We'll modify `is_triangle` to remember its result into a variable instead of returning right away. This will be easier to work with."
   ]
  },
  {
   "cell_type": "code",
   "execution_count": null,
   "metadata": {
    "collapsed": true
   },
   "outputs": [],
   "source": [
    "def is_triangle_2(a, b, c):\n",
    "    result = True\n",
    "    if a > b + c:\n",
    "        return result\n",
    "    if b > a + c:\n",
    "        return result\n",
    "    if c > a + b:\n",
    "        return result\n",
    "    return result"
   ]
  },
  {
   "cell_type": "code",
   "execution_count": null,
   "metadata": {
    "collapsed": true
   },
   "outputs": [],
   "source": [
    "def has_triangles_2(a, b, c, d):\n",
    "    \"\"\"Return true iff either of (a, b, c) and (b, c, d) is a triangle.\n",
    "    >>> has_triangles(3, 4, 5, 6)\n",
    "    True\n",
    "    >>> has_triangles(10, 4, 5, 6)\n",
    "    False\n",
    "    \"\"\"\n",
    "    # first copy of the new is_triangle\n",
    "    tri1 = True\n",
    "    if a > b + c:\n",
    "        tri1 = False\n",
    "    if b > a + c:\n",
    "        tri1 = False\n",
    "    if c > a + b:\n",
    "        tri1 = False\n",
    "    # second copy\n",
    "    tri2 = True\n",
    "    if b > c + d:\n",
    "        return tri2\n",
    "    if c > b + d:\n",
    "        return tri2\n",
    "    if d > b + c:\n",
    "        return tri2\n",
    "    return tri1 and tri2"
   ]
  },
  {
   "cell_type": "markdown",
   "metadata": {},
   "source": [
    "`has_triangles_2` is functionally identical to `has_triangles_1`. It doesn't fix the bug. It is, however, easier to work with.\n",
    "\n",
    "In particular, now we can change the final `and` to `or`."
   ]
  },
  {
   "cell_type": "code",
   "execution_count": 82,
   "metadata": {
    "collapsed": false
   },
   "outputs": [
    {
     "name": "stdout",
     "output_type": "stream",
     "text": [
      "**********************************************************************\n",
      "File \"__main__\", line 3, in NoName\n",
      "Failed example:\n",
      "    has_triangles(3, 4, 5, 6)\n",
      "Expected:\n",
      "    True\n",
      "Got nothing\n"
     ]
    }
   ],
   "source": [
    "def has_triangles_2(a, b, c, d):\n",
    "    \"\"\"Return true iff either of (a, b, c) and (b, c, d) is a triangle.\n",
    "    >>> has_triangles(3, 4, 5, 6)\n",
    "    True\n",
    "    >>> has_triangles(10, 4, 5, 6)\n",
    "    False\n",
    "    \"\"\"\n",
    "    # first copy of the new is_triangle\n",
    "    tri1 = True\n",
    "    if a > b + c:\n",
    "        tri1 = False\n",
    "    if b > a + c:\n",
    "        tri1 = False\n",
    "    if c > a + b:\n",
    "        tri1 = False\n",
    "    # second copy\n",
    "    tri2 = True\n",
    "    if b > c + d:\n",
    "        tri2 = False\n",
    "    if c > b + d:\n",
    "        tri2 = False\n",
    "    if d > b + c:\n",
    "        tri2 = False\n",
    "    # now combine them\n",
    "    return tri1 and tri2\n",
    "\n",
    "doctest.run_docstring_examples(has_triangles_2, globals())"
   ]
  },
  {
   "cell_type": "markdown",
   "metadata": {},
   "source": [
    "`has_triangles_2` fixes the problem for the computer, but not for the human. It's still difficult to read. It's therefore difficult to match up the implementation against the specification; and it's difficult to test. (There's a lot of different paths the code could take, and it's effortful to construct test cases for them all.)\n",
    "\n",
    "Instead of using the original `is_triangle` to copy from, we can simply call it."
   ]
  },
  {
   "cell_type": "code",
   "execution_count": null,
   "metadata": {
    "collapsed": true
   },
   "outputs": [],
   "source": [
    "def has_triangles_3(a, b, c, d):\n",
    "    tri1 = is_triangle_1(a, b, c)\n",
    "    tri2 = is_triangle_1(b, c, d)\n",
    "    return tri1 and tri2"
   ]
  },
  {
   "cell_type": "markdown",
   "metadata": {},
   "source": [
    "Or eliminate the temporary variables:"
   ]
  },
  {
   "cell_type": "code",
   "execution_count": null,
   "metadata": {
    "collapsed": true
   },
   "outputs": [],
   "source": [
    "def has_triangles_4(a, b, c, d):\n",
    "    return is_triangle(a, b, c) and is_triangle(b, c, d)"
   ]
  },
  {
   "cell_type": "code",
   "execution_count": null,
   "metadata": {
    "collapsed": true
   },
   "outputs": [],
   "source": [
    "## Lists and `for`"
   ]
  },
  {
   "cell_type": "code",
   "execution_count": 83,
   "metadata": {
    "collapsed": true
   },
   "outputs": [],
   "source": [
    "def contains_triangle(triplets):\n",
    "    \"\"\"Returns true if any of triplets is the sides of a triangle.\n",
    "    \n",
    "    Triplets is a list of triples. Each triple is a list of three numbers.\n",
    "    Example:\n",
    "    >>> contains_triangle([[10, 2, 3]])\n",
    "    False\n",
    "    >>> contains_triangle([[10, 2, 3], [4, 5, 6]])\n",
    "    True\n",
    "    \"\"\"\n",
    "    for triplet in triplets:\n",
    "        a = triplet[0]\n",
    "        b = triplet[1]\n",
    "        c = triplet[2]\n",
    "        if is_triangle(a, b, c):\n",
    "            return True\n",
    "    return False\n",
    "\n",
    "doctest.run_docstring_examples(contains_triangle, globals())"
   ]
  },
  {
   "cell_type": "markdown",
   "metadata": {},
   "source": [
    "## Code Golfing `is_triangle`"
   ]
  },
  {
   "cell_type": "code",
   "execution_count": 77,
   "metadata": {
    "collapsed": false
   },
   "outputs": [
    {
     "data": {
      "text/plain": [
       "True"
      ]
     },
     "execution_count": 77,
     "metadata": {},
     "output_type": "execute_result"
    }
   ],
   "source": [
    "# as presented\n",
    "def is_triangle(a, b, c):\n",
    "    if a > b + c:\n",
    "        return False\n",
    "    if b > a + c:\n",
    "        return False\n",
    "    if c > a + b:\n",
    "        return False\n",
    "    return True\n",
    "\n",
    "# ->\n",
    "\n",
    "def is_triangle(a, b, c):\n",
    "    return not (a > b + c) and not (b > a + c) and not (c > a + b)\n",
    "\n",
    "# ->\n",
    "\n",
    "def is_triangle(a, b, c):\n",
    "    return a <= b + c and b <= a + c and c <= a + b\n",
    "\n",
    "is_triangle(3, 4, 5)"
   ]
  },
  {
   "cell_type": "code",
   "execution_count": 59,
   "metadata": {
    "collapsed": false
   },
   "outputs": [
    {
     "data": {
      "text/plain": [
       "True"
      ]
     },
     "execution_count": 59,
     "metadata": {},
     "output_type": "execute_result"
    }
   ],
   "source": [
    "def has_triangle(a, b, c, d):\n",
    "    \"\"\"Return true if either or both (a, b, c) or (b, c, d) is a triangle.\"\"\"\n",
    "    # Return true if (a, b, c) and (b, c, d) are both triangle.\n",
    "    tri1 = is_triangle(a, b, c)\n",
    "    tri2 = is_triangle(b, c, d)\n",
    "    return tri1 or tri2\n",
    "\n",
    "# has_triangle(3, 4, 5, 6)\n",
    "\n",
    "has_triangle(10, 4, 5, 6)"
   ]
  },
  {
   "cell_type": "code",
   "execution_count": 72,
   "metadata": {
    "collapsed": false
   },
   "outputs": [
    {
     "data": {
      "text/plain": [
       "True"
      ]
     },
     "execution_count": 72,
     "metadata": {},
     "output_type": "execute_result"
    }
   ],
   "source": [
    "def contains_triangle(triples):\n",
    "    \"\"\"Return true if any of the triples is a triangle.\"\"\"\n",
    "    for a, b, c in triples:\n",
    "        if is_triangle(a, b, c):\n",
    "            return True\n",
    "    return False\n",
    "\n",
    "contains_triangle([[1, 1, 3], [3, 4, 5]])"
   ]
  },
  {
   "cell_type": "code",
   "execution_count": null,
   "metadata": {
    "collapsed": true
   },
   "outputs": [],
   "source": [
    "# Code-Golfing contains_triangle"
   ]
  },
  {
   "cell_type": "code",
   "execution_count": 83,
   "metadata": {
    "collapsed": true
   },
   "outputs": [],
   "source": [
    "def contains_triangle(triplets):\n",
    "    for triplet in triplets:\n",
    "        a, b, c = triplet[0]\n",
    "        if is_triangle(a, b, c):\n",
    "            return True\n",
    "    return False"
   ]
  },
  {
   "cell_type": "code",
   "execution_count": 83,
   "metadata": {
    "collapsed": true
   },
   "outputs": [],
   "source": [
    "def contains_triangle(triplets):\n",
    "    for triplet in triplets:\n",
    "        if is_triangle(triplet[0], triplet[1], triplet[2]):\n",
    "            return True\n",
    "    return False"
   ]
  },
  {
   "cell_type": "markdown",
   "metadata": {},
   "source": [
    "### Code-Golfing using advanced techniques"
   ]
  },
  {
   "cell_type": "markdown",
   "metadata": {},
   "source": [
    "Using a \"starred expression\", to unpack the elements in a list (triplets) into individual values that are successive arguments to `is_triangle`.\n",
    "\n",
    "[In other languages you may see this called \"spread\", \"splat\", \"argument unpacking\", or \"variadic arguments\".]"
   ]
  },
  {
   "cell_type": "code",
   "execution_count": 83,
   "metadata": {
    "collapsed": true
   },
   "outputs": [],
   "source": [
    "def contains_triangle(triplets):\n",
    "    for triplet in triplets:\n",
    "        if is_triangle(*triplet):\n",
    "            return True\n",
    "    return False"
   ]
  },
  {
   "cell_type": "markdown",
   "metadata": {},
   "source": [
    "Using the `any` function, and a [generator comprehension](https://www.python.org/dev/peps/pep-0289/):"
   ]
  },
  {
   "cell_type": "code",
   "execution_count": null,
   "metadata": {
    "collapsed": true
   },
   "outputs": [],
   "source": [
    "def contains_triangle(triplets):\n",
    "    return any(is_triangle(a, b, c) for a, b, c in triplets)"
   ]
  },
  {
   "cell_type": "markdown",
   "metadata": {},
   "source": [
    "Starred expression together with a generator comprehension:"
   ]
  },
  {
   "cell_type": "code",
   "execution_count": null,
   "metadata": {
    "collapsed": true
   },
   "outputs": [],
   "source": [
    "def contains_triangle(triplets):\n",
    "    return any(is_triangle(*triplet) for triplet in triplets)"
   ]
  },
  {
   "cell_type": "markdown",
   "metadata": {},
   "source": [
    "Now let's code-golf `is_triangle`. (Conceptually) unpacking this is left as an exercise for the reader.\n",
    "\n",
    "I've changed the signature of `is_triangle` to take a triple instead of three separate sides. You could use the original signature by starting each of these with:\n",
    "\n",
    "    def  is_triangle(a, b, c):\n",
    "        sides = [a, b, c]\n",
    "        …"
   ]
  },
  {
   "cell_type": "code",
   "execution_count": 92,
   "metadata": {
    "collapsed": false
   },
   "outputs": [],
   "source": [
    "def is_triangle(a, b, c):\n",
    "    \"\"\"Return true iff either of (a, b, c) and (b, c, d) is a triangle.\n",
    "    >>> is_triangle(3, 4, 5)\n",
    "    True\n",
    "    >>> is_triangle(10, 4, 5)\n",
    "    False\n",
    "    \"\"\"\n",
    "    sides = [a, b, c]\n",
    "    # The following overwrites the original parameter values of a, b, c.\n",
    "    # We are very far from readable code at this point anyway…\n",
    "    for i, a in enumerate(sides):\n",
    "        b, c = sides[:i] + sides[i + 1:]\n",
    "        if a > b + c:\n",
    "            return False\n",
    "    return True\n",
    "    \n",
    "doctest.run_docstring_examples(is_triangle, globals())"
   ]
  },
  {
   "cell_type": "code",
   "execution_count": 93,
   "metadata": {
    "collapsed": false
   },
   "outputs": [],
   "source": [
    "def is_triangle(a, b, c):\n",
    "    \"\"\"Return true iff either of (a, b, c) and (b, c, d) is a triangle.\n",
    "    >>> is_triangle(3, 4, 5)\n",
    "    True\n",
    "    >>> is_triangle(10, 4, 5)\n",
    "    False\n",
    "    \"\"\"\n",
    "    sides = [a, b, c]\n",
    "    return all(a <= b + c\n",
    "               for i, a in enumerate(sides)\n",
    "               for b, c in [sides[:i] + sides[i + 1:]])\n",
    "    \n",
    "doctest.run_docstring_examples(is_triangle, globals())"
   ]
  },
  {
   "cell_type": "code",
   "execution_count": 97,
   "metadata": {
    "collapsed": false
   },
   "outputs": [],
   "source": [
    "import itertools\n",
    "\n",
    "def is_triangle(a, b, c):\n",
    "    \"\"\"Return true iff either of (a, b, c) and (b, c, d) is a triangle.\n",
    "    >>> is_triangle(3, 4, 5)\n",
    "    True\n",
    "    >>> is_triangle(10, 4, 5)\n",
    "    False\n",
    "    \"\"\"\n",
    "    return all(a <= b + c for a, b, c in itertools.permutations([a, b, c]))\n",
    "    \n",
    "doctest.run_docstring_examples(is_triangle, globals())"
   ]
  }
 ],
 "metadata": {
  "anaconda-cloud": {},
  "kernelspec": {
   "display_name": "Python [default]",
   "language": "python",
   "name": "python3"
  },
  "language_info": {
   "codemirror_mode": {
    "name": "ipython",
    "version": 3
   },
   "file_extension": ".py",
   "mimetype": "text/x-python",
   "name": "python",
   "nbconvert_exporter": "python",
   "pygments_lexer": "ipython3",
   "version": "3.5.2"
  }
 },
 "nbformat": 4,
 "nbformat_minor": 2
}

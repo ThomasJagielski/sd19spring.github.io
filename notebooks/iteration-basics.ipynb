{
 "cells": [
  {
   "cell_type": "markdown",
   "metadata": {},
   "source": [
    "# Iteration Basics\n",
    "\n",
    "> From copy/paste to `for`*"
   ]
  },
  {
   "cell_type": "markdown",
   "metadata": {},
   "source": [
    "## Replacing Repeated Code by `for`"
   ]
  },
  {
   "cell_type": "markdown",
   "metadata": {},
   "source": [
    "The following code prints all the characters of a string, one per line:"
   ]
  },
  {
   "cell_type": "code",
   "execution_count": 1,
   "metadata": {
    "scrolled": true
   },
   "outputs": [
    {
     "name": "stdout",
     "output_type": "stream",
     "text": [
      "飛\n",
      "ぶ\n",
      "火\n",
      "鳥\n"
     ]
    }
   ],
   "source": [
    "text = \"飛ぶ火鳥\"\n",
    "\n",
    "print(text[0])\n",
    "print(text[1])\n",
    "print(text[2])\n",
    "print(text[3])"
   ]
  },
  {
   "cell_type": "markdown",
   "metadata": {},
   "source": [
    "Now let's replace \"飛ぶ火鳥\" by a longer string:"
   ]
  },
  {
   "cell_type": "code",
   "execution_count": 5,
   "metadata": {
    "scrolled": true
   },
   "outputs": [
    {
     "name": "stdout",
     "output_type": "stream",
     "text": [
      "火\n",
      "鳥\n",
      "が\n",
      "飛\n"
     ]
    }
   ],
   "source": [
    "text = \"火鳥が飛んでいる\"\n",
    "\n",
    "print(text[0])\n",
    "print(text[1])\n",
    "print(text[2])\n",
    "print(text[3])"
   ]
  },
  {
   "cell_type": "markdown",
   "metadata": {},
   "source": [
    "This didn't quite work. It only printed the first four characters.\n",
    "\n",
    "We added characters to the data, so we need to add lines to the code:"
   ]
  },
  {
   "cell_type": "code",
   "execution_count": 1,
   "metadata": {
    "scrolled": true
   },
   "outputs": [
    {
     "name": "stdout",
     "output_type": "stream",
     "text": [
      "火\n",
      "鳥\n",
      "が\n",
      "飛\n",
      "ん\n",
      "で\n",
      "い\n",
      "る\n"
     ]
    }
   ],
   "source": [
    "text = \"火鳥が飛んでいる\"\n",
    "\n",
    "print(text[0])\n",
    "print(text[1])\n",
    "print(text[2])\n",
    "print(text[3])\n",
    "print(text[4])\n",
    "print(text[5])\n",
    "print(text[6])\n",
    "print(text[7])"
   ]
  },
  {
   "cell_type": "markdown",
   "metadata": {},
   "source": [
    "This is inconvenient. Each time we change the data, we have to change the code."
   ]
  },
  {
   "cell_type": "markdown",
   "metadata": {},
   "source": [
    "A `for` loop lets you write code that works with different lengths of data. Note that the code in the following two cells is the same. When it's run, it \"re-shapes\" itself to the data."
   ]
  },
  {
   "cell_type": "code",
   "execution_count": 2,
   "metadata": {
    "scrolled": true
   },
   "outputs": [
    {
     "name": "stdout",
     "output_type": "stream",
     "text": [
      "飛\n",
      "ぶ\n",
      "火\n",
      "鳥\n"
     ]
    }
   ],
   "source": [
    "text = \"飛ぶ火鳥\"\n",
    "\n",
    "for c in text:\n",
    "    print(c)"
   ]
  },
  {
   "cell_type": "code",
   "execution_count": 3,
   "metadata": {
    "scrolled": true
   },
   "outputs": [
    {
     "name": "stdout",
     "output_type": "stream",
     "text": [
      "火\n",
      "鳥\n",
      "が\n",
      "飛\n",
      "ん\n",
      "で\n",
      "い\n",
      "る\n"
     ]
    }
   ],
   "source": [
    "text = \"火鳥が飛んでいる\"\n",
    "\n",
    "for c in text:\n",
    "    print(c)"
   ]
  },
  {
   "cell_type": "markdown",
   "metadata": {},
   "source": [
    "## An Equivalence"
   ]
  },
  {
   "cell_type": "markdown",
   "metadata": {},
   "source": [
    "`for c in text` is the same as doing this:"
   ]
  },
  {
   "cell_type": "code",
   "execution_count": 4,
   "metadata": {
    "scrolled": false
   },
   "outputs": [
    {
     "name": "stdout",
     "output_type": "stream",
     "text": [
      "飛\n",
      "ぶ\n",
      "火\n",
      "鳥\n"
     ]
    }
   ],
   "source": [
    "text = \"飛ぶ火鳥\"\n",
    "\n",
    "c = text[0]\n",
    "print(c)\n",
    "c = text[1]\n",
    "print(c)\n",
    "c = text[2]\n",
    "print(c)\n",
    "c = text[3]\n",
    "print(c)"
   ]
  },
  {
   "cell_type": "markdown",
   "metadata": {},
   "source": [
    "except that with the `for` loop, Python figures out, while the program is running, how many times to repeat the\n",
    "\n",
    "```python\n",
    "c = text[…]\n",
    "print(c)\n",
    "```\n",
    "\n",
    "block based on the length of `text`."
   ]
  },
  {
   "cell_type": "markdown",
   "metadata": {},
   "source": [
    "## From `while` to `for`"
   ]
  },
  {
   "cell_type": "markdown",
   "metadata": {},
   "source": [
    "The following three programs are functionally equivalent.\n",
    "\n",
    "See \"Iteration Example\" for an explanation of `range`, and discussion of the advantages of `for` over `while`."
   ]
  },
  {
   "cell_type": "code",
   "execution_count": 7,
   "metadata": {
    "scrolled": true
   },
   "outputs": [
    {
     "name": "stdout",
     "output_type": "stream",
     "text": [
      "飛\n",
      "ぶ\n",
      "火\n",
      "鳥\n"
     ]
    }
   ],
   "source": [
    "text = \"飛ぶ火鳥\"\n",
    "\n",
    "i = 0\n",
    "while i < len(text):\n",
    "    c = text[i]\n",
    "    print(c)\n",
    "    i = i + 1"
   ]
  },
  {
   "cell_type": "markdown",
   "metadata": {},
   "source": [
    "Replacing `while` by `for`:"
   ]
  },
  {
   "cell_type": "code",
   "execution_count": 7,
   "metadata": {
    "scrolled": false
   },
   "outputs": [
    {
     "name": "stdout",
     "output_type": "stream",
     "text": [
      "飛\n",
      "ぶ\n",
      "火\n",
      "鳥\n"
     ]
    }
   ],
   "source": [
    "text = \"飛ぶ火鳥\"\n",
    "\n",
    "for i in range(len(text)):\n",
    "    c = text[i]\n",
    "    print(c)"
   ]
  },
  {
   "cell_type": "markdown",
   "metadata": {},
   "source": [
    "Iterating directly over the characters, instead of over the indices:"
   ]
  },
  {
   "cell_type": "code",
   "execution_count": 2,
   "metadata": {
    "scrolled": false
   },
   "outputs": [
    {
     "name": "stdout",
     "output_type": "stream",
     "text": [
      "飛\n",
      "ぶ\n",
      "火\n",
      "鳥\n"
     ]
    }
   ],
   "source": [
    "text = \"飛ぶ火鳥\"\n",
    "\n",
    "for c in text:\n",
    "    print(c)"
   ]
  },
  {
   "cell_type": "markdown",
   "metadata": {},
   "source": [
    "## Using `enumerate` to read both the index and the item"
   ]
  },
  {
   "cell_type": "markdown",
   "metadata": {},
   "source": [
    "The following programs are all functionally equivalent.\n",
    "\n",
    "See \"Iteration Example\" for an explanation of `enumerate`."
   ]
  },
  {
   "cell_type": "code",
   "execution_count": 8,
   "metadata": {
    "scrolled": true
   },
   "outputs": [
    {
     "name": "stdout",
     "output_type": "stream",
     "text": [
      "0 飛\n",
      "1 ぶ\n",
      "2 火\n",
      "3 鳥\n"
     ]
    }
   ],
   "source": [
    "text = \"飛ぶ火鳥\"\n",
    "\n",
    "i = 0\n",
    "while i < len(text):\n",
    "    c = text[i]\n",
    "    print(i, c)\n",
    "    i = i + 1"
   ]
  },
  {
   "cell_type": "code",
   "execution_count": 9,
   "metadata": {
    "scrolled": true
   },
   "outputs": [
    {
     "name": "stdout",
     "output_type": "stream",
     "text": [
      "0 飛\n",
      "1 ぶ\n",
      "2 火\n",
      "3 鳥\n"
     ]
    }
   ],
   "source": [
    "text = \"飛ぶ火鳥\"\n",
    "\n",
    "for i in range(len(text)):\n",
    "    c = text[i]\n",
    "    print(i, c)"
   ]
  },
  {
   "cell_type": "code",
   "execution_count": 10,
   "metadata": {
    "scrolled": true
   },
   "outputs": [
    {
     "name": "stdout",
     "output_type": "stream",
     "text": [
      "0 飛\n",
      "1 ぶ\n",
      "2 火\n",
      "3 鳥\n"
     ]
    }
   ],
   "source": [
    "text = \"飛ぶ火鳥\"\n",
    "\n",
    "for i_c in enumerate(text):\n",
    "    i = i_c[0]\n",
    "    c = i_c[1]\n",
    "    print(i, c)"
   ]
  },
  {
   "cell_type": "code",
   "execution_count": 12,
   "metadata": {
    "scrolled": true
   },
   "outputs": [
    {
     "name": "stdout",
     "output_type": "stream",
     "text": [
      "0 飛\n",
      "1 ぶ\n",
      "2 火\n",
      "3 鳥\n"
     ]
    }
   ],
   "source": [
    "text = \"飛ぶ火鳥\"\n",
    "\n",
    "for i_c in enumerate(text):\n",
    "    i, c = i_c\n",
    "    print(i, c)"
   ]
  },
  {
   "cell_type": "code",
   "execution_count": 13,
   "metadata": {
    "scrolled": true
   },
   "outputs": [
    {
     "name": "stdout",
     "output_type": "stream",
     "text": [
      "0 飛\n",
      "1 ぶ\n",
      "2 火\n",
      "3 鳥\n"
     ]
    }
   ],
   "source": [
    "text = \"飛ぶ火鳥\"\n",
    "\n",
    "for i, c in enumerate(text):\n",
    "    print(i, c)"
   ]
  }
 ],
 "metadata": {
  "kernelspec": {
   "display_name": "Python 3",
   "language": "python",
   "name": "python3"
  },
  "language_info": {
   "codemirror_mode": {
    "name": "ipython",
    "version": 3
   },
   "file_extension": ".py",
   "mimetype": "text/x-python",
   "name": "python",
   "nbconvert_exporter": "python",
   "pygments_lexer": "ipython3",
   "version": "3.5.2"
  }
 },
 "nbformat": 4,
 "nbformat_minor": 2
}

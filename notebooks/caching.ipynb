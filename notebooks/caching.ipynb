{
 "cells": [
  {
   "cell_type": "markdown",
   "metadata": {},
   "source": [
    "# Caching web requests"
   ]
  },
  {
   "cell_type": "markdown",
   "metadata": {},
   "source": [
    "## HTTP requests (without caching)\n",
    "First import the [requests package](http://docs.python-requests.org/en/master/)."
   ]
  },
  {
   "cell_type": "code",
   "execution_count": 1,
   "metadata": {
    "collapsed": true
   },
   "outputs": [],
   "source": [
    "import requests"
   ]
  },
  {
   "cell_type": "markdown",
   "metadata": {},
   "source": [
    "## A diversion – one for the bugbook"
   ]
  },
  {
   "cell_type": "markdown",
   "metadata": {},
   "source": [
    "The following typo (`sofdes` for `softdes`, for a domain that doesn't exist) produced some error about address or nodeinfo the first time I ran it, and never terminated (Jupyter labels it with `In [*]`, where the `*` means \"curently executing\") each subsequent time. I'm adding both of those to my bug dictionary: \"if you see this symptom, it might be because you did a `request.get` on a domain name that doesn't exist\"."
   ]
  },
  {
   "cell_type": "code",
   "execution_count": null,
   "metadata": {},
   "outputs": [],
   "source": [
    "requests.get('https://sofdes.olin.build')"
   ]
  },
  {
   "cell_type": "markdown",
   "metadata": {},
   "source": [
    "## Back to the working request"
   ]
  },
  {
   "cell_type": "markdown",
   "metadata": {},
   "source": [
    "Fixed the URL (below). I'm only showing the first 500 characters of the response text."
   ]
  },
  {
   "cell_type": "code",
   "execution_count": 5,
   "metadata": {
    "scrolled": true
   },
   "outputs": [
    {
     "data": {
      "text/plain": [
       "'<!DOCTYPE html>\\n<html>\\n  <head>\\n    <meta charset=\"UTF-8\">\\n    <meta name=\"viewport\" content=\"width=device-width, initial-scale=1\">\\n\\n    <title>\\n      \\n         &middot; Software Design | Fall 2017\\n      \\n    </title>\\n\\n    <link rel=\"stylesheet\" href=\"https://unpkg.com/bulmaswatch/litera/bulmaswatch.min.css\">\\n    <link rel=\"stylesheet\" href=\"https://maxcdn.bootstrapcdn.com/font-awesome/4.7.0/css/font-awesome.min.css\">\\n    <script type=\"text/x-mathjax-config\">\\n  MathJax.Hub.Config({\\n    TeX: {\\n  '"
      ]
     },
     "execution_count": 5,
     "metadata": {},
     "output_type": "execute_result"
    }
   ],
   "source": [
    "requests.get('https://softdes.olin.build').text[:500]"
   ]
  },
  {
   "cell_type": "markdown",
   "metadata": {},
   "source": [
    "## Create cache and analyze functions"
   ]
  },
  {
   "cell_type": "markdown",
   "metadata": {},
   "source": [
    "Let's turn that expression into an `analyze_page` function, that takes the URL as a parameter."
   ]
  },
  {
   "cell_type": "code",
   "execution_count": 6,
   "metadata": {
    "scrolled": true
   },
   "outputs": [
    {
     "data": {
      "text/plain": [
       "'<!DOCTYPE html>\\n<html>\\n  <head>\\n    <meta charset=\"UTF-8\">\\n    <meta name=\"viewport\" content=\"width=device-width, initial-scale=1\">\\n\\n    <title>\\n      \\n         &middot; Software Design | Fall 2017\\n      \\n    </title>\\n\\n    <link rel=\"stylesheet\" href=\"https://unpkg.com/bulmaswatch/litera/bulmaswatch.min.css\">\\n    <link rel=\"stylesheet\" href=\"https://maxcdn.bootstrapcdn.com/font-awesome/4.7.0/css/font-awesome.min.css\">\\n    <script type=\"text/x-mathjax-config\">\\n  MathJax.Hub.Config({\\n    TeX: {\\n  '"
      ]
     },
     "execution_count": 6,
     "metadata": {},
     "output_type": "execute_result"
    }
   ],
   "source": [
    "def analyze_page(url):\n",
    "    return requests.get(url).text\n",
    "\n",
    "analyze_page('https://softdes.olin.build')[:500]"
   ]
  },
  {
   "cell_type": "markdown",
   "metadata": {},
   "source": [
    "…and actually do some analysis. (Here, just compute the length of the text.)"
   ]
  },
  {
   "cell_type": "code",
   "execution_count": 7,
   "metadata": {},
   "outputs": [
    {
     "data": {
      "text/plain": [
       "8552"
      ]
     },
     "execution_count": 7,
     "metadata": {},
     "output_type": "execute_result"
    }
   ],
   "source": [
    "def analyze_page(url):\n",
    "    return len(requests.get(url).text)\n",
    "\n",
    "analyze_page('https://softdes.olin.build')"
   ]
  },
  {
   "cell_type": "markdown",
   "metadata": {},
   "source": [
    "Introduce a temporary variable, and use it to factor the `requests.get(url).text` expression out from last line."
   ]
  },
  {
   "cell_type": "code",
   "execution_count": 8,
   "metadata": {},
   "outputs": [
    {
     "data": {
      "text/plain": [
       "8552"
      ]
     },
     "execution_count": 8,
     "metadata": {},
     "output_type": "execute_result"
    }
   ],
   "source": [
    "def analyze_page(url):\n",
    "    text = requests.get(url).text\n",
    "    return len(text)\n",
    "\n",
    "analyze_page('https://softdes.olin.build')"
   ]
  },
  {
   "cell_type": "markdown",
   "metadata": {},
   "source": [
    "Introduce a new function, and use it to factor the code that talks to the web out from the code that analyzes the responses.\n",
    "\n",
    "The function is *called* `cached_get` in anticipation of where we're going with it, but it doesn't yet do caching. The following code has the same *functionality* as the preceding code, it's just *organized* in a way that sets us up to to make the next change."
   ]
  },
  {
   "cell_type": "code",
   "execution_count": 9,
   "metadata": {},
   "outputs": [
    {
     "data": {
      "text/plain": [
       "8552"
      ]
     },
     "execution_count": 9,
     "metadata": {},
     "output_type": "execute_result"
    }
   ],
   "source": [
    "def cached_get(url):\n",
    "    return requests.get(url).text\n",
    "\n",
    "def analyze_page(url):\n",
    "    text = cached_get(url)\n",
    "    return len(text)\n",
    "\n",
    "analyze_page('https://softdes.olin.build')"
   ]
  },
  {
   "cell_type": "markdown",
   "metadata": {},
   "source": [
    "## Implement the cache"
   ]
  },
  {
   "cell_type": "markdown",
   "metadata": {},
   "source": [
    "Now we can get to work on actually adding the cache.\n",
    "\n",
    "The strategy is: create a dictionary whose keys are the function parameter value, and whose values are the function return values. For example, `cached_get` wraps a call to `requests.get(url).text` – it works with a dictionary whose keys are URLs, and whose values are the text responses to querying those URLs."
   ]
  },
  {
   "cell_type": "code",
   "execution_count": 10,
   "metadata": {},
   "outputs": [
    {
     "name": "stdout",
     "output_type": "stream",
     "text": [
      "cache miss\n",
      "cache miss\n"
     ]
    },
    {
     "data": {
      "text/plain": [
       "8552"
      ]
     },
     "execution_count": 10,
     "metadata": {},
     "output_type": "execute_result"
    }
   ],
   "source": [
    "def cached_get(url):\n",
    "    cached_urls = {}\n",
    "    if url in cached_urls:\n",
    "        print('cache hit')\n",
    "        return cached_urls[url]\n",
    "    else:\n",
    "        print('cache miss')\n",
    "        text = requests.get(url).text\n",
    "        cached_urls[url] = text\n",
    "        return text\n",
    "\n",
    "def analyze_page(url):\n",
    "    text = cached_get(url)\n",
    "    return len(text)\n",
    "\n",
    "analyze_page('https://softdes.olin.build')\n",
    "analyze_page('https://softdes.olin.build')"
   ]
  },
  {
   "cell_type": "markdown",
   "metadata": {},
   "source": [
    "The returned value indicates that `cached_get` returns the correct value. The `print` statements reveal that the caching code didn't work. Each call to `cached_get` results in a cache miss (and therefore a fresh call to `requests.get`).\n",
    "\n",
    "The issue is that `cached_urls` is local variable to `cached_get`. Each call to `cached_get` creates a new local frame with a new entry `cached_get`, and creates a new, empty dictionary to assign to that variable.\n",
    "\n",
    "We fix this by making `cached_urls` a global variable:"
   ]
  },
  {
   "cell_type": "code",
   "execution_count": 11,
   "metadata": {
    "scrolled": true
   },
   "outputs": [
    {
     "name": "stdout",
     "output_type": "stream",
     "text": [
      "cache miss\n",
      "cache hit\n"
     ]
    },
    {
     "data": {
      "text/plain": [
       "8552"
      ]
     },
     "execution_count": 11,
     "metadata": {},
     "output_type": "execute_result"
    }
   ],
   "source": [
    "cached_urls = {}\n",
    "\n",
    "def cached_get(url):\n",
    "    if url in cached_urls:\n",
    "        print('cache hit')\n",
    "        return cached_urls[url]\n",
    "    else:\n",
    "        print('cache miss')\n",
    "        text = requests.get(url).text\n",
    "        cached_urls[url] = text\n",
    "        return text\n",
    "\n",
    "def analyze_page(url):\n",
    "    text = cached_get(url)\n",
    "    return len(text)\n",
    "\n",
    "analyze_page('https://softdes.olin.build')\n",
    "analyze_page('https://softdes.olin.build')"
   ]
  },
  {
   "cell_type": "markdown",
   "metadata": {},
   "source": [
    "## A caveat about Jupyter"
   ]
  },
  {
   "cell_type": "markdown",
   "metadata": {},
   "source": [
    "The above is sufficient for a Python *script*.\n",
    "\n",
    "In Jupyter, each time I run the cell above, the first call to `analyze_page` is going to result in a cache miss. This is because running the cell assigns `cached_urls` from a new empty dict `{}`.\n",
    "\n",
    "If I'm iterating with `analyze_page` – modifying the function definition, running the cell again, and repeating – the caching doesn't buy me anything.\n",
    "\n",
    "Fix this by putting the definition of `cached_urls` in one cell, and the code you're iterating on in another cell that you can run separately. In class, I put `cached_urls` in a cell by itself, the idea being initialize the global variables in their own cell. Below, I've put `cached_urls` and `cached_get` in a cell together (that's separate from `analyze_page`, the idea being to put the caching layer in its own cell that's separate from the code that uses it."
   ]
  },
  {
   "cell_type": "code",
   "execution_count": null,
   "metadata": {
    "collapsed": true
   },
   "outputs": [],
   "source": [
    "cached_urls = {}\n",
    "\n",
    "def cached_get(url):\n",
    "    if url in cached_urls:\n",
    "        print('cache hit')\n",
    "        return cached_urls[url]\n",
    "    else:\n",
    "        print('cache miss')\n",
    "        text = requests.get(url).text\n",
    "        cached_urls[url] = text\n",
    "        return text"
   ]
  },
  {
   "cell_type": "code",
   "execution_count": 27,
   "metadata": {
    "scrolled": false
   },
   "outputs": [
    {
     "name": "stdout",
     "output_type": "stream",
     "text": [
      "cache hit\n"
     ]
    },
    {
     "data": {
      "text/plain": [
       "8552"
      ]
     },
     "execution_count": 27,
     "metadata": {},
     "output_type": "execute_result"
    }
   ],
   "source": [
    "def analyze_page(url):\n",
    "    text = cached_get(url)\n",
    "    return len(text)\n",
    "\n",
    "analyze_page('https://softdes.olin.build')"
   ]
  },
  {
   "cell_type": "markdown",
   "metadata": {},
   "source": [
    "## `cached_get` final touches"
   ]
  },
  {
   "cell_type": "markdown",
   "metadata": {},
   "source": [
    "Here's another implementation of `cached_get`."
   ]
  },
  {
   "cell_type": "code",
   "execution_count": null,
   "metadata": {
    "collapsed": true
   },
   "outputs": [],
   "source": [
    "cached_urls = {}\n",
    "\n",
    "def cached_get(url):\n",
    "    if url not in cached_urls:\n",
    "        print('cache miss')\n",
    "        text = requests.get(url).text\n",
    "        cached_urls[url] = text\n",
    "    return cached_urls[url]"
   ]
  },
  {
   "cell_type": "markdown",
   "metadata": {},
   "source": [
    "Finally, whichever version of `cached_get` I ended up with, I'd remove the `print` statements once I had it working."
   ]
  },
  {
   "cell_type": "code",
   "execution_count": null,
   "metadata": {
    "collapsed": true
   },
   "outputs": [],
   "source": [
    "cached_urls = {}\n",
    "\n",
    "def cached_get(url):\n",
    "    if url not in cached_urls:\n",
    "        text = requests.get(url).text\n",
    "        cached_urls[url] = text\n",
    "    return cached_urls[url]"
   ]
  },
  {
   "cell_type": "markdown",
   "metadata": {},
   "source": [
    "## More analysis"
   ]
  },
  {
   "cell_type": "markdown",
   "metadata": {},
   "source": [
    "This beefed-up `analyze_page` counts the number of (lowercase) `e`s. It gets to use the same cache."
   ]
  },
  {
   "cell_type": "code",
   "execution_count": 12,
   "metadata": {},
   "outputs": [
    {
     "name": "stdout",
     "output_type": "stream",
     "text": [
      "cache hit\n"
     ]
    },
    {
     "data": {
      "text/plain": [
       "329"
      ]
     },
     "execution_count": 12,
     "metadata": {},
     "output_type": "execute_result"
    }
   ],
   "source": [
    "def analyze_page(url):\n",
    "    text = cached_get(url)\n",
    "    n = 0\n",
    "    for c in text:\n",
    "        if c == 'e':\n",
    "            n += 1\n",
    "    return n\n",
    "#     return len(text)\n",
    "\n",
    "analyze_page('https://softdes.olin.build')"
   ]
  },
  {
   "cell_type": "markdown",
   "metadata": {},
   "source": [
    "Note that I left the original `return len(text)` line in, commented-out, as a reference to look at and easily revert to while I'm working on the lines that replace it. Once it's working, I would delete the commented-out lines."
   ]
  },
  {
   "cell_type": "markdown",
   "metadata": {},
   "source": [
    "In class, I modified `analyze_page` to return a table (dictionary) listing how many upper case, and how many lower case, `e`s are in the text. Here, I'm writing a new function that does this. `analyze_page` (above) and `count_some_vowels` (below) can share the same cache – once either function is called for a given URL, applying the other function to the same URL can use the value from the cache, instead of hitting the web again."
   ]
  },
  {
   "cell_type": "code",
   "execution_count": 30,
   "metadata": {},
   "outputs": [
    {
     "data": {
      "text/plain": [
       "{'E': 4, 'e': 329}"
      ]
     },
     "execution_count": 30,
     "metadata": {},
     "output_type": "execute_result"
    }
   ],
   "source": [
    "def analyze_page(url):\n",
    "    text = cached_get(url)\n",
    "    d = {'e': 0, 'E': 0}\n",
    "    for c in text:\n",
    "        if c in 'eE':\n",
    "            d[c] += 1\n",
    "    return d\n",
    "\n",
    "analyze_page('https://softdes.olin.build')"
   ]
  },
  {
   "cell_type": "markdown",
   "metadata": {},
   "source": [
    "## Caching and Pickle"
   ]
  },
  {
   "cell_type": "markdown",
   "metadata": {},
   "source": [
    "This concludes the material that was covered in class. This caches the value while the current Python session is running.\n",
    "\n",
    "To save the cache *between* sessions, you will need to save it to disk. The structure of your code would look something like:"
   ]
  },
  {
   "cell_type": "code",
   "execution_count": null,
   "metadata": {},
   "outputs": [],
   "source": [
    "import os\n",
    "import pickle\n",
    "\n",
    "cache_file_name = 'cache.pickle'\n",
    "cached_urls = {}\n",
    "if os.path.exists(cache_file_name):\n",
    "    # use pickle.load to load the cache from disk\n",
    "\n",
    "def cached_get(url):\n",
    "    if url not in cached_urls:\n",
    "        text = requests.get(url).text\n",
    "        cached_urls[url] = text\n",
    "        # use pickle.dump to save the cache to disk\n",
    "    return cached_urls[url]"
   ]
  }
 ],
 "metadata": {
  "anaconda-cloud": {},
  "kernelspec": {
   "display_name": "Python [default]",
   "language": "python",
   "name": "python3"
  },
  "language_info": {
   "codemirror_mode": {
    "name": "ipython",
    "version": 3
   },
   "file_extension": ".py",
   "mimetype": "text/x-python",
   "name": "python",
   "nbconvert_exporter": "python",
   "pygments_lexer": "ipython3",
   "version": "3.5.2"
  }
 },
 "nbformat": 4,
 "nbformat_minor": 2
}

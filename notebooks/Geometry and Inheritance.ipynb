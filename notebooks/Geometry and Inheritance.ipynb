{
 "cells": [
  {
   "cell_type": "code",
   "execution_count": 7,
   "metadata": {},
   "outputs": [
    {
     "data": {
      "text/plain": [
       "TestResults(failed=0, attempted=2)"
      ]
     },
     "execution_count": 7,
     "metadata": {},
     "output_type": "execute_result"
    }
   ],
   "source": [
    "class Rectangle(object):\n",
    "    def __init__(self, x1, y1, width, height):\n",
    "        self.x1 = x1\n",
    "        self.y1 = y1\n",
    "        self.width = width\n",
    "        self.height = height\n",
    "    \n",
    "    def get_area(self):\n",
    "        return w*h\n",
    "\n",
    "class Triangle(object):\n",
    "    def __init__(self, x1, y1, x2, y2, x3, y3):\n",
    "        self.x1 = x1\n",
    "        self.y1 = y1\n",
    "        self.x2 = x2\n",
    "        self.y2 = y2\n",
    "        self.x3 = x3\n",
    "        self.y3 = y3\n",
    "    \n",
    "    def get_area(self):\n",
    "        return 0.5*(-self.x2*self.y1 +\n",
    "                    self.x3*self.y1 +\n",
    "                    self.x1*self.y2 -\n",
    "                    self.x3*self.y2 -\n",
    "                    self.x1*self.y3 +\n",
    "                    self.x2*self.y3)\n",
    "\n",
    "class Square(object):\n",
    "    def __init__(self, x1, y1, side_length):\n",
    "        self.x1 = x1\n",
    "        self.y1 = y1\n",
    "        self.side_length = side_length\n",
    "    \n",
    "    def get_area(self):\n",
    "        return self.side_length**2\n",
    "\n",
    "class Polygon(object):\n",
    "    def __init__(self, vertices):\n",
    "        \"\"\" vertices must be in counterclockwise order \"\"\"\n",
    "        self.vertices = vertices\n",
    "    \n",
    "    def get_area(self):\n",
    "        \"\"\" Using formula from http://mathworld.wolfram.com/PolygonArea.html\n",
    "        \n",
    "        >>> p = Polygon([(0, 0), (200, 0), (200, 300), (0, 300)])\n",
    "        >>> p.get_area()\n",
    "        60000.0\n",
    "        \"\"\"\n",
    "        area = 0.0\n",
    "        for i, v_i in enumerate(self.vertices):\n",
    "            v_i = self.vertices[i]\n",
    "            v_i_plus_1 = self.vertices[(i+1) % len(self.vertices)]\n",
    "            area += 0.5*(v_i[0]*v_i_plus_1[1] - v_i[1]*v_i_plus_1[0])\n",
    "        return area\n",
    "\n",
    "import doctest\n",
    "doctest.testmod()"
   ]
  },
  {
   "cell_type": "code",
   "execution_count": null,
   "metadata": {
    "collapsed": true
   },
   "outputs": [],
   "source": []
  }
 ],
 "metadata": {
  "kernelspec": {
   "display_name": "Python 3",
   "language": "python",
   "name": "python3"
  },
  "language_info": {
   "codemirror_mode": {
    "name": "ipython",
    "version": 3
   },
   "file_extension": ".py",
   "mimetype": "text/x-python",
   "name": "python",
   "nbconvert_exporter": "python",
   "pygments_lexer": "ipython3",
   "version": "3.6.3"
  }
 },
 "nbformat": 4,
 "nbformat_minor": 2
}

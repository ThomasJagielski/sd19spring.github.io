{
 "cells": [
  {
   "cell_type": "markdown",
   "metadata": {},
   "source": [
    "# GeneFinder solutions"
   ]
  },
  {
   "cell_type": "markdown",
   "metadata": {},
   "source": [
    "Topics illustrated:\n",
    "* Adding minimal test cases\n",
    "* Coding convention for a fruitful function that sometimes returns None\n",
    "* Docstring style conventions (*not* used in the code that was given you)\n",
    "* Doctesting functions that return None\n",
    "* Global variables – when to use, how to name\n",
    "* Naming conventions for placeholder variables\n",
    "* Validating parameter values\n",
    "\n",
    "Upcoming material:\n",
    "* Dictionaries\n",
    "* Exceptions\n",
    "\n",
    "Advanced and optional topics:\n",
    "* List comprehensions\n",
    "* Regular expressions\n",
    "* Using `random.seed` to test functions that call `random`"
   ]
  },
  {
   "cell_type": "markdown",
   "metadata": {},
   "source": [
    "## `get_complement`"
   ]
  },
  {
   "cell_type": "markdown",
   "metadata": {},
   "source": [
    "This section discusses some implementations of `get_complement`, that use different techniques.\n",
    "\n",
    "I've ommitted part of all of the docstring in the later implementations.\n",
    "\n",
    "I've also corrected the docstring, which said \"complementary nucleotide nucleotide\". I've also changed it to conform to the [numpy docstring style guide](http://sphinxcontrib-napoleon.readthedocs.io/en/latest/example_numpy.html). You weren't expected to do that, but it was bugging me."
   ]
  },
  {
   "cell_type": "code",
   "execution_count": 30,
   "metadata": {},
   "outputs": [],
   "source": [
    "import doctest\n",
    "\n",
    "def get_complement(nucleotide):\n",
    "    \"\"\"Return the complementary nucleotide\n",
    "    \n",
    "    Parameters\n",
    "    ----------\n",
    "    nucleotide : string\n",
    "        A nucleotide (A, C, G, or T) represented as a string.\n",
    "    \n",
    "    Returns\n",
    "    -------\n",
    "    string\n",
    "        The complementary nucleotide.\n",
    "\n",
    "    Examples\n",
    "    -------\n",
    "    >>> get_complement('A')\n",
    "    'T'\n",
    "    >>> get_complement('C')\n",
    "    'G'\n",
    "    >>> get_complement('T')\n",
    "    'A'\n",
    "    >>> get_complement('G')\n",
    "    'C'\n",
    "    \"\"\"\n",
    "    if nucleotide == 'A':\n",
    "        return 'T'\n",
    "    elif nucleotide == 'T':\n",
    "        return 'A'\n",
    "    elif nucleotide == 'C':\n",
    "        return 'G'\n",
    "    elif nucleotide == 'G':\n",
    "        return 'C'\n",
    "\n",
    "doctest.run_docstring_examples(get_complement, globals())"
   ]
  },
  {
   "cell_type": "markdown",
   "metadata": {},
   "source": [
    "Since each branch of the `if` always `return`s, these could also use `if` instead of `elif`. This is neither better nor worse than the preceding implementation."
   ]
  },
  {
   "cell_type": "code",
   "execution_count": 31,
   "metadata": {},
   "outputs": [],
   "source": [
    "import doctest\n",
    "\n",
    "def get_complement(nucleotide):\n",
    "    \"\"\"\n",
    "    >>> get_complement('A')\n",
    "    'T'\n",
    "    >>> get_complement('C')\n",
    "    'G'\n",
    "    >>> get_complement('T')\n",
    "    'A'\n",
    "    >>> get_complement('G')\n",
    "    'C'\n",
    "    \"\"\"\n",
    "    if nucleotide == 'A':\n",
    "        return 'T'\n",
    "    if nucleotide == 'T':\n",
    "        return 'A'\n",
    "    if nucleotide == 'C':\n",
    "        return 'G'\n",
    "    if nucleotide == 'G':\n",
    "        return 'C'\n",
    "\n",
    "doctest.run_docstring_examples(get_complement, globals())"
   ]
  },
  {
   "cell_type": "markdown",
   "metadata": {},
   "source": [
    "### Exceptions"
   ]
  },
  {
   "cell_type": "markdown",
   "metadata": {},
   "source": [
    "What does `get_complement` do when passed an invalid value, say `X`? The specification doesn't say.\n",
    "\n",
    "The implementations above return `None`. This is fine so far as the implementation of `get_complement` itself goes. It does mean if there's a bug in code that *calls* `get_complement`, you may not discover it until some distance from the point where `get_complement` is called with the invalid value. (I'll discuss this more in class on Monday.)\n",
    "\n",
    "Here's a technique for detecting the problem within `get_complement`, and stopping immediately with a stack trace. The trick we're using is that `invalid_nucleotide` isn't defined, and it's an error to call an undefined function."
   ]
  },
  {
   "cell_type": "code",
   "execution_count": 35,
   "metadata": {},
   "outputs": [
    {
     "ename": "NameError",
     "evalue": "name 'invalid_nucleotide' is not defined",
     "output_type": "error",
     "traceback": [
      "\u001b[0;31m---------------------------------------------------------------------------\u001b[0m",
      "\u001b[0;31mNameError\u001b[0m                                 Traceback (most recent call last)",
      "\u001b[0;32m<ipython-input-35-8c26366a5e20>\u001b[0m in \u001b[0;36m<module>\u001b[0;34m()\u001b[0m\n\u001b[1;32m     13\u001b[0m \u001b[0;34m\u001b[0m\u001b[0m\n\u001b[1;32m     14\u001b[0m \u001b[0mdoctest\u001b[0m\u001b[0;34m.\u001b[0m\u001b[0mrun_docstring_examples\u001b[0m\u001b[0;34m(\u001b[0m\u001b[0mget_complement\u001b[0m\u001b[0;34m,\u001b[0m \u001b[0mglobals\u001b[0m\u001b[0;34m(\u001b[0m\u001b[0;34m)\u001b[0m\u001b[0;34m)\u001b[0m\u001b[0;34m\u001b[0m\u001b[0m\n\u001b[0;32m---> 15\u001b[0;31m \u001b[0mget_complement\u001b[0m\u001b[0;34m(\u001b[0m\u001b[0;34m'X'\u001b[0m\u001b[0;34m)\u001b[0m\u001b[0;34m\u001b[0m\u001b[0m\n\u001b[0m",
      "\u001b[0;32m<ipython-input-35-8c26366a5e20>\u001b[0m in \u001b[0;36mget_complement\u001b[0;34m(nucleotide)\u001b[0m\n\u001b[1;32m     10\u001b[0m     \u001b[0;32mif\u001b[0m \u001b[0mnucleotide\u001b[0m \u001b[0;34m==\u001b[0m \u001b[0;34m'G'\u001b[0m\u001b[0;34m:\u001b[0m\u001b[0;34m\u001b[0m\u001b[0m\n\u001b[1;32m     11\u001b[0m         \u001b[0;32mreturn\u001b[0m \u001b[0;34m'C'\u001b[0m\u001b[0;34m\u001b[0m\u001b[0m\n\u001b[0;32m---> 12\u001b[0;31m     \u001b[0minvalid_nucleotide\u001b[0m\u001b[0;34m(\u001b[0m\u001b[0;34m)\u001b[0m\u001b[0;34m\u001b[0m\u001b[0m\n\u001b[0m\u001b[1;32m     13\u001b[0m \u001b[0;34m\u001b[0m\u001b[0m\n\u001b[1;32m     14\u001b[0m \u001b[0mdoctest\u001b[0m\u001b[0;34m.\u001b[0m\u001b[0mrun_docstring_examples\u001b[0m\u001b[0;34m(\u001b[0m\u001b[0mget_complement\u001b[0m\u001b[0;34m,\u001b[0m \u001b[0mglobals\u001b[0m\u001b[0;34m(\u001b[0m\u001b[0;34m)\u001b[0m\u001b[0;34m)\u001b[0m\u001b[0;34m\u001b[0m\u001b[0m\n",
      "\u001b[0;31mNameError\u001b[0m: name 'invalid_nucleotide' is not defined"
     ]
    }
   ],
   "source": [
    "import doctest\n",
    "\n",
    "def get_complement(nucleotide):\n",
    "    if nucleotide == 'A':\n",
    "        return 'T'\n",
    "    if nucleotide == 'T':\n",
    "        return 'A'\n",
    "    if nucleotide == 'C':\n",
    "        return 'G'\n",
    "    if nucleotide == 'G':\n",
    "        return 'C'\n",
    "    invalid_nucleotide()\n",
    "\n",
    "doctest.run_docstring_examples(get_complement, globals())\n",
    "get_complement('X')"
   ]
  },
  {
   "cell_type": "markdown",
   "metadata": {},
   "source": [
    "Soon you'll read about [exceptions](https://docs.python.org/3/tutorial/errors.html#raising-exceptions). These allow you to say what you mean instead of using a trick. Note the final Exception line in the output."
   ]
  },
  {
   "cell_type": "code",
   "execution_count": 36,
   "metadata": {},
   "outputs": [
    {
     "ename": "Exception",
     "evalue": "Invalid nucleotide: X",
     "output_type": "error",
     "traceback": [
      "\u001b[0;31m---------------------------------------------------------------------------\u001b[0m",
      "\u001b[0;31mException\u001b[0m                                 Traceback (most recent call last)",
      "\u001b[0;32m<ipython-input-36-d95d904f7602>\u001b[0m in \u001b[0;36m<module>\u001b[0;34m()\u001b[0m\n\u001b[1;32m     13\u001b[0m \u001b[0;34m\u001b[0m\u001b[0m\n\u001b[1;32m     14\u001b[0m \u001b[0mdoctest\u001b[0m\u001b[0;34m.\u001b[0m\u001b[0mrun_docstring_examples\u001b[0m\u001b[0;34m(\u001b[0m\u001b[0mget_complement\u001b[0m\u001b[0;34m,\u001b[0m \u001b[0mglobals\u001b[0m\u001b[0;34m(\u001b[0m\u001b[0;34m)\u001b[0m\u001b[0;34m)\u001b[0m\u001b[0;34m\u001b[0m\u001b[0m\n\u001b[0;32m---> 15\u001b[0;31m \u001b[0mget_complement\u001b[0m\u001b[0;34m(\u001b[0m\u001b[0;34m'X'\u001b[0m\u001b[0;34m)\u001b[0m\u001b[0;34m\u001b[0m\u001b[0m\n\u001b[0m",
      "\u001b[0;32m<ipython-input-36-d95d904f7602>\u001b[0m in \u001b[0;36mget_complement\u001b[0;34m(nucleotide)\u001b[0m\n\u001b[1;32m     10\u001b[0m     \u001b[0;32mif\u001b[0m \u001b[0mnucleotide\u001b[0m \u001b[0;34m==\u001b[0m \u001b[0;34m'G'\u001b[0m\u001b[0;34m:\u001b[0m\u001b[0;34m\u001b[0m\u001b[0m\n\u001b[1;32m     11\u001b[0m         \u001b[0;32mreturn\u001b[0m \u001b[0;34m'C'\u001b[0m\u001b[0;34m\u001b[0m\u001b[0m\n\u001b[0;32m---> 12\u001b[0;31m     \u001b[0;32mraise\u001b[0m \u001b[0mException\u001b[0m\u001b[0;34m(\u001b[0m\u001b[0;34m'Invalid nucleotide: {}'\u001b[0m\u001b[0;34m.\u001b[0m\u001b[0mformat\u001b[0m\u001b[0;34m(\u001b[0m\u001b[0mnucleotide\u001b[0m\u001b[0;34m)\u001b[0m\u001b[0;34m)\u001b[0m\u001b[0;34m\u001b[0m\u001b[0m\n\u001b[0m\u001b[1;32m     13\u001b[0m \u001b[0;34m\u001b[0m\u001b[0m\n\u001b[1;32m     14\u001b[0m \u001b[0mdoctest\u001b[0m\u001b[0;34m.\u001b[0m\u001b[0mrun_docstring_examples\u001b[0m\u001b[0;34m(\u001b[0m\u001b[0mget_complement\u001b[0m\u001b[0;34m,\u001b[0m \u001b[0mglobals\u001b[0m\u001b[0;34m(\u001b[0m\u001b[0;34m)\u001b[0m\u001b[0;34m)\u001b[0m\u001b[0;34m\u001b[0m\u001b[0m\n",
      "\u001b[0;31mException\u001b[0m: Invalid nucleotide: X"
     ]
    }
   ],
   "source": [
    "import doctest\n",
    "\n",
    "def get_complement(nucleotide):\n",
    "    if nucleotide == 'A':\n",
    "        return 'T'\n",
    "    if nucleotide == 'T':\n",
    "        return 'A'\n",
    "    if nucleotide == 'C':\n",
    "        return 'G'\n",
    "    if nucleotide == 'G':\n",
    "        return 'C'\n",
    "    raise Exception('Invalid nucleotide: {}'.format(nucleotide))\n",
    "\n",
    "doctest.run_docstring_examples(get_complement, globals())\n",
    "get_complement('X')"
   ]
  },
  {
   "cell_type": "markdown",
   "metadata": {},
   "source": [
    "If you really want to (create and then) show off your Python expertise, read up on Python's built-in \"Concrete\" exception types. You'll discover a more specific exception than `Exception`, that's perfect for this purpose:"
   ]
  },
  {
   "cell_type": "code",
   "execution_count": 39,
   "metadata": {},
   "outputs": [
    {
     "ename": "ValueError",
     "evalue": "Invalid nucleotide: X",
     "output_type": "error",
     "traceback": [
      "\u001b[0;31m---------------------------------------------------------------------------\u001b[0m",
      "\u001b[0;31mValueError\u001b[0m                                Traceback (most recent call last)",
      "\u001b[0;32m<ipython-input-39-e3862a2f6f6b>\u001b[0m in \u001b[0;36m<module>\u001b[0;34m()\u001b[0m\n\u001b[1;32m     13\u001b[0m \u001b[0;34m\u001b[0m\u001b[0m\n\u001b[1;32m     14\u001b[0m \u001b[0mdoctest\u001b[0m\u001b[0;34m.\u001b[0m\u001b[0mrun_docstring_examples\u001b[0m\u001b[0;34m(\u001b[0m\u001b[0mget_complement\u001b[0m\u001b[0;34m,\u001b[0m \u001b[0mglobals\u001b[0m\u001b[0;34m(\u001b[0m\u001b[0;34m)\u001b[0m\u001b[0;34m)\u001b[0m\u001b[0;34m\u001b[0m\u001b[0m\n\u001b[0;32m---> 15\u001b[0;31m \u001b[0mget_complement\u001b[0m\u001b[0;34m(\u001b[0m\u001b[0;34m'X'\u001b[0m\u001b[0;34m)\u001b[0m\u001b[0;34m\u001b[0m\u001b[0m\n\u001b[0m",
      "\u001b[0;32m<ipython-input-39-e3862a2f6f6b>\u001b[0m in \u001b[0;36mget_complement\u001b[0;34m(nucleotide)\u001b[0m\n\u001b[1;32m     10\u001b[0m     \u001b[0;32mif\u001b[0m \u001b[0mnucleotide\u001b[0m \u001b[0;34m==\u001b[0m \u001b[0;34m'G'\u001b[0m\u001b[0;34m:\u001b[0m\u001b[0;34m\u001b[0m\u001b[0m\n\u001b[1;32m     11\u001b[0m         \u001b[0;32mreturn\u001b[0m \u001b[0;34m'C'\u001b[0m\u001b[0;34m\u001b[0m\u001b[0m\n\u001b[0;32m---> 12\u001b[0;31m     \u001b[0;32mraise\u001b[0m \u001b[0mValueError\u001b[0m\u001b[0;34m(\u001b[0m\u001b[0;34m'Invalid nucleotide: {}'\u001b[0m\u001b[0;34m.\u001b[0m\u001b[0mformat\u001b[0m\u001b[0;34m(\u001b[0m\u001b[0mnucleotide\u001b[0m\u001b[0;34m)\u001b[0m\u001b[0;34m)\u001b[0m\u001b[0;34m\u001b[0m\u001b[0m\n\u001b[0m\u001b[1;32m     13\u001b[0m \u001b[0;34m\u001b[0m\u001b[0m\n\u001b[1;32m     14\u001b[0m \u001b[0mdoctest\u001b[0m\u001b[0;34m.\u001b[0m\u001b[0mrun_docstring_examples\u001b[0m\u001b[0;34m(\u001b[0m\u001b[0mget_complement\u001b[0m\u001b[0;34m,\u001b[0m \u001b[0mglobals\u001b[0m\u001b[0;34m(\u001b[0m\u001b[0;34m)\u001b[0m\u001b[0;34m)\u001b[0m\u001b[0;34m\u001b[0m\u001b[0m\n",
      "\u001b[0;31mValueError\u001b[0m: Invalid nucleotide: X"
     ]
    }
   ],
   "source": [
    "import doctest\n",
    "\n",
    "def get_complement(nucleotide):\n",
    "    if nucleotide == 'A':\n",
    "        return 'T'\n",
    "    if nucleotide == 'T':\n",
    "        return 'A'\n",
    "    if nucleotide == 'C':\n",
    "        return 'G'\n",
    "    if nucleotide == 'G':\n",
    "        return 'C'\n",
    "    raise ValueError('Invalid nucleotide: {}'.format(nucleotide))\n",
    "\n",
    "doctest.run_docstring_examples(get_complement, globals())\n",
    "get_complement('X')"
   ]
  },
  {
   "cell_type": "markdown",
   "metadata": {},
   "source": [
    "### `get_complement` – other approaches"
   ]
  },
  {
   "cell_type": "markdown",
   "metadata": {},
   "source": [
    "The implementation techniques above used \"data-shaped code\", where the data is the number of nucleotides (`A`, `C`, `T`, and `G`). They had one `if` or `elif` statement for each nucleotide. If you added another nucleotide, you'd add more code. (It could happen! RNA uses **U**racil instead of **T**hymine.)\n",
    "\n",
    "The following approaches put the list of nucleotides into values, instead of lists of lines of code."
   ]
  },
  {
   "cell_type": "code",
   "execution_count": 3,
   "metadata": {},
   "outputs": [],
   "source": [
    "def get_complement(nucleotide):\n",
    "    \"\"\"\n",
    "    >>> get_complement('A')\n",
    "    'T'\n",
    "    >>> get_complement('C')\n",
    "    'G'\n",
    "    \"\"\"\n",
    "    nucleotides = 'ATCG'\n",
    "    complements = 'TAGC'\n",
    "    i = nucleotides.index(nucleotide)\n",
    "    return complements[i]\n",
    "\n",
    "doctest.run_docstring_examples(get_complement, globals())"
   ]
  },
  {
   "cell_type": "code",
   "execution_count": 5,
   "metadata": {},
   "outputs": [],
   "source": [
    "def get_complement(nucleotide):\n",
    "    \"\"\"\n",
    "    >>> get_complement('A')\n",
    "    'T'\n",
    "    >>> get_complement('C')\n",
    "    'G'\n",
    "    \"\"\"\n",
    "    nucleotides = 'ACGT'\n",
    "    i = nucleotides.index(nucleotide)\n",
    "    return nucleotides[3 - i]\n",
    "\n",
    "doctest.run_docstring_examples(get_complement, globals())"
   ]
  },
  {
   "cell_type": "code",
   "execution_count": 7,
   "metadata": {},
   "outputs": [],
   "source": [
    "def get_complement(nucleotide):\n",
    "    \"\"\"\n",
    "    >>> get_complement('A')\n",
    "    'T'\n",
    "    >>> get_complement('C')\n",
    "    'G'\n",
    "    \"\"\"\n",
    "    complements = {'A': 'T', 'T': 'A', 'C': 'G', 'G': 'C'}\n",
    "    return complements[nucleotide]\n",
    "\n",
    "doctest.run_docstring_examples(get_complement, globals())"
   ]
  },
  {
   "cell_type": "markdown",
   "metadata": {},
   "source": [
    "`complements` is used as a **constant**. It's set to the same value each time we run the function, and is never modified.\n",
    "\n",
    "We might therefore use a **global variable** (at **top level** or **module scope**), instead of a **local variable**, to hold this value. See the implementation below.\n",
    "\n",
    "Note that I've renamed the variable from `complement` to `nucleotide_complements`. This follows the principle that the further the distance between a variable's **definition** and it's **use**, the more descriptive the name should be. It also keeps us from using up a good short variable name such as `complement`, and having to remember not to use it as a function parameter name or local variable.\n",
    "\n",
    "Note that Python global variables, [by convention](https://www.python.org/dev/peps/pep-0008/#global-variable-names), use [snakecase](https://en.wikipedia.org/wiki/Snake_case) `complement_table`. The convention for another programming language might use `ComplementTable` or `COMPLEMENT_TABLE` for a global constant."
   ]
  },
  {
   "cell_type": "code",
   "execution_count": 40,
   "metadata": {},
   "outputs": [],
   "source": [
    "nucleotide_complements = {'A': 'T', 'T': 'A', 'C': 'G', 'G': 'C'}\n",
    "\n",
    "def get_complement(nucleotide):\n",
    "    \"\"\"\n",
    "    >>> get_complement('A')\n",
    "    'T'\n",
    "    >>> get_complement('C')\n",
    "    'G'\n",
    "    \"\"\"\n",
    "    return nucleotide_complements[nucleotide]\n",
    "\n",
    "doctest.run_docstring_examples(get_complement, globals())"
   ]
  },
  {
   "cell_type": "markdown",
   "metadata": {},
   "source": [
    "## `get_reverse_complement`"
   ]
  },
  {
   "cell_type": "markdown",
   "metadata": {},
   "source": [
    "This reverses the sequence `dna[::-1]`, and then takes the complement of each nucleotide:"
   ]
  },
  {
   "cell_type": "code",
   "execution_count": 16,
   "metadata": {},
   "outputs": [],
   "source": [
    "def get_reverse_complement(dna):\n",
    "    \"\"\"Compute the reverse complementary sequence of DNA for the specified DNA sequence.\n",
    "\n",
    "    Parameters\n",
    "    ----------\n",
    "    dna : string\n",
    "        A DNA sequence.\n",
    "\n",
    "    Returns\n",
    "    -------\n",
    "    string\n",
    "        The reverse complementary DNA sequence.\n",
    "    \n",
    "    Examples\n",
    "    --------\n",
    "    >>> get_reverse_complement(\"ATGCCCGCTTT\")\n",
    "    'AAAGCGGGCAT'\n",
    "    >>> get_reverse_complement(\"CCGCGTTCA\")\n",
    "    'TGAACGCGG'\n",
    "    \"\"\"\n",
    "    reversed_complement = ''\n",
    "    for nucleotide in dna[::-1]:\n",
    "        reversed_complement += get_complement(nucleotide)\n",
    "    return reversed_complement\n",
    "\n",
    "doctest.run_docstring_examples(get_reverse_complement, globals())"
   ]
  },
  {
   "cell_type": "markdown",
   "metadata": {},
   "source": [
    "We could also complement the nucleotides *first*, and then reverse *that*."
   ]
  },
  {
   "cell_type": "code",
   "execution_count": 41,
   "metadata": {},
   "outputs": [],
   "source": [
    "def get_reverse_complement(dna):\n",
    "    \"\"\"\n",
    "    >>> get_reverse_complement(\"ATGCCCGCTTT\")\n",
    "    'AAAGCGGGCAT'\n",
    "    >>> get_reverse_complement(\"CCGCGTTCA\")\n",
    "    'TGAACGCGG'\n",
    "    \"\"\"\n",
    "    complement = ''\n",
    "    for nucleotide in dna:\n",
    "        complement += get_complement(nucleotide)\n",
    "    return complement[::-1]\n",
    "\n",
    "doctest.run_docstring_examples(get_reverse_complement, globals())"
   ]
  },
  {
   "cell_type": "markdown",
   "metadata": {},
   "source": [
    "This one-liner uses a list comprehension."
   ]
  },
  {
   "cell_type": "code",
   "execution_count": 42,
   "metadata": {},
   "outputs": [],
   "source": [
    "def get_reverse_complement(dna):\n",
    "    \"\"\"\n",
    "    >>> get_reverse_complement(\"ATGCCCGCTTT\")\n",
    "    'AAAGCGGGCAT'\n",
    "    >>> get_reverse_complement(\"CCGCGTTCA\")\n",
    "    'TGAACGCGG'\n",
    "    \"\"\"\n",
    "    return ''.join(get_complement(nucleotide) for nucleotide in dna[::-1])\n",
    "\n",
    "doctest.run_docstring_examples(get_reverse_complement, globals())"
   ]
  },
  {
   "cell_type": "markdown",
   "metadata": {},
   "source": [
    "## `rest_of_ORF`"
   ]
  },
  {
   "cell_type": "markdown",
   "metadata": {},
   "source": [
    "I've added some examples that test smaller sequences. If there's a bug that shows up with these simpler tests, it will be easier to debug."
   ]
  },
  {
   "cell_type": "code",
   "execution_count": 48,
   "metadata": {},
   "outputs": [],
   "source": [
    "def rest_of_ORF(dna):\n",
    "    \"\"\"Return the open reading frame that starts at the start of the DNA sequence.\n",
    "    \n",
    "    The open return frame is the prefix up to but not including the first in-frame stop codon.\n",
    "    If there is no in frame stop codon, returns the whole string.\n",
    "    \n",
    "    Arguments\n",
    "    ---------\n",
    "    dna : string\n",
    "        A DNA sequence that begins with a start codon.\n",
    "\n",
    "    Returns\n",
    "    -------\n",
    "    string\n",
    "        The open reading frame.\n",
    "    \n",
    "    Examples\n",
    "    --------\n",
    "    >>> rest_of_ORF(\"ATG\")\n",
    "    'ATG'\n",
    "    >>> rest_of_ORF(\"ATGCCC\")\n",
    "    'ATGCCC'\n",
    "    >>> rest_of_ORF(\"ATGTGAA\")\n",
    "    'ATG'\n",
    "    >>> rest_of_ORF(\"ATGAGATAGG\")\n",
    "    'ATGAGA'\n",
    "    \"\"\"\n",
    "    for i in range(0, len(dna), 3):\n",
    "        if dna[i:i+3] in [\"TAA\", \"TAG\", \"TGA\"]:\n",
    "            return dna[0:i]\n",
    "    return dna\n",
    "\n",
    "doctest.run_docstring_examples(rest_of_ORF, globals())"
   ]
  },
  {
   "cell_type": "markdown",
   "metadata": {},
   "source": [
    "The following technique use a [**regular expression**](https://docs.python.org/3/howto/regex.html) to match a repeated (`+?`) count of three-character (`...`) groups (`(...)`), followed by one of (`|`) `TAA`, `TAG`, or `TGA`."
   ]
  },
  {
   "cell_type": "code",
   "execution_count": 49,
   "metadata": {},
   "outputs": [],
   "source": [
    "import re\n",
    "\n",
    "def rest_of_ORF(dna):\n",
    "    \"\"\"\n",
    "    >>> rest_of_ORF(\"ATGTGAA\")\n",
    "    'ATG'\n",
    "    >>> rest_of_ORF(\"ATGAGATAGG\")\n",
    "    'ATGAGA'\n",
    "    \"\"\"\n",
    "    m = re.match(r'((...)+?)(TAA|TAG|TGA)', dna)\n",
    "    if m:\n",
    "        return m.group(1)\n",
    "    return dna\n",
    "\n",
    "doctest.run_docstring_examples(rest_of_ORF, globals())"
   ]
  },
  {
   "cell_type": "markdown",
   "metadata": {},
   "source": [
    "## `find_all_ORFs_oneframe`"
   ]
  },
  {
   "cell_type": "markdown",
   "metadata": {},
   "source": [
    "This first approach doesn't work. The problem is that it picks up nested ORFs, because there's no way to skip over all the codons in an ORF when we find one. The `i += len(orf)` doesn't work, because `for i in range` resets `i` to the next value from `range` each time through the loop."
   ]
  },
  {
   "cell_type": "code",
   "execution_count": 60,
   "metadata": {},
   "outputs": [
    {
     "name": "stdout",
     "output_type": "stream",
     "text": [
      "**********************************************************************\n",
      "File \"__main__\", line 27, in NoName\n",
      "Failed example:\n",
      "    find_all_ORFs_oneframe(\"ATGATGCCCTAG\")\n",
      "Expected:\n",
      "    ['ATGATGCCC']\n",
      "Got:\n",
      "    ['ATGATGCCC', 'ATGCCC']\n"
     ]
    }
   ],
   "source": [
    "def find_all_ORFs_oneframe(dna):\n",
    "    \"\"\"Find all non-nested open reading frames in the given DNA sequence.\n",
    "    \n",
    "    This function only finds ORFs that are in the default frame of the sequence\n",
    "    (i.e. they start on indices that are multiples of 3).\n",
    "    By non-nested we mean that if an ORF occurs entirely within\n",
    "    another ORF, it should not be included in the returned list of ORFs.\n",
    "    \n",
    "    Arguments\n",
    "    ---------\n",
    "    dna : string\n",
    "        A DNA sequence.\n",
    "        \n",
    "    Returns\n",
    "    -------\n",
    "    list[string]\n",
    "        Non-nested ORFs.\n",
    "    \n",
    "    Examples\n",
    "    --------\n",
    "    >>> find_all_ORFs_oneframe(\"ATG\")\n",
    "    ['ATG']\n",
    "    >>> find_all_ORFs_oneframe(\"CATGCC\")\n",
    "    []\n",
    "    >>> find_all_ORFs_oneframe(\"ATGCCCTAGATGTTTTAG\")\n",
    "    ['ATGCCC', 'ATGTTT']\n",
    "    >>> find_all_ORFs_oneframe(\"ATGATGCCCTAG\")\n",
    "    ['ATGATGCCC']\n",
    "    >>> find_all_ORFs_oneframe(\"ATGCATGAATGTAGATAGATGTGCCC\")\n",
    "    ['ATGCATGAATGTAGA', 'ATGTGCCC']\n",
    "    \"\"\"\n",
    "    orfs = []\n",
    "    for i in range(0, len(dna), 3):\n",
    "        if dna[i:i+3] == 'ATG':\n",
    "            orf = rest_of_ORF(dna[i:])\n",
    "            orfs.append(orf)\n",
    "            i += len(orf)\n",
    "    return orfs\n",
    "\n",
    "doctest.run_docstring_examples(find_all_ORFs_oneframe, globals())"
   ]
  },
  {
   "cell_type": "markdown",
   "metadata": {},
   "source": [
    "We can't use a `for in range` loop, because sometimes we need to step the index forwards by three (when we *don't* find a start tag), and sometimes skip forwards by the length of the ORF (when we *do* find a start tag). “Unpack” the `for i in range` to `i = 0; while i < len` to get more access to `i`."
   ]
  },
  {
   "cell_type": "code",
   "execution_count": 61,
   "metadata": {},
   "outputs": [],
   "source": [
    "def find_all_ORFs_oneframe(dna):\n",
    "    \"\"\"Find all non-nested open reading frames in the given DNA sequence.\n",
    "    \n",
    "    This function only finds ORFs that are in the default frame of the sequence\n",
    "    (i.e. they start on indices that are multiples of 3).\n",
    "    By non-nested we mean that if an ORF occurs entirely within\n",
    "    another ORF, it should not be included in the returned list of ORFs.\n",
    "    \n",
    "    Arguments\n",
    "    ---------\n",
    "    dna : string\n",
    "        A DNA sequence.\n",
    "        \n",
    "    Returns\n",
    "    -------\n",
    "    list[string]\n",
    "        Non-nested ORFs.\n",
    "    \n",
    "    Examples\n",
    "    --------\n",
    "    >>> find_all_ORFs_oneframe(\"ATG\")\n",
    "    ['ATG']\n",
    "    >>> find_all_ORFs_oneframe(\"CATGCC\")\n",
    "    []\n",
    "    >>> find_all_ORFs_oneframe(\"ATGCCCTAGATGTTTTAG\")\n",
    "    ['ATGCCC', 'ATGTTT']\n",
    "    >>> find_all_ORFs_oneframe(\"ATGATGCCCTAG\")\n",
    "    ['ATGATGCCC']\n",
    "    >>> find_all_ORFs_oneframe(\"ATGCATGAATGTAGATAGATGTGCCC\")\n",
    "    ['ATGCATGAATGTAGA', 'ATGTGCCC']\n",
    "    \"\"\"\n",
    "    orfs = []\n",
    "    i = 0\n",
    "    while i < len(dna):\n",
    "        if dna[i:i+3] == 'ATG':\n",
    "            orf = rest_of_ORF(dna[i:])\n",
    "            orfs.append(orf)\n",
    "            i += len(orf)\n",
    "        else:\n",
    "            i += 3\n",
    "    return orfs\n",
    "\n",
    "doctest.run_docstring_examples(find_all_ORFs_oneframe, globals())"
   ]
  },
  {
   "cell_type": "markdown",
   "metadata": {},
   "source": [
    "### Another approach"
   ]
  },
  {
   "cell_type": "markdown",
   "metadata": {},
   "source": [
    "Did I say we can't use `for i in range`? We *can*, if we keep track of whether we're inside an ORF (in which case we want to *turn off* looking for start codons). The following code uses a boolean variable to keep track of whether we're inside an ORF, and another variable to count how many nucleotides of the ORF are left, so that we can tell when we've exited it."
   ]
  },
  {
   "cell_type": "code",
   "execution_count": 62,
   "metadata": {},
   "outputs": [],
   "source": [
    "def find_all_ORFs_oneframe(dna):\n",
    "    \"\"\"\n",
    "    >>> find_all_ORFs_oneframe(\"ATG\")\n",
    "    ['ATG']\n",
    "    >>> find_all_ORFs_oneframe(\"CATGCC\")\n",
    "    []\n",
    "    >>> find_all_ORFs_oneframe(\"ATGCCCTAGATGTTTTAG\")\n",
    "    ['ATGCCC', 'ATGTTT']\n",
    "    >>> find_all_ORFs_oneframe(\"ATGATGCCCTAG\")\n",
    "    ['ATGATGCCC']\n",
    "    >>> find_all_ORFs_oneframe(\"ATGCATGAATGTAGATAGATGTGCCC\")\n",
    "    ['ATGCATGAATGTAGA', 'ATGTGCCC']\n",
    "    \"\"\"\n",
    "    orfs = []\n",
    "    inside_orf = False\n",
    "    remaining_orf_len = None\n",
    "    for i in range(0, len(dna), 3):\n",
    "        if inside_orf:\n",
    "            remaining_orf_len -= 3\n",
    "            if remaining_orf_len == 0:\n",
    "                inside_orf = False\n",
    "        elif dna[i:i+3] == 'ATG':\n",
    "            orf = rest_of_ORF(dna[i:])\n",
    "            orfs.append(orf)\n",
    "            inside_orf = True\n",
    "            remaining_orf_len = len(orf) - 3\n",
    "    return orfs\n",
    "\n",
    "doctest.run_docstring_examples(find_all_ORFs_oneframe, globals())"
   ]
  },
  {
   "cell_type": "markdown",
   "metadata": {},
   "source": [
    "Instead of maintaining two variables `inside_orf` to remember if we're inside an ORF, and `remaining_orf_len` to track how much of the ORF is left, we can use `remaining_orf_len` for both: if this has the value 0, we're not in an ORF, otherwise it tells how many nucleotides of the ORF remain."
   ]
  },
  {
   "cell_type": "code",
   "execution_count": 63,
   "metadata": {},
   "outputs": [],
   "source": [
    "def find_all_ORFs_oneframe(dna):\n",
    "    \"\"\"\n",
    "    >>> find_all_ORFs_oneframe(\"ATG\")\n",
    "    ['ATG']\n",
    "    >>> find_all_ORFs_oneframe(\"CATGCC\")\n",
    "    []\n",
    "    >>> find_all_ORFs_oneframe(\"ATGCCCTAGATGTTTTAG\")\n",
    "    ['ATGCCC', 'ATGTTT']\n",
    "    >>> find_all_ORFs_oneframe(\"ATGATGCCCTAG\")\n",
    "    ['ATGATGCCC']\n",
    "    >>> find_all_ORFs_oneframe(\"ATGCATGAATGTAGATAGATGTGCCC\")\n",
    "    ['ATGCATGAATGTAGA', 'ATGTGCCC']\n",
    "    \"\"\"\n",
    "    orfs = []\n",
    "    remaining_orf_len = 0\n",
    "    for i in range(0, len(dna), 3):\n",
    "        if remaining_orf_len > 0:\n",
    "            remaining_orf_len -= 3\n",
    "        elif dna[i:i+3] == 'ATG':\n",
    "            orf = rest_of_ORF(dna[i:])\n",
    "            orfs.append(orf)\n",
    "            inside_orf = True\n",
    "            remaining_orf_len = len(orf) - 3\n",
    "    return orfs\n",
    "\n",
    "doctest.run_docstring_examples(find_all_ORFs_oneframe, globals())"
   ]
  },
  {
   "cell_type": "markdown",
   "metadata": {},
   "source": [
    "We can further simplify the code by defining `remaining_orf_len >= 0` to mean we're in an ORF, and `remaining_orf_len < 0` to mean we're not in an ORF. This lets us *always* decrement `remaining_orf_len`."
   ]
  },
  {
   "cell_type": "code",
   "execution_count": 65,
   "metadata": {},
   "outputs": [],
   "source": [
    "def find_all_ORFs_oneframe(dna):\n",
    "    \"\"\"\n",
    "    >>> find_all_ORFs_oneframe(\"ATG\")\n",
    "    ['ATG']\n",
    "    >>> find_all_ORFs_oneframe(\"CATGCC\")\n",
    "    []\n",
    "    >>> find_all_ORFs_oneframe(\"ATGCCCTAGATGTTTTAG\")\n",
    "    ['ATGCCC', 'ATGTTT']\n",
    "    >>> find_all_ORFs_oneframe(\"ATGATGCCCTAG\")\n",
    "    ['ATGATGCCC']\n",
    "    >>> find_all_ORFs_oneframe(\"ATGCATGAATGTAGATAGATGTGCCC\")\n",
    "    ['ATGCATGAATGTAGA', 'ATGTGCCC']\n",
    "    \"\"\"\n",
    "    orfs = []\n",
    "    remaining_orf_len = 0\n",
    "    for i in range(0, len(dna), 3):\n",
    "        if remaining_orf_len <= 0 and dna[i:i+3] == 'ATG':\n",
    "            orf = rest_of_ORF(dna[i:])\n",
    "            orfs.append(orf)\n",
    "            inside_orf = True\n",
    "            remaining_orf_len = len(orf)\n",
    "        remaining_orf_len -= 3\n",
    "    return orfs\n",
    "\n",
    "doctest.run_docstring_examples(find_all_ORFs_oneframe, globals())"
   ]
  },
  {
   "cell_type": "markdown",
   "metadata": {},
   "source": [
    "## `find_all_ORFs`"
   ]
  },
  {
   "cell_type": "code",
   "execution_count": 69,
   "metadata": {},
   "outputs": [],
   "source": [
    "def find_all_ORFs(dna):\n",
    "    \"\"\"Find all non-nested open reading frames in the given DNA sequence in all 3 possible frames.\n",
    "    \n",
    "    Non-nested means the same thing here that it does in find_all_ORFs_oneframe.\n",
    "\n",
    "    Arguments\n",
    "    ---------\n",
    "    dna : string\n",
    "        A DNA sequence.\n",
    "    \n",
    "    Returns\n",
    "    -------\n",
    "    string\n",
    "        A list of non-nested ORFs.\n",
    "\n",
    "    Examples\n",
    "    --------\n",
    "    >>> find_all_ORFs(\"ATGCATGAATGTAG\")\n",
    "    ['ATGCATGAATGTAG', 'ATGAATGTAG', 'ATG']\n",
    "    \"\"\"\n",
    "    orfs = []\n",
    "    for i in range(3):\n",
    "        orfs.extend(find_all_ORFs_oneframe(dna[i:]))\n",
    "    return orfs\n",
    "\n",
    "doctest.run_docstring_examples(find_all_ORFs, globals())"
   ]
  },
  {
   "cell_type": "markdown",
   "metadata": {},
   "source": [
    "## `find_all_ORFs_both_strands`\n",
    "\n",
    "None of the following definitions is necessarily better than the others."
   ]
  },
  {
   "cell_type": "code",
   "execution_count": 72,
   "metadata": {},
   "outputs": [],
   "source": [
    "def find_all_ORFs_both_strands(dna):\n",
    "    \"\"\"Find all non-nested open reading frames in the given DNA sequence on both strands.\n",
    "    \n",
    "    Arguments\n",
    "    ---------\n",
    "    dna : string\n",
    "        A DNA sequence.\n",
    "    \n",
    "    Returns\n",
    "    -------\n",
    "    string\n",
    "        A list of non-nested ORFs.\n",
    "        \n",
    "    Examples\n",
    "    --------\n",
    "    >>> find_all_ORFs_both_strands(\"ATGCGAATGTAGCATCAAA\")\n",
    "    ['ATGCGAATG', 'ATGCTACATTCGCAT']\n",
    "    \"\"\"\n",
    "    other_strand = get_reverse_complement(dna)\n",
    "    orfs = []\n",
    "    orfs.extend(find_all_ORFs(dna))\n",
    "    orfs.extend(find_all_ORFs(other_strand))\n",
    "    return orfs\n",
    "\n",
    "doctest.run_docstring_examples(find_all_ORFs_both_strands, globals())"
   ]
  },
  {
   "cell_type": "code",
   "execution_count": 75,
   "metadata": {},
   "outputs": [],
   "source": [
    "def find_all_ORFs_both_strands(dna):\n",
    "    \"\"\"\n",
    "    >>> find_all_ORFs_both_strands(\"ATGCGAATGTAGCATCAAA\")\n",
    "    ['ATGCGAATG', 'ATGCTACATTCGCAT']\n",
    "    \"\"\"\n",
    "    orfs = []\n",
    "    orfs.extend(find_all_ORFs(dna))\n",
    "    orfs.extend(find_all_ORFs(get_reverse_complement(dna)))\n",
    "    return orfs\n",
    "\n",
    "doctest.run_docstring_examples(find_all_ORFs_both_strands, globals())"
   ]
  },
  {
   "cell_type": "code",
   "execution_count": 76,
   "metadata": {},
   "outputs": [],
   "source": [
    "def find_all_ORFs_both_strands(dna):\n",
    "    \"\"\"\n",
    "    >>> find_all_ORFs_both_strands(\"ATGCGAATGTAGCATCAAA\")\n",
    "    ['ATGCGAATG', 'ATGCTACATTCGCAT']\n",
    "    \"\"\"\n",
    "    orfs = find_all_ORFs(dna)\n",
    "    orfs.extend(find_all_ORFs(get_reverse_complement(dna)))\n",
    "    return orfs\n",
    "\n",
    "doctest.run_docstring_examples(find_all_ORFs_both_strands, globals())"
   ]
  },
  {
   "cell_type": "code",
   "execution_count": 77,
   "metadata": {},
   "outputs": [],
   "source": [
    "def find_all_ORFs_both_strands(dna):\n",
    "    \"\"\"\n",
    "    >>> find_all_ORFs_both_strands(\"ATGCGAATGTAGCATCAAA\")\n",
    "    ['ATGCGAATG', 'ATGCTACATTCGCAT']\n",
    "    \"\"\"\n",
    "    return find_all_ORFs(dna) + find_all_ORFs(get_reverse_complement(dna))\n",
    "\n",
    "doctest.run_docstring_examples(find_all_ORFs_both_strands, globals())"
   ]
  },
  {
   "cell_type": "code",
   "execution_count": 78,
   "metadata": {},
   "outputs": [],
   "source": [
    "def find_all_ORFs_both_strands(dna):\n",
    "    \"\"\"\n",
    "    >>> find_all_ORFs_both_strands(\"ATGCGAATGTAGCATCAAA\")\n",
    "    ['ATGCGAATG', 'ATGCTACATTCGCAT']\n",
    "    \"\"\"\n",
    "    orfs = []\n",
    "    for strand in [dna, get_reverse_complement(dna)]:\n",
    "        orfs += find_all_ORFs(strand)\n",
    "    return orfs\n",
    "\n",
    "doctest.run_docstring_examples(find_all_ORFs_both_strands, globals())"
   ]
  },
  {
   "cell_type": "markdown",
   "metadata": {},
   "source": [
    "## `longest_ORF`"
   ]
  },
  {
   "cell_type": "markdown",
   "metadata": {},
   "source": [
    "I've added two examples for the case where there's no ORF, to illustrate why you might want to use `print` in this case – because a function that returns None doesn't print anything, which can be confusing to read."
   ]
  },
  {
   "cell_type": "code",
   "execution_count": 95,
   "metadata": {},
   "outputs": [],
   "source": [
    "def longest_ORF(dna):\n",
    "    \"\"\"Find the longest ORF on both strands of the specified sequence.\n",
    "    \n",
    "    Arguments\n",
    "    ---------\n",
    "    dna : string\n",
    "        A DNA sequence.\n",
    "    \n",
    "    Returns\n",
    "    -------\n",
    "    string\n",
    "        The longest ORF\n",
    "    \n",
    "    Examples\n",
    "    --------\n",
    "    >>> print(longest_ORF(\"CCC\"))\n",
    "    None\n",
    "    >>> longest_ORF(\"CCC\")\n",
    "    >>> longest_ORF(\"ATGCGAATGTAGCATCAAA\")\n",
    "    'ATGCTACATTCGCAT'\n",
    "    \"\"\"\n",
    "    best = None\n",
    "    best_len = 0\n",
    "    for orf in find_all_ORFs_both_strands(dna):\n",
    "        if len(orf) > best_len:\n",
    "            best = orf\n",
    "            best_len = len(orf)\n",
    "    return best\n",
    "\n",
    "doctest.run_docstring_examples(longest_ORF, globals())"
   ]
  },
  {
   "cell_type": "markdown",
   "metadata": {},
   "source": [
    "`len(string)` isn't very expensive, so we can also do this with fewer variables:"
   ]
  },
  {
   "cell_type": "code",
   "execution_count": 96,
   "metadata": {},
   "outputs": [],
   "source": [
    "def longest_ORF(dna):\n",
    "    \"\"\"\n",
    "    >>> print(longest_ORF(\"CCC\"))\n",
    "    None\n",
    "    >>> longest_ORF(\"ATGCGAATGTAGCATCAAA\")\n",
    "    'ATGCTACATTCGCAT'\n",
    "    \"\"\"\n",
    "    best = None\n",
    "    for orf in find_all_ORFs_both_strands(dna):\n",
    "        if not best or len(orf) > len(best):\n",
    "            best = orf\n",
    "    return best\n",
    "\n",
    "doctest.run_docstring_examples(longest_ORF, globals())"
   ]
  },
  {
   "cell_type": "markdown",
   "metadata": {},
   "source": [
    "More expensive (since sorting is more work than keep track of the longer, and since `sorted` makes a list) but less code.\n",
    "\n",
    "This code would behave the same if it didn't end with `return None`, since functions that don't execute a `return` implicitly return `None`. It's standard practice to add an explicit return when the function is defined to return a value. This makes it easier to tell by scanning the implementation whether a function is fruitful or fruitless."
   ]
  },
  {
   "cell_type": "code",
   "execution_count": 98,
   "metadata": {},
   "outputs": [],
   "source": [
    "def longest_ORF(dna):\n",
    "    \"\"\"\n",
    "    >>> print(longest_ORF(\"CCC\"))\n",
    "    None\n",
    "    >>> longest_ORF(\"ATGCGAATGTAGCATCAAA\")\n",
    "    'ATGCTACATTCGCAT'\n",
    "    \"\"\"\n",
    "    orfs = find_all_ORFs_both_strands(dna)\n",
    "    if orfs:\n",
    "        return sorted(orfs, key=len)[-1]\n",
    "    return None\n",
    "\n",
    "doctest.run_docstring_examples(longest_ORF, globals())"
   ]
  },
  {
   "cell_type": "code",
   "execution_count": 99,
   "metadata": {},
   "outputs": [],
   "source": [
    "def longest_ORF(dna):\n",
    "    \"\"\"\n",
    "    >>> print(longest_ORF(\"CCC\"))\n",
    "    None\n",
    "    >>> longest_ORF(\"ATGCGAATGTAGCATCAAA\")\n",
    "    'ATGCTACATTCGCAT'\n",
    "    \"\"\"\n",
    "    orfs = find_all_ORFs_both_strands(dna)\n",
    "    if orfs:\n",
    "        return sorted(orfs, key=len, reverse=True)[0]\n",
    "    return None\n",
    "\n",
    "doctest.run_docstring_examples(longest_ORF, globals())"
   ]
  },
  {
   "cell_type": "markdown",
   "metadata": {},
   "source": [
    "## `longest_ORF_noncoding`"
   ]
  },
  {
   "cell_type": "markdown",
   "metadata": {},
   "source": [
    "Use `random.seed` to test functions that use random numbers. It resets the \"random\" number sequence, so that it produces the same values in the same order each time.\n",
    "\n",
    "The variable named `_` (single underscore) is a **placeholder variable**, for a \"don't care\" value. It's used when the language syntax requires that we use a variable name, but we never read the value of the variable."
   ]
  },
  {
   "cell_type": "code",
   "execution_count": 100,
   "metadata": {},
   "outputs": [],
   "source": [
    "import random\n",
    "\n",
    "def shuffle_string(s):\n",
    "    return ''.join(random.sample(s, len(s)))\n",
    "\n",
    "def longest_ORF_noncoding(dna, num_trials):\n",
    "    \"\"\"Computes the maximum length of the longest ORF over num_trials shuffles of the specified sequence.\n",
    "    \n",
    "    Arguments\n",
    "    ---------\n",
    "    dna : string\n",
    "        A DNA sequence.\n",
    "    num_trials : int\n",
    "        The number of random shuffles.\n",
    "    \n",
    "    Returns\n",
    "    -------\n",
    "    int\n",
    "        The maximum length longest ORF\n",
    "    \n",
    "    Examples\n",
    "    --------\n",
    "    >>> random.seed(1)\n",
    "    >>> longest_ORF_noncoding(\"ATGCGAATGTAGCATCAAA\", 100)\n",
    "    19\n",
    "    \"\"\"\n",
    "    max_len = 0\n",
    "    for _ in range(num_trials):\n",
    "        orf = longest_ORF(shuffle_string(dna))\n",
    "        if orf:\n",
    "            max_len = max(max_len, len(orf))\n",
    "    return max_len\n",
    "\n",
    "doctest.run_docstring_examples(longest_ORF_noncoding, globals())"
   ]
  },
  {
   "cell_type": "markdown",
   "metadata": {},
   "source": [
    "## `coding_strand_to_AA`"
   ]
  },
  {
   "cell_type": "code",
   "execution_count": null,
   "metadata": {},
   "outputs": [],
   "source": [
    "def coding_strand_to_AA(dna):\n",
    "    \"\"\"Compute the protein encoded by a DNA sequence.\n",
    "    \n",
    "    This function does not check for start and stop codons.\n",
    "    (It assumes that the DNA sequence represents a protein coding region).\n",
    "\n",
    "    Parameters\n",
    "    ----------\n",
    "    dna : string\n",
    "        A DNA sequence.\n",
    "    \n",
    "    Returns\n",
    "    -------\n",
    "    string\n",
    "        The sequence of amino acids encoded by the input DNA fragment.\n",
    "        \n",
    "    Examples\n",
    "    --------\n",
    "    >>> coding_strand_to_AA(\"ATGCGA\")\n",
    "    'MR'\n",
    "    >>> coding_strand_to_AA(\"ATGCCCGCTTT\")\n",
    "    'MPA'\n",
    "    \"\"\"\n",
    "    aa = ''\n",
    "    for i in range(0, len(dna), 3):\n",
    "        codon = dna[i:i+3]\n",
    "        aa = aa + aa_table[codon]\n",
    "    return aa\n",
    "\n",
    "doctest.run_docstring_examples(coding_strand_to_AA, globals())"
   ]
  },
  {
   "cell_type": "markdown",
   "metadata": {},
   "source": [
    "## `gene_finder`"
   ]
  },
  {
   "cell_type": "code",
   "execution_count": null,
   "metadata": {},
   "outputs": [],
   "source": [
    "def gene_finder(dna):\n",
    "    \"\"\"Returns the amino acid sequences that are likely coded by the specified DNA sequence.\n",
    "\n",
    "    Parameters\n",
    "    ----------\n",
    "    dna : string\n",
    "        A DNA sequence.\n",
    "    \n",
    "    Returns\n",
    "    -------\n",
    "    list[string]\n",
    "        A list of all amino acid sequences coded by the DNA sequence.\n",
    "\n",
    "\n",
    "    Examples:\n",
    "    >>> random.seed(1)\n",
    "    >>> gene_finder(\"ATGTCATTGCGTGTGAGACAGATTGATCGTCGCGAATGGCTATTGGCGCAAACCGCGACAGAATGCCAGCGCCATGGCCGGGAA\" \\\n",
    "                    \"GCGACGCTGGAATATCCGACGCGACAGGGAATGTGGGTTCGGTTGAGCGATGCAGAAAAACGGTGGTCGGCCTGGATTAAACCT\" \\\n",
    "                    \"GGGGACTGGCTTGAGCATGTCTCTCCCGCTCTGGCTGGGGCGGCGGTTTCTGCTGGCGCTGAGCACCTGGTCGTTCCCTGGCTT\")\n",
    "    ['MSLRVRQIDRREWLLAQTATECQRHGREATLEYPTRQGMWVRLSDAEKRWSAWIKPGDWLEHVSPALAGAAVSAGAEHLVVPWL']\n",
    "    \"\"\"\n",
    "    threshold = longest_ORF_noncoding(dna, 1500)\n",
    "    aas = []\n",
    "    for orf in find_all_ORFs_both_strands(dna):\n",
    "        if len(orf) > threshold:\n",
    "            aas.append(coding_strand_to_AA(orf))\n",
    "    return aas"
   ]
  }
 ],
 "metadata": {
  "kernelspec": {
   "display_name": "Python 3",
   "language": "python",
   "name": "python3"
  },
  "language_info": {
   "codemirror_mode": {
    "name": "ipython",
    "version": 3
   },
   "file_extension": ".py",
   "mimetype": "text/x-python",
   "name": "python",
   "nbconvert_exporter": "python",
   "pygments_lexer": "ipython3",
   "version": "3.5.2"
  }
 },
 "nbformat": 4,
 "nbformat_minor": 2
}

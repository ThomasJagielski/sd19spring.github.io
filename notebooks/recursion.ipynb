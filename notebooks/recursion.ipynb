{
 "cells": [
  {
   "cell_type": "markdown",
   "metadata": {},
   "source": [
    "# Recursion Notes"
   ]
  },
  {
   "cell_type": "markdown",
   "metadata": {},
   "source": [
    "## I. Counting Codons"
   ]
  },
  {
   "cell_type": "markdown",
   "metadata": {},
   "source": [
    "How many codons are there? That, is how many nucleotide sequences have length three – how many ways are there of combining three nucleotides , each independently drawn from the set $\\{A, C, T, G\\}$. For example, `ATG`, `CAT`, and `GAG` are three-nucleotide codons; `DOG` is not (`D` and `O` are not nucleotides); neither is `CATATG` (it has length 6, not 3).\n",
    "\n",
    "### Analysis\n",
    "\n",
    "There are three positions. The nucleotide at each position is selected *independently* of the nucleotides at any other position. There's four ways of choosing the first position, and four ways of choosing the second position, and four ways of choosing the third position, so (handwave) there's $4 \\times 4 \\ times 4 = 64$ ways of filling all three positions.\n",
    "\n",
    "More generally, there's $4^n$ ways of filling the $n$ positions in a $n$-nucleotide sequence.\n",
    "\n",
    "(Quick check: is it $4^n$ or $n^4$? Which one works when $n = 1$?)"
   ]
  },
  {
   "cell_type": "code",
   "execution_count": 1,
   "metadata": {
    "scrolled": false
   },
   "outputs": [
    {
     "name": "stdout",
     "output_type": "stream",
     "text": [
      "1\n",
      "4\n",
      "64\n"
     ]
    }
   ],
   "source": [
    "def C(n):\n",
    "    return 4 ** n\n",
    "\n",
    "print(C(0))\n",
    "print(C(1))\n",
    "print(C(3))"
   ]
  },
  {
   "cell_type": "markdown",
   "metadata": {},
   "source": [
    "Let's make this a bit less handwave-y:\n",
    "\n",
    "There's four possibilities for the first position: `A`, `C`, `T`, `G`.\n",
    "\n",
    "For each of these first-position possibilities, there's *another* four possibilities for the second position, for a total of $4 \\times 4 = 16$. For example, `A` can be extended to `AA`, `AC`, `AT`, and `AG`, giving a total of four 2-nucleotide sequences just starting with `A`.\n",
    "\n",
    "Each of these 2-nucleotide sequences can be extended in four different ways, for a total of $16 \\times 4 = 64$. For example, `AT` extends to `ATA`, `ATC`, `ATG`, and `ATT`.\n",
    "\n",
    "Generalizing this, there are $4^n$ $n$-nucleotide sequences."
   ]
  },
  {
   "cell_type": "code",
   "execution_count": 2,
   "metadata": {
    "scrolled": true
   },
   "outputs": [
    {
     "name": "stdout",
     "output_type": "stream",
     "text": [
      "1\n",
      "4\n",
      "64\n"
     ]
    }
   ],
   "source": [
    "def C(n):\n",
    "    a = 1\n",
    "    for i in range(n):\n",
    "        a = a * 4\n",
    "    return a\n",
    "    \n",
    "print(C(0))\n",
    "print(C(1))\n",
    "print(C(3))"
   ]
  },
  {
   "cell_type": "markdown",
   "metadata": {},
   "source": [
    "\n",
    "## Analysis, with Induction\n",
    "\n",
    "Here's another way of analyzing the problem.\n",
    "\n",
    "If you're already familiar with **induction** from math, this may help you relate recursion to what you already know.\n",
    "\n",
    "if you're *not* familiar with induction from math, this is not the best introduction.\n",
    "\n",
    "Let $C_n$ denote the number of $n$-length sequences.\n",
    "\n",
    "There are four single-nucleotide sequences: the single-nucleotide sequences `A`, `C`, `T`, and `G`. Therefore $C_1 = 4$.\n",
    "\n",
    "There are $C_2 = 16$ two-nucleotide sequences. There are four possibilities for the first nucleotide; independently, there are four possibiities for the second nucleotide. $4 \\times 4 = 16$.\n",
    "\n",
    "There are $C_3 = 64$ three-nucleotide sequences. A three-nucleotide sequence is a two-nucleotide subsequence followed by a single nucleotide. We already know there's 16 possible choices for the two-nucleotide subsequence. Each of those 16 possibilities can be followed by any of four nucleotides, for a total of $16 \\times 4 = 64$.\n",
    "\n",
    "In general, $C_{n+1} = C_n \\times 4$.\n",
    "\n",
    "We can go back a step, too. There's only one zero-nucleotide sequence: the empty sequence. Therefore, $C_0 = 1$. $C_1 = C_0 \\times 4 = 1 C \\times 4 = 4$ – the pattern works!\n",
    "\n",
    "This gives us the following **recurrence** relation:\n",
    "\n",
    "$$\\begin{eqnarray}\n",
    "C_0 &=& 0 \\\\\n",
    "C_{n+1} &=& C_n \\times 4\n",
    "\\end{eqnarray}$$"
   ]
  },
  {
   "cell_type": "markdown",
   "metadata": {},
   "source": [
    "Here's four equivalent ways to implement (math) **recurrence** relationship, using (programming) **recursion**:"
   ]
  },
  {
   "cell_type": "code",
   "execution_count": 4,
   "metadata": {},
   "outputs": [
    {
     "name": "stdout",
     "output_type": "stream",
     "text": [
      "1\n",
      "4\n",
      "64\n"
     ]
    }
   ],
   "source": [
    "def C(n):\n",
    "    if n == 0:\n",
    "        return 1\n",
    "    return C(n - 1) * 4\n",
    "    \n",
    "print(C(0))\n",
    "print(C(1))\n",
    "print(C(3))"
   ]
  },
  {
   "cell_type": "code",
   "execution_count": 4,
   "metadata": {},
   "outputs": [
    {
     "name": "stdout",
     "output_type": "stream",
     "text": [
      "1\n",
      "4\n",
      "64\n"
     ]
    }
   ],
   "source": [
    "def C(n):\n",
    "    if n == 0:\n",
    "        return 1\n",
    "    else:\n",
    "        return C(n - 1) * 4\n",
    "    \n",
    "print(C(0))\n",
    "print(C(1))\n",
    "print(C(3))"
   ]
  },
  {
   "cell_type": "code",
   "execution_count": 3,
   "metadata": {},
   "outputs": [
    {
     "name": "stdout",
     "output_type": "stream",
     "text": [
      "1\n",
      "4\n",
      "64\n"
     ]
    }
   ],
   "source": [
    "def C(n):\n",
    "    if n > 0:\n",
    "        return C(n - 1) * 4\n",
    "    return 1\n",
    "    \n",
    "print(C(0))\n",
    "print(C(1))\n",
    "print(C(3))"
   ]
  },
  {
   "cell_type": "code",
   "execution_count": 4,
   "metadata": {},
   "outputs": [
    {
     "name": "stdout",
     "output_type": "stream",
     "text": [
      "1\n",
      "4\n",
      "64\n"
     ]
    }
   ],
   "source": [
    "def C(n):\n",
    "    return 1 if n == 0 else C(n - 1) * 4\n",
    "    \n",
    "print(C(0))\n",
    "print(C(1))\n",
    "print(C(3))"
   ]
  },
  {
   "cell_type": "markdown",
   "metadata": {},
   "source": [
    "And here's a couple of common mistakes, and their symptom. See if you can spot the problems in the code."
   ]
  },
  {
   "cell_type": "code",
   "execution_count": 5,
   "metadata": {
    "scrolled": true
   },
   "outputs": [
    {
     "ename": "RecursionError",
     "evalue": "maximum recursion depth exceeded",
     "output_type": "error",
     "traceback": [
      "\u001b[0;31m----------------------------------------------------------------------\u001b[0m",
      "\u001b[0;31mRecursionError\u001b[0m                       Traceback (most recent call last)",
      "\u001b[0;32m<ipython-input-5-936cf6aa9c0d>\u001b[0m in \u001b[0;36m<module>\u001b[0;34m()\u001b[0m\n\u001b[1;32m      2\u001b[0m     \u001b[0;32mreturn\u001b[0m \u001b[0mC\u001b[0m\u001b[0;34m(\u001b[0m\u001b[0mn\u001b[0m \u001b[0;34m-\u001b[0m \u001b[0;36m1\u001b[0m\u001b[0;34m)\u001b[0m \u001b[0;34m*\u001b[0m \u001b[0;36m4\u001b[0m\u001b[0;34m\u001b[0m\u001b[0m\n\u001b[1;32m      3\u001b[0m \u001b[0;34m\u001b[0m\u001b[0m\n\u001b[0;32m----> 4\u001b[0;31m \u001b[0mprint\u001b[0m\u001b[0;34m(\u001b[0m\u001b[0mC\u001b[0m\u001b[0;34m(\u001b[0m\u001b[0;36m0\u001b[0m\u001b[0;34m)\u001b[0m\u001b[0;34m)\u001b[0m\u001b[0;34m\u001b[0m\u001b[0m\n\u001b[0m\u001b[1;32m      5\u001b[0m \u001b[0mprint\u001b[0m\u001b[0;34m(\u001b[0m\u001b[0mC\u001b[0m\u001b[0;34m(\u001b[0m\u001b[0;36m1\u001b[0m\u001b[0;34m)\u001b[0m\u001b[0;34m)\u001b[0m\u001b[0;34m\u001b[0m\u001b[0m\n\u001b[1;32m      6\u001b[0m \u001b[0mprint\u001b[0m\u001b[0;34m(\u001b[0m\u001b[0mC\u001b[0m\u001b[0;34m(\u001b[0m\u001b[0;36m3\u001b[0m\u001b[0;34m)\u001b[0m\u001b[0;34m)\u001b[0m\u001b[0;34m\u001b[0m\u001b[0m\n",
      "\u001b[0;32m<ipython-input-5-936cf6aa9c0d>\u001b[0m in \u001b[0;36mC\u001b[0;34m(n)\u001b[0m\n\u001b[1;32m      1\u001b[0m \u001b[0;32mdef\u001b[0m \u001b[0mC\u001b[0m\u001b[0;34m(\u001b[0m\u001b[0mn\u001b[0m\u001b[0;34m)\u001b[0m\u001b[0;34m:\u001b[0m\u001b[0;34m\u001b[0m\u001b[0m\n\u001b[0;32m----> 2\u001b[0;31m     \u001b[0;32mreturn\u001b[0m \u001b[0mC\u001b[0m\u001b[0;34m(\u001b[0m\u001b[0mn\u001b[0m \u001b[0;34m-\u001b[0m \u001b[0;36m1\u001b[0m\u001b[0;34m)\u001b[0m \u001b[0;34m*\u001b[0m \u001b[0;36m4\u001b[0m\u001b[0;34m\u001b[0m\u001b[0m\n\u001b[0m\u001b[1;32m      3\u001b[0m \u001b[0;34m\u001b[0m\u001b[0m\n\u001b[1;32m      4\u001b[0m \u001b[0mprint\u001b[0m\u001b[0;34m(\u001b[0m\u001b[0mC\u001b[0m\u001b[0;34m(\u001b[0m\u001b[0;36m0\u001b[0m\u001b[0;34m)\u001b[0m\u001b[0;34m)\u001b[0m\u001b[0;34m\u001b[0m\u001b[0m\n\u001b[1;32m      5\u001b[0m \u001b[0mprint\u001b[0m\u001b[0;34m(\u001b[0m\u001b[0mC\u001b[0m\u001b[0;34m(\u001b[0m\u001b[0;36m1\u001b[0m\u001b[0;34m)\u001b[0m\u001b[0;34m)\u001b[0m\u001b[0;34m\u001b[0m\u001b[0m\n",
      "... last 1 frames repeated, from the frame below ...\n",
      "\u001b[0;32m<ipython-input-5-936cf6aa9c0d>\u001b[0m in \u001b[0;36mC\u001b[0;34m(n)\u001b[0m\n\u001b[1;32m      1\u001b[0m \u001b[0;32mdef\u001b[0m \u001b[0mC\u001b[0m\u001b[0;34m(\u001b[0m\u001b[0mn\u001b[0m\u001b[0;34m)\u001b[0m\u001b[0;34m:\u001b[0m\u001b[0;34m\u001b[0m\u001b[0m\n\u001b[0;32m----> 2\u001b[0;31m     \u001b[0;32mreturn\u001b[0m \u001b[0mC\u001b[0m\u001b[0;34m(\u001b[0m\u001b[0mn\u001b[0m \u001b[0;34m-\u001b[0m \u001b[0;36m1\u001b[0m\u001b[0;34m)\u001b[0m \u001b[0;34m*\u001b[0m \u001b[0;36m4\u001b[0m\u001b[0;34m\u001b[0m\u001b[0m\n\u001b[0m\u001b[1;32m      3\u001b[0m \u001b[0;34m\u001b[0m\u001b[0m\n\u001b[1;32m      4\u001b[0m \u001b[0mprint\u001b[0m\u001b[0;34m(\u001b[0m\u001b[0mC\u001b[0m\u001b[0;34m(\u001b[0m\u001b[0;36m0\u001b[0m\u001b[0;34m)\u001b[0m\u001b[0;34m)\u001b[0m\u001b[0;34m\u001b[0m\u001b[0m\n\u001b[1;32m      5\u001b[0m \u001b[0mprint\u001b[0m\u001b[0;34m(\u001b[0m\u001b[0mC\u001b[0m\u001b[0;34m(\u001b[0m\u001b[0;36m1\u001b[0m\u001b[0;34m)\u001b[0m\u001b[0;34m)\u001b[0m\u001b[0;34m\u001b[0m\u001b[0m\n",
      "\u001b[0;31mRecursionError\u001b[0m: maximum recursion depth exceeded"
     ]
    }
   ],
   "source": [
    "def C(n):\n",
    "    return C(n - 1) * 4\n",
    "\n",
    "print(C(0))\n",
    "print(C(1))\n",
    "print(C(3))"
   ]
  },
  {
   "cell_type": "code",
   "execution_count": 5,
   "metadata": {
    "scrolled": true
   },
   "outputs": [
    {
     "name": "stdout",
     "output_type": "stream",
     "text": [
      "1\n"
     ]
    },
    {
     "ename": "RecursionError",
     "evalue": "maximum recursion depth exceeded in comparison",
     "output_type": "error",
     "traceback": [
      "\u001b[0;31m---------------------------------------------------------------------------\u001b[0m",
      "\u001b[0;31mRecursionError\u001b[0m                            Traceback (most recent call last)",
      "\u001b[0;32m<ipython-input-5-779879d3e859>\u001b[0m in \u001b[0;36m<module>\u001b[0;34m()\u001b[0m\n\u001b[1;32m      6\u001b[0m \u001b[0;34m\u001b[0m\u001b[0m\n\u001b[1;32m      7\u001b[0m \u001b[0mprint\u001b[0m\u001b[0;34m(\u001b[0m\u001b[0mC\u001b[0m\u001b[0;34m(\u001b[0m\u001b[0;36m0\u001b[0m\u001b[0;34m)\u001b[0m\u001b[0;34m)\u001b[0m\u001b[0;34m\u001b[0m\u001b[0m\n\u001b[0;32m----> 8\u001b[0;31m \u001b[0mprint\u001b[0m\u001b[0;34m(\u001b[0m\u001b[0mC\u001b[0m\u001b[0;34m(\u001b[0m\u001b[0;36m1\u001b[0m\u001b[0;34m)\u001b[0m\u001b[0;34m)\u001b[0m\u001b[0;34m\u001b[0m\u001b[0m\n\u001b[0m\u001b[1;32m      9\u001b[0m \u001b[0mprint\u001b[0m\u001b[0;34m(\u001b[0m\u001b[0mC\u001b[0m\u001b[0;34m(\u001b[0m\u001b[0;36m3\u001b[0m\u001b[0;34m)\u001b[0m\u001b[0;34m)\u001b[0m\u001b[0;34m\u001b[0m\u001b[0m\n",
      "\u001b[0;32m<ipython-input-5-779879d3e859>\u001b[0m in \u001b[0;36mC\u001b[0;34m(n)\u001b[0m\n\u001b[1;32m      1\u001b[0m \u001b[0;32mdef\u001b[0m \u001b[0mC\u001b[0m\u001b[0;34m(\u001b[0m\u001b[0mn\u001b[0m\u001b[0;34m)\u001b[0m\u001b[0;34m:\u001b[0m\u001b[0;34m\u001b[0m\u001b[0m\n\u001b[1;32m      2\u001b[0m     \u001b[0;32mif\u001b[0m \u001b[0mn\u001b[0m \u001b[0;34m>\u001b[0m \u001b[0;36m0\u001b[0m\u001b[0;34m:\u001b[0m\u001b[0;34m\u001b[0m\u001b[0m\n\u001b[0;32m----> 3\u001b[0;31m         \u001b[0;32mreturn\u001b[0m \u001b[0mC\u001b[0m\u001b[0;34m(\u001b[0m\u001b[0mn\u001b[0m\u001b[0;34m)\u001b[0m \u001b[0;34m*\u001b[0m \u001b[0;36m4\u001b[0m\u001b[0;34m\u001b[0m\u001b[0m\n\u001b[0m\u001b[1;32m      4\u001b[0m     \u001b[0;32mreturn\u001b[0m \u001b[0;36m1\u001b[0m\u001b[0;34m\u001b[0m\u001b[0m\n\u001b[1;32m      5\u001b[0m \u001b[0;34m\u001b[0m\u001b[0m\n",
      "... last 1 frames repeated, from the frame below ...\n",
      "\u001b[0;32m<ipython-input-5-779879d3e859>\u001b[0m in \u001b[0;36mC\u001b[0;34m(n)\u001b[0m\n\u001b[1;32m      1\u001b[0m \u001b[0;32mdef\u001b[0m \u001b[0mC\u001b[0m\u001b[0;34m(\u001b[0m\u001b[0mn\u001b[0m\u001b[0;34m)\u001b[0m\u001b[0;34m:\u001b[0m\u001b[0;34m\u001b[0m\u001b[0m\n\u001b[1;32m      2\u001b[0m     \u001b[0;32mif\u001b[0m \u001b[0mn\u001b[0m \u001b[0;34m>\u001b[0m \u001b[0;36m0\u001b[0m\u001b[0;34m:\u001b[0m\u001b[0;34m\u001b[0m\u001b[0m\n\u001b[0;32m----> 3\u001b[0;31m         \u001b[0;32mreturn\u001b[0m \u001b[0mC\u001b[0m\u001b[0;34m(\u001b[0m\u001b[0mn\u001b[0m\u001b[0;34m)\u001b[0m \u001b[0;34m*\u001b[0m \u001b[0;36m4\u001b[0m\u001b[0;34m\u001b[0m\u001b[0m\n\u001b[0m\u001b[1;32m      4\u001b[0m     \u001b[0;32mreturn\u001b[0m \u001b[0;36m1\u001b[0m\u001b[0;34m\u001b[0m\u001b[0m\n\u001b[1;32m      5\u001b[0m \u001b[0;34m\u001b[0m\u001b[0m\n",
      "\u001b[0;31mRecursionError\u001b[0m: maximum recursion depth exceeded in comparison"
     ]
    }
   ],
   "source": [
    "def C(n):\n",
    "    if n > 0:\n",
    "        return C(n) * 4\n",
    "    return 1\n",
    "\n",
    "\n",
    "print(C(0))\n",
    "print(C(1))\n",
    "print(C(3))"
   ]
  },
  {
   "cell_type": "markdown",
   "metadata": {},
   "source": [
    "## II. Binary Tree\n",
    "`build_binary_tree` builds a [binary tree](https://en.wikipedia.org/wiki/Binary_tree) of depth (or height) $n$. You can look at the output to see what is meant by \"binary tree\", and how it's represented."
   ]
  },
  {
   "cell_type": "code",
   "execution_count": 6,
   "metadata": {},
   "outputs": [
    {
     "name": "stdout",
     "output_type": "stream",
     "text": [
      "1\n",
      "[1, 1]\n",
      "[[1, 1], [1, 1]]\n",
      "[[[1, 1], [1, 1]], [[1, 1], [1, 1]]]\n"
     ]
    }
   ],
   "source": [
    "def build_binary_tree(n):\n",
    "    if n == 0:\n",
    "        return 1\n",
    "    return [build_binary_tree(n - 1), build_binary_tree(n - 1)]\n",
    "\n",
    "print(build_binary_tree(0))\n",
    "print(build_binary_tree(1))\n",
    "print(build_binary_tree(2))\n",
    "print(build_binary_tree(3))"
   ]
  },
  {
   "cell_type": "markdown",
   "metadata": {},
   "source": [
    "Here's a slight variant, that makes *unbalanced* trees, where the left branch is deeper than the right branch."
   ]
  },
  {
   "cell_type": "code",
   "execution_count": 9,
   "metadata": {},
   "outputs": [
    {
     "name": "stdout",
     "output_type": "stream",
     "text": [
      "1\n",
      "[1, 1]\n",
      "[[1, 1], 1]\n",
      "[[[1, 1], 1], [1, 1]]\n"
     ]
    }
   ],
   "source": [
    "def build_binary_tree(n):\n",
    "    if n == 0:\n",
    "        return 1\n",
    "    return [build_binary_tree(n - 1), build_binary_tree(max(n - 2, 0))]\n",
    "\n",
    "print(build_binary_tree(0))\n",
    "print(build_binary_tree(1))\n",
    "print(build_binary_tree(2))\n",
    "print(build_binary_tree(3))"
   ]
  }
 ],
 "metadata": {
  "kernelspec": {
   "display_name": "Python 3",
   "language": "python",
   "name": "python3"
  },
  "language_info": {
   "codemirror_mode": {
    "name": "ipython",
    "version": 3
   },
   "file_extension": ".py",
   "mimetype": "text/x-python",
   "name": "python",
   "nbconvert_exporter": "python",
   "pygments_lexer": "ipython3",
   "version": "3.5.2"
  }
 },
 "nbformat": 4,
 "nbformat_minor": 2
}

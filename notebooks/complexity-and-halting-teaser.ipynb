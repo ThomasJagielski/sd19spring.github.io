{
 "cells": [
  {
   "cell_type": "markdown",
   "metadata": {},
   "source": [
    "# Order of Growth"
   ]
  },
  {
   "cell_type": "code",
   "execution_count": 6,
   "metadata": {},
   "outputs": [
    {
     "name": "stdout",
     "output_type": "stream",
     "text": [
      "1000000 loops, best of 3: 853 ns per loop\n",
      "100000 loops, best of 3: 5.28 µs per loop\n",
      "10000 loops, best of 3: 56.2 µs per loop\n"
     ]
    }
   ],
   "source": [
    "def f1(n):\n",
    "    \"\"\"Return the sum of 0..(n-1).\"\"\"\n",
    "    s = 0\n",
    "    for i in range(n):\n",
    "        s += i\n",
    "    return s\n",
    "\n",
    "%timeit f1(10)\n",
    "%timeit f1(100)\n",
    "%timeit f1(1000)"
   ]
  },
  {
   "cell_type": "code",
   "execution_count": 7,
   "metadata": {},
   "outputs": [
    {
     "name": "stdout",
     "output_type": "stream",
     "text": [
      "The slowest run took 8.10 times longer than the fastest. This could mean that an intermediate result is being cached.\n",
      "10000000 loops, best of 3: 161 ns per loop\n",
      "The slowest run took 6.92 times longer than the fastest. This could mean that an intermediate result is being cached.\n",
      "10000000 loops, best of 3: 182 ns per loop\n",
      "The slowest run took 6.06 times longer than the fastest. This could mean that an intermediate result is being cached.\n",
      "10000000 loops, best of 3: 191 ns per loop\n"
     ]
    }
   ],
   "source": [
    "def f2(n):\n",
    "    \"\"\"Return the sum of 0..(n-1).\"\"\"\n",
    "    return n * (n + 1) / 2\n",
    "\n",
    "%timeit f2(10)\n",
    "%timeit f2(100)\n",
    "%timeit f2(1000)"
   ]
  },
  {
   "cell_type": "code",
   "execution_count": null,
   "metadata": {},
   "outputs": [],
   "source": [
    "def f3(n):\n",
    "    \"\"\"A shorter implementation of a program with many longer and less intentional implementations.\"\"\"\n",
    "    while True:\n",
    "        pass"
   ]
  },
  {
   "cell_type": "code",
   "execution_count": null,
   "metadata": {},
   "outputs": [],
   "source": [
    "def f4(fname):\n",
    "    \"\"\"Count the newlines in the file. (This may be one less than the number of lines.)\"\"\"\n",
    "    source = open(fname).read()\n",
    "    s = 0\n",
    "    for c in source:\n",
    "        if c == '\\n':\n",
    "            s += 1\n",
    "    return s"
   ]
  },
  {
   "cell_type": "code",
   "execution_count": null,
   "metadata": {},
   "outputs": [],
   "source": [
    "def f5(fname):\n",
    "    \"\"\"\n",
    "    Return true if and only if fname is a Python source file that halts when run.\n",
    "    \n",
    "    This could more mnemonically be named 'halts'.\n",
    "    \n",
    "    >>> halts('f1.py') # f1.py is a file that defines f1 above, and calls `f1(100)`\n",
    "    True\n",
    "    >>> halts('f2.py') # f2.py is a file that defines f2 above, and calls `f2(100)`\n",
    "    True\n",
    "    >>> halts('f3.py') # f3.py is a file that defines f2 above, and calls `f3(100)`\n",
    "    False\n",
    "    >>> halts('f4.py') # f3.py is a file that defines f2 above, and calls `f4('f4.py')`\n",
    "    True\n",
    "    \"\"\"\n",
    "    source = open(fname).read()\n",
    "    # TODO replace following line by code that sets `halts` to True\n",
    "    # if and only if source is a python program that halts when run.\n",
    "    halts = False\n",
    "    return halts"
   ]
  },
  {
   "cell_type": "code",
   "execution_count": null,
   "metadata": {},
   "outputs": [],
   "source": [
    "def f6(fname):\n",
    "    \"\"\"\n",
    "    This could more mnemonically be named 'doesnt_halt'.\n",
    "\n",
    "    >>> halts('f1.py') # f1.py is a file that defines f1 above, and calls `f1(100)`\n",
    "    False\n",
    "    >>> halts('f2.py') # f2.py is a file that defines f2 above, and calls `f2(100)`\n",
    "    False\n",
    "    >>> halts('f3.py') # f3.py is a file that defines f2 above, and calls `f3(100)`\n",
    "    True\n",
    "    >>> halts('f4.py') # f3.py is a file that defines f2 above, and calls `f4('f4.py')`\n",
    "    False\n",
    "    >>> halts('f6.py') # f6.py is a file that defines this function f6, and calls `f6('f6.py')`\n",
    "    ???\n",
    "    \"\"\"\n",
    "    return not f6(fname)"
   ]
  }
 ],
 "metadata": {
  "kernelspec": {
   "display_name": "Python 3",
   "language": "python",
   "name": "python3"
  },
  "language_info": {
   "codemirror_mode": {
    "name": "ipython",
    "version": 3
   },
   "file_extension": ".py",
   "mimetype": "text/x-python",
   "name": "python",
   "nbconvert_exporter": "python",
   "pygments_lexer": "ipython3",
   "version": "3.5.2"
  }
 },
 "nbformat": 4,
 "nbformat_minor": 2
}

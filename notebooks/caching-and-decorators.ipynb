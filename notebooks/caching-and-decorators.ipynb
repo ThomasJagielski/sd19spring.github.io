{
 "cells": [
  {
   "cell_type": "markdown",
   "metadata": {},
   "source": [
    "# Caching and Decorators"
   ]
  },
  {
   "cell_type": "markdown",
   "metadata": {},
   "source": [
    "## Instrumentation"
   ]
  },
  {
   "cell_type": "markdown",
   "metadata": {},
   "source": [
    "Consider the lowly Fibonacci function:"
   ]
  },
  {
   "cell_type": "code",
   "execution_count": 128,
   "metadata": {},
   "outputs": [
    {
     "data": {
      "text/plain": [
       "55"
      ]
     },
     "execution_count": 128,
     "metadata": {},
     "output_type": "execute_result"
    }
   ],
   "source": [
    "def fib(n):\n",
    "    if n <= 2:\n",
    "        return 1\n",
    "    else:\n",
    "        return fib(n-2) + fib(n-1)\n",
    "\n",
    "fib(10)"
   ]
  },
  {
   "cell_type": "markdown",
   "metadata": {},
   "source": [
    "This function is a straightforward translation of\n",
    "\n",
    "$$F(n)=\\left\\{\n",
    "                \\begin{array}{ll}\n",
    "                  1&n <= 2\\\\\n",
    "                  F_{n-2} + F_{n-1}&n>2\n",
    "                \\end{array}\n",
    "              \\right.$$"
   ]
  },
  {
   "cell_type": "markdown",
   "metadata": {},
   "source": [
    "`fib` is a recursive function, so a single *external* call to `fib` can result in lots of *recursive* calls, where it calls itself.\n",
    "\n",
    "Let's **instrument** `fib`, to report how many calls result from a single external call:"
   ]
  },
  {
   "cell_type": "code",
   "execution_count": 1,
   "metadata": {
    "scrolled": true
   },
   "outputs": [
    {
     "name": "stdout",
     "output_type": "stream",
     "text": [
      "fib(10) = 55; fib was called 109 times\n"
     ]
    }
   ],
   "source": [
    "count = 0\n",
    "\n",
    "def fib(n):\n",
    "    global count\n",
    "    count += 1\n",
    "    if n <= 2:\n",
    "        return 1\n",
    "    else:\n",
    "        return fib(n-2) + fib(n-1)\n",
    "\n",
    "print(\"fib({}) = {}; fib was called {:,} times\".format(10, fib(10), count))"
   ]
  },
  {
   "cell_type": "markdown",
   "metadata": {},
   "source": [
    "The number of calls increases (exponentially) as a function of the argument.:"
   ]
  },
  {
   "cell_type": "code",
   "execution_count": 129,
   "metadata": {
    "scrolled": true
   },
   "outputs": [
    {
     "name": "stdout",
     "output_type": "stream",
     "text": [
      "fib(1) = 1; fib was called 1 times\n",
      "fib(2) = 1; fib was called 1 times\n",
      "fib(3) = 2; fib was called 3 times\n",
      "fib(4) = 3; fib was called 5 times\n",
      "fib(5) = 5; fib was called 9 times\n",
      "fib(10) = 55; fib was called 109 times\n",
      "fib(20) = 6765; fib was called 13,529 times\n",
      "fib(30) = 832040; fib was called 1,664,079 times\n"
     ]
    }
   ],
   "source": [
    "count = 0\n",
    "\n",
    "def fib(n):\n",
    "    global count\n",
    "    count += 1\n",
    "    if n <= 2:\n",
    "        return 1\n",
    "    else:\n",
    "        return fib(n-2) + fib(n-1)\n",
    "\n",
    "for i in [1, 2, 3, 4, 5, 10, 20, 30]:\n",
    "    count = 0\n",
    "    print(\"fib({}) = {}; fib was called {:,} times\".format(i, fib(i), count))"
   ]
  },
  {
   "cell_type": "markdown",
   "metadata": {},
   "source": [
    "This large number of calls has a direct affect on performance:"
   ]
  },
  {
   "cell_type": "code",
   "execution_count": 130,
   "metadata": {},
   "outputs": [
    {
     "name": "stdout",
     "output_type": "stream",
     "text": [
      "10000 loops, best of 3: 25.9 µs per loop\n",
      "100 loops, best of 3: 3.22 ms per loop\n",
      "1 loop, best of 3: 414 ms per loop\n"
     ]
    }
   ],
   "source": [
    "%timeit fib(10)\n",
    "%timeit fib(20)\n",
    "%timeit fib(30)"
   ]
  },
  {
   "cell_type": "markdown",
   "metadata": {},
   "source": [
    "Note the microseconds (µs) and milliseconds (ms) per loop. 500 ms is half a second, so it's getting pretty slow."
   ]
  },
  {
   "cell_type": "markdown",
   "metadata": {},
   "source": [
    "Let's **instrument** the function to print each time it's called, so that we can see more about what's going on:"
   ]
  },
  {
   "cell_type": "code",
   "execution_count": 6,
   "metadata": {
    "scrolled": true
   },
   "outputs": [
    {
     "name": "stdout",
     "output_type": "stream",
     "text": [
      "Calling fib(6)\n",
      "Calling fib(4)\n",
      "Calling fib(2)\n",
      "Calling fib(3)\n",
      "Calling fib(1)\n",
      "Calling fib(2)\n",
      "Calling fib(5)\n",
      "Calling fib(3)\n",
      "Calling fib(1)\n",
      "Calling fib(2)\n",
      "Calling fib(4)\n",
      "Calling fib(2)\n",
      "Calling fib(3)\n",
      "Calling fib(1)\n",
      "Calling fib(2)\n"
     ]
    },
    {
     "data": {
      "text/plain": [
       "8"
      ]
     },
     "execution_count": 6,
     "metadata": {},
     "output_type": "execute_result"
    }
   ],
   "source": [
    "def fib(n):\n",
    "    print(\"Calling fib({})\".format(n))\n",
    "    if n <= 2:\n",
    "        return 1\n",
    "    else:\n",
    "        return fib(n-2) + fib(n-1)\n",
    "\n",
    "fib(6)"
   ]
  },
  {
   "cell_type": "markdown",
   "metadata": {},
   "source": [
    "This output shows that `fib` is called multiple times with the same arguments. `fib(4)` is called a couple times. `fib(3)` is being called three times. `fib(2)` is called *five* times.\n",
    "\n",
    "Here's modified instrumentation (and a chance to learn about [defaultdict](https://docs.python.org/3/library/collections.html#collections.defaultdict)), to report how many times `fib` is applied to each argument value:"
   ]
  },
  {
   "cell_type": "code",
   "execution_count": 11,
   "metadata": {
    "scrolled": false
   },
   "outputs": [
    {
     "name": "stdout",
     "output_type": "stream",
     "text": [
      "fib(1) was called 3 times\n",
      "fib(2) was called 5 times\n",
      "fib(3) was called 3 times\n",
      "fib(4) was called 2 times\n",
      "fib(5) was called 1 times\n",
      "fib(6) was called 1 times\n"
     ]
    }
   ],
   "source": [
    "from collections import defaultdict\n",
    "counts = defaultdict(lambda: 0)\n",
    "\n",
    "def fib(n):\n",
    "    counts[n] += 1\n",
    "    if n <= 2:\n",
    "        return 1\n",
    "    else:\n",
    "        return fib(n-2) + fib(n-1)\n",
    "\n",
    "fib(6)\n",
    "\n",
    "for n, count in sorted(counts.items()):\n",
    "    print(\"fib({}) was called {} times\".format(n, count))"
   ]
  },
  {
   "cell_type": "markdown",
   "metadata": {},
   "source": [
    "(A digression: you might notice an interesting pattern in the sequence of call counts. Let's see if it holds up:)"
   ]
  },
  {
   "cell_type": "code",
   "execution_count": 14,
   "metadata": {},
   "outputs": [
    {
     "name": "stdout",
     "output_type": "stream",
     "text": [
      "fib(1) was called 55 times\n",
      "fib(2) was called 89 times\n",
      "fib(3) was called 55 times\n",
      "fib(4) was called 34 times\n",
      "fib(5) was called 21 times\n",
      "fib(6) was called 13 times\n",
      "fib(7) was called 8 times\n",
      "fib(8) was called 5 times\n",
      "fib(9) was called 3 times\n",
      "fib(10) was called 2 times\n",
      "fib(11) was called 1 times\n",
      "fib(12) was called 1 times\n"
     ]
    }
   ],
   "source": [
    "counts = defaultdict(lambda: 0)\n",
    "fib(12)\n",
    "for n, count in sorted(counts.items()):\n",
    "    print(\"fib({}) was called {} times\".format(n, count))"
   ]
  },
  {
   "cell_type": "markdown",
   "metadata": {},
   "source": [
    "## Caching"
   ]
  },
  {
   "cell_type": "markdown",
   "metadata": {},
   "source": [
    "Instead of *instrumenting* the code, to simply record how many times the function was called, we can modify it to *cache* the computation, and use this cached value.\n",
    "\n",
    "This is exactly the same technique as caching web requests, for Text Mining. Here it saves repeated *computation*. (There it avoided repeated *network requests*.) This reduces the function's **computational complexity**."
   ]
  },
  {
   "cell_type": "code",
   "execution_count": 23,
   "metadata": {},
   "outputs": [
    {
     "name": "stdout",
     "output_type": "stream",
     "text": [
      "fib(10) = 55; fib was computed 11 times\n"
     ]
    }
   ],
   "source": [
    "fib_cache = {}\n",
    "count = 0\n",
    "\n",
    "def fib(n):\n",
    "    global count\n",
    "    if n in fib_cache:\n",
    "        return fib_cache[n]\n",
    "    count += 1\n",
    "    if n <= 2:\n",
    "        return 1\n",
    "    else:\n",
    "        result = fib(n-2) + fib(n-1)\n",
    "        fib_cache[n] = result\n",
    "        return result\n",
    "\n",
    "print(\"fib({}) = {}; fib was computed {} times\".format(10, fib(10), count))"
   ]
  },
  {
   "cell_type": "markdown",
   "metadata": {},
   "source": [
    "Compare this to the uncached `fib`, where `fib(10)` resulted in *109* calls to `fib`.\n",
    "\n",
    "Savings are (exponentially) greater for greater values of $n$."
   ]
  },
  {
   "cell_type": "markdown",
   "metadata": {},
   "source": [
    "Let's re-run the timings. We'll time a wrapper for the cached `fib`, that resets `fib`'s cache each time."
   ]
  },
  {
   "cell_type": "code",
   "execution_count": 25,
   "metadata": {
    "scrolled": false
   },
   "outputs": [
    {
     "name": "stdout",
     "output_type": "stream",
     "text": [
      "100000 loops, best of 3: 5.04 µs per loop\n",
      "100000 loops, best of 3: 10.8 µs per loop\n",
      "100000 loops, best of 3: 17.6 µs per loop\n"
     ]
    }
   ],
   "source": [
    "def rfib(n):\n",
    "    global fib_cache\n",
    "    fib_cache = {}\n",
    "    return fib(n)\n",
    "\n",
    "%timeit rfib(10)\n",
    "%timeit rfib(20)\n",
    "%timeit rfib(30)"
   ]
  },
  {
   "cell_type": "markdown",
   "metadata": {},
   "source": [
    "For reference, the un-cached timings looked like this:\n",
    "\n",
    "    10000 loops, best of 3: 25.9 µs per loop\n",
    "    100 loops, best of 3: 3.22 ms per loop\n",
    "    1 loop, best of 3: 414 ms per loop"
   ]
  },
  {
   "cell_type": "markdown",
   "metadata": {},
   "source": [
    "## Separating concerns"
   ]
  },
  {
   "cell_type": "markdown",
   "metadata": {},
   "source": [
    "The code above takes a step *forwards* in terms of performance, but *backwards* in legibility. Half of it is concerned with doing the math, and half of it is concerned with caching. It violated **separation of concerns**.\n",
    "\n",
    "Let's separate the first instrumented `fib`, that counts how often it's been called, into two functions. `fib_` does the computation. `fib` *wraps* `fib_`, to add the instrumentation.\n",
    "\n",
    "(The underscore in `fib_` is used in Python the same way a prime $'$ is used in math. `fib_` corresponds to $\\textrm{fib}'$ or $F'$.)"
   ]
  },
  {
   "cell_type": "code",
   "execution_count": 134,
   "metadata": {},
   "outputs": [
    {
     "name": "stdout",
     "output_type": "stream",
     "text": [
      "fib(10) = 55; fib was called 109 times\n"
     ]
    }
   ],
   "source": [
    "count = 0\n",
    "\n",
    "def fib_(n):\n",
    "    if n <= 2:\n",
    "        return 1\n",
    "    else:\n",
    "        return fib(n-2) + fib(n-1)\n",
    "\n",
    "def fib(n):\n",
    "    global count\n",
    "    count += 1\n",
    "    return fib_(n)\n",
    "\n",
    "print(\"fib({}) = {}; fib was called {:,} times\".format(10, fib(10), count))"
   ]
  },
  {
   "cell_type": "markdown",
   "metadata": {},
   "source": [
    "We can change the wrapper to add different instrumentation, without changing the underlying function:"
   ]
  },
  {
   "cell_type": "code",
   "execution_count": 19,
   "metadata": {},
   "outputs": [
    {
     "name": "stdout",
     "output_type": "stream",
     "text": [
      "fib(1) was called 21 times\n",
      "fib(2) was called 34 times\n",
      "fib(3) was called 21 times\n",
      "fib(4) was called 13 times\n",
      "fib(5) was called 8 times\n",
      "fib(6) was called 5 times\n",
      "fib(7) was called 3 times\n",
      "fib(8) was called 2 times\n",
      "fib(9) was called 1 times\n",
      "fib(10) was called 1 times\n"
     ]
    }
   ],
   "source": [
    "from collections import defaultdict\n",
    "counts = defaultdict(lambda: 0)\n",
    "\n",
    "def fib_(n):\n",
    "    if n <= 2:\n",
    "        return 1\n",
    "    else:\n",
    "        return fib(n-2) + fib(n-1)\n",
    "\n",
    "def fib(n):\n",
    "    global count\n",
    "    counts[n] += 1\n",
    "    return fib_(n)\n",
    "\n",
    "fib(10)\n",
    "for n, count in sorted(counts.items()):\n",
    "    print(\"fib({}) was called {} times\".format(n, count))"
   ]
  },
  {
   "cell_type": "markdown",
   "metadata": {},
   "source": [
    "Now let's define a wrapper that adds caching. (We'll also keep some instrumentation, so we can see that the cache is working.)"
   ]
  },
  {
   "cell_type": "code",
   "execution_count": 20,
   "metadata": {
    "scrolled": true
   },
   "outputs": [
    {
     "name": "stdout",
     "output_type": "stream",
     "text": [
      "fib(10) = 55; fib was called 10 times\n"
     ]
    }
   ],
   "source": [
    "count = 0\n",
    "fib_cache = {}\n",
    "\n",
    "def fib_(n):\n",
    "    if n <= 2:\n",
    "        return 1\n",
    "    else:\n",
    "        return fib(n-2) + fib(n-1)\n",
    "\n",
    "def fib(n):\n",
    "    if n in fib_cache:\n",
    "        return fib_cache[n]\n",
    "    global count\n",
    "    count += 1\n",
    "    result = fib_(n)\n",
    "    fib_cache[n] = result\n",
    "    return result\n",
    "\n",
    "print(\"fib({}) = {}; fib was called {:,} times\".format(10, fib(10), count))"
   ]
  },
  {
   "cell_type": "markdown",
   "metadata": {},
   "source": [
    "## Higher-Order Programming"
   ]
  },
  {
   "cell_type": "markdown",
   "metadata": {},
   "source": [
    "The various wrapper `fib`s above didn't need to know anything about `fib_` specifically. They were written to know the name `fib_`, but they could have wrapped any other (unary) function instead.\n",
    "\n",
    "Let's give these wrapper functions a parameter, which is the function to wrap:"
   ]
  },
  {
   "cell_type": "code",
   "execution_count": 136,
   "metadata": {},
   "outputs": [
    {
     "name": "stdout",
     "output_type": "stream",
     "text": [
      "fib(10) = 55; fib was called 109 times\n"
     ]
    }
   ],
   "source": [
    "count = 0\n",
    "\n",
    "def fib_(n):\n",
    "    if n <= 2:\n",
    "        return 1\n",
    "    else:\n",
    "        return fib(n-2) + fib(n-1)\n",
    "\n",
    "def counting(fn):\n",
    "    def wrapper(n):\n",
    "        global count\n",
    "        count += 1\n",
    "        return fn(n)\n",
    "    return wrapper\n",
    "\n",
    "fib = counting(fib_)\n",
    "\n",
    "print(\"fib({}) = {}; fib was called {:,} times\".format(10, fib(10), count))"
   ]
  },
  {
   "cell_type": "markdown",
   "metadata": {},
   "source": [
    "Instead of defining `fib_` via `def`, and then defining `fib` via `fib = …`, we can define the function `def fib` and then replace its value.\n",
    "\n",
    "This relieves us from have to come up with a separate name (`fib_`) for the unwrapped `fib`.\n",
    "\n",
    "It also eliminates the inelegance where `fib_` had to know to call `fib` (that hasn't been defined yet), so that you needed to know that it was going to be wrapped before you could recognize that it was actually recursive."
   ]
  },
  {
   "cell_type": "code",
   "execution_count": 27,
   "metadata": {},
   "outputs": [
    {
     "name": "stdout",
     "output_type": "stream",
     "text": [
      "fib(10) = 55; fib was called 109 times\n"
     ]
    }
   ],
   "source": [
    "count = 0\n",
    "\n",
    "def fib(n):\n",
    "    if n <= 2:\n",
    "        return 1\n",
    "    else:\n",
    "        return fib(n-2) + fib(n-1)\n",
    "\n",
    "def counting(fn):\n",
    "    def wrapper(n):\n",
    "        global count\n",
    "        count += 1\n",
    "        return fn(n)\n",
    "    return wrapper\n",
    "\n",
    "fib = counting(fib_)\n",
    "\n",
    "print(\"fib({}) = {}; fib was called {:,} times\".format(10, fib(10), count))"
   ]
  },
  {
   "cell_type": "markdown",
   "metadata": {},
   "source": [
    "We can wrap a function multiple times. `fib` below has been wrapped by the counting instrumentation, and then wrapped in a cache, so that it both collects its call count *and* is cached."
   ]
  },
  {
   "cell_type": "code",
   "execution_count": 137,
   "metadata": {},
   "outputs": [
    {
     "name": "stdout",
     "output_type": "stream",
     "text": [
      "fib(10) = 55; fib was called 10 times\n"
     ]
    }
   ],
   "source": [
    "count = 0\n",
    "\n",
    "def counting(fn):\n",
    "    def wrapper(n):\n",
    "        global count\n",
    "        count += 1\n",
    "        return fn(n)\n",
    "    return wrapper\n",
    "\n",
    "def cached(fn):\n",
    "    cache = {}\n",
    "    def wrapper(n):\n",
    "        if n in cache:\n",
    "            return cache[n]\n",
    "        result = fn(n)\n",
    "        cache[n] = result\n",
    "        return result\n",
    "    return wrapper\n",
    "\n",
    "def fib(n):\n",
    "    if n <= 2:\n",
    "        return 1\n",
    "    else:\n",
    "        return fib(n-2) + fib(n-1)\n",
    "\n",
    "fib = counting(fib)\n",
    "fib = cached(fib)\n",
    "\n",
    "print(\"fib({}) = {}; fib was called {:,} times\".format(10, fib(10), count))"
   ]
  },
  {
   "cell_type": "markdown",
   "metadata": {},
   "source": [
    "## Decorator Syntax"
   ]
  },
  {
   "cell_type": "markdown",
   "metadata": {},
   "source": [
    "`fib = counting(fib)` *after* `fib` has been defined, is equivalent to `@counting` written immediately *before* the function definition.\n",
    "\n",
    "This is the [Python decorator](https://en.wikipedia.org/wiki/Python_syntax_and_semantics#Decorators) construct."
   ]
  },
  {
   "cell_type": "code",
   "execution_count": 138,
   "metadata": {},
   "outputs": [
    {
     "name": "stdout",
     "output_type": "stream",
     "text": [
      "fib(10) = 55; fib was called 109 times\n"
     ]
    }
   ],
   "source": [
    "count = 0\n",
    "\n",
    "def counting(fn):\n",
    "    def wrapper(n):\n",
    "        global count\n",
    "        count += 1\n",
    "        return fn(n)\n",
    "    return wrapper\n",
    "\n",
    "@counting\n",
    "def fib(n):\n",
    "    if n <= 2:\n",
    "        return 1\n",
    "    else:\n",
    "        return fib(n-2) + fib(n-1)\n",
    "\n",
    "print(\"fib({}) = {}; fib was called {:,} times\".format(10, fib(10), count))"
   ]
  },
  {
   "cell_type": "code",
   "execution_count": 139,
   "metadata": {},
   "outputs": [
    {
     "name": "stdout",
     "output_type": "stream",
     "text": [
      "fib(10) = 55; fib was called 10 times\n"
     ]
    }
   ],
   "source": [
    "count = 0\n",
    "\n",
    "def counting(fn):\n",
    "    def wrapper(n):\n",
    "        global count\n",
    "        count += 1\n",
    "        return fn(n)\n",
    "    return wrapper\n",
    "\n",
    "def cached(fn):\n",
    "    cache = {}\n",
    "    def wrapper(n):\n",
    "        if n in cache:\n",
    "            return cache[n]\n",
    "        result = fn(n)\n",
    "        cache[n] = result\n",
    "        return result\n",
    "    return wrapper\n",
    "\n",
    "@cached\n",
    "@counting\n",
    "def fib(n):\n",
    "    if n <= 2:\n",
    "        return 1\n",
    "    else:\n",
    "        return fib(n-2) + fib(n-1)\n",
    "\n",
    "print(\"fib({}) = {}; fib was called {:,} times\".format(10, fib(10), count))"
   ]
  },
  {
   "cell_type": "markdown",
   "metadata": {},
   "source": [
    "## Additional Reading\n",
    "\n",
    "* [Separation of concerns](https://en.wikipedia.org/wiki/Separation_of_concerns)\n",
    "* [Python decorators](https://en.wikipedia.org/wiki/Python_syntax_and_semantics#Decorators)\n",
    "* [Primer on Python decorators](https://realpython.com/blog/python/primer-on-python-decorators/), _Real Python_.\n",
    "* [A guide to Python's function decorators](https://www.thecodeship.com/patterns/guide-to-python-function-decorators/), _The Code Ship_, Ayman Farhat.\n",
    "* [Decorators](http://python-3-patterns-idioms-test.readthedocs.io/en/latest/PythonDecorators.html), _Python 3 Patterns, Recipes and Idioms_."
   ]
  }
 ],
 "metadata": {
  "kernelspec": {
   "display_name": "Python 3",
   "language": "python",
   "name": "python3"
  },
  "language_info": {
   "codemirror_mode": {
    "name": "ipython",
    "version": 3
   },
   "file_extension": ".py",
   "mimetype": "text/x-python",
   "name": "python",
   "nbconvert_exporter": "python",
   "pygments_lexer": "ipython3",
   "version": "3.5.2"
  }
 },
 "nbformat": 4,
 "nbformat_minor": 2
}

{
 "cells": [
  {
   "cell_type": "markdown",
   "metadata": {},
   "source": [
    "# Caching and Decorators"
   ]
  },
  {
   "cell_type": "markdown",
   "metadata": {},
   "source": [
    "## Instrumentation"
   ]
  },
  {
   "cell_type": "markdown",
   "metadata": {},
   "source": [
    "Consider the lowly Fibonacci function:"
   ]
  },
  {
   "cell_type": "code",
   "execution_count": 128,
   "metadata": {},
   "outputs": [
    {
     "data": {
      "text/plain": [
       "55"
      ]
     },
     "execution_count": 128,
     "metadata": {},
     "output_type": "execute_result"
    }
   ],
   "source": [
    "def fib(n):\n",
    "    if n <= 2:\n",
    "        return 1\n",
    "    else:\n",
    "        return fib(n-2) + fib(n-1)\n",
    "\n",
    "fib(10)"
   ]
  },
  {
   "cell_type": "markdown",
   "metadata": {},
   "source": [
    "This function is a straightforward translation of\n",
    "\n",
    "$$F(n)=\\left\\{\n",
    "                \\begin{array}{ll}\n",
    "                  1&n <= 2\\\\\n",
    "                  F_{n-2} + F_{n-1}&n>2\n",
    "                \\end{array}\n",
    "              \\right.$$"
   ]
  },
  {
   "cell_type": "markdown",
   "metadata": {},
   "source": [
    "`fib` is a *recursive* function. A single *external* call to `fib` can result in lots of *recursive* calls, where it calls itself.\n",
    "\n",
    "Let's **instrument** `fib`, to report how many calls result from a single external call:"
   ]
  },
  {
   "cell_type": "code",
   "execution_count": 1,
   "metadata": {
    "scrolled": true
   },
   "outputs": [
    {
     "name": "stdout",
     "output_type": "stream",
     "text": [
      "fib(10) = 55; fib was called 109 times\n"
     ]
    }
   ],
   "source": [
    "count = 0\n",
    "\n",
    "def fib(n):\n",
    "    global count\n",
    "    count += 1\n",
    "    if n <= 2:\n",
    "        return 1\n",
    "    else:\n",
    "        return fib(n-2) + fib(n-1)\n",
    "\n",
    "print(\"fib({}) = {}; fib was called {:,} times\".format(10, fib(10), count))"
   ]
  },
  {
   "cell_type": "markdown",
   "metadata": {},
   "source": [
    "The number of calls increases (exponentially) as a function of the argument:"
   ]
  },
  {
   "cell_type": "code",
   "execution_count": 129,
   "metadata": {
    "scrolled": true
   },
   "outputs": [
    {
     "name": "stdout",
     "output_type": "stream",
     "text": [
      "fib(1) = 1; fib was called 1 times\n",
      "fib(2) = 1; fib was called 1 times\n",
      "fib(3) = 2; fib was called 3 times\n",
      "fib(4) = 3; fib was called 5 times\n",
      "fib(5) = 5; fib was called 9 times\n",
      "fib(10) = 55; fib was called 109 times\n",
      "fib(20) = 6765; fib was called 13,529 times\n",
      "fib(30) = 832040; fib was called 1,664,079 times\n"
     ]
    }
   ],
   "source": [
    "count = 0\n",
    "\n",
    "def fib(n):\n",
    "    global count\n",
    "    count += 1\n",
    "    if n <= 2:\n",
    "        return 1\n",
    "    else:\n",
    "        return fib(n-2) + fib(n-1)\n",
    "\n",
    "for i in [1, 2, 3, 4, 5, 10, 20, 30]:\n",
    "    count = 0\n",
    "    print(\"fib({}) = {}; fib was called {:,} times\".format(i, fib(i), count))"
   ]
  },
  {
   "cell_type": "markdown",
   "metadata": {},
   "source": [
    "The fact that it calls itself so many times has a direct affect on performance:"
   ]
  },
  {
   "cell_type": "code",
   "execution_count": 130,
   "metadata": {},
   "outputs": [
    {
     "name": "stdout",
     "output_type": "stream",
     "text": [
      "10000 loops, best of 3: 25.9 µs per loop\n",
      "100 loops, best of 3: 3.22 ms per loop\n",
      "1 loop, best of 3: 414 ms per loop\n"
     ]
    }
   ],
   "source": [
    "%timeit fib(10)\n",
    "%timeit fib(20)\n",
    "%timeit fib(30)"
   ]
  },
  {
   "cell_type": "markdown",
   "metadata": {},
   "source": [
    "Note the microseconds (µs) and milliseconds (ms) per loop. 500 ms is half a second, so it's getting pretty slow."
   ]
  },
  {
   "cell_type": "markdown",
   "metadata": {},
   "source": [
    "Let's instrument the function to print each time it's called. This way we that we can see more about what's going on."
   ]
  },
  {
   "cell_type": "code",
   "execution_count": 6,
   "metadata": {
    "scrolled": true
   },
   "outputs": [
    {
     "name": "stdout",
     "output_type": "stream",
     "text": [
      "Calling fib(6)\n",
      "Calling fib(4)\n",
      "Calling fib(2)\n",
      "Calling fib(3)\n",
      "Calling fib(1)\n",
      "Calling fib(2)\n",
      "Calling fib(5)\n",
      "Calling fib(3)\n",
      "Calling fib(1)\n",
      "Calling fib(2)\n",
      "Calling fib(4)\n",
      "Calling fib(2)\n",
      "Calling fib(3)\n",
      "Calling fib(1)\n",
      "Calling fib(2)\n"
     ]
    },
    {
     "data": {
      "text/plain": [
       "8"
      ]
     },
     "execution_count": 6,
     "metadata": {},
     "output_type": "execute_result"
    }
   ],
   "source": [
    "def fib(n):\n",
    "    print(\"Calling fib({})\".format(n))\n",
    "    if n <= 2:\n",
    "        return 1\n",
    "    else:\n",
    "        return fib(n-2) + fib(n-1)\n",
    "\n",
    "fib(6)"
   ]
  },
  {
   "cell_type": "markdown",
   "metadata": {},
   "source": [
    "This output shows that `fib` is called multiple times with the same arguments. For example, `fib(4)` is called a couple times. `fib(3)` is being called three times. `fib(2)` is called *five* times.\n",
    "\n",
    "The modified instrumentation below report how many times `fib` is applied to each argument value. (This is also a chance to learn about [defaultdict](https://docs.python.org/3/library/collections.html#collections.defaultdict).)"
   ]
  },
  {
   "cell_type": "code",
   "execution_count": 11,
   "metadata": {
    "scrolled": false
   },
   "outputs": [
    {
     "name": "stdout",
     "output_type": "stream",
     "text": [
      "fib(1) was called 3 times\n",
      "fib(2) was called 5 times\n",
      "fib(3) was called 3 times\n",
      "fib(4) was called 2 times\n",
      "fib(5) was called 1 times\n",
      "fib(6) was called 1 times\n"
     ]
    }
   ],
   "source": [
    "from collections import defaultdict\n",
    "counts = defaultdict(lambda: 0)\n",
    "\n",
    "def fib(n):\n",
    "    counts[n] += 1\n",
    "    if n <= 2:\n",
    "        return 1\n",
    "    else:\n",
    "        return fib(n-2) + fib(n-1)\n",
    "\n",
    "fib(6)\n",
    "\n",
    "for n, count in sorted(counts.items()):\n",
    "    print(\"fib({}) was called {} times\".format(n, count))"
   ]
  },
  {
   "cell_type": "markdown",
   "metadata": {},
   "source": [
    "### A Digression\n",
    "\n",
    "You might notice an interesting pattern in the sequence of call counts, above. Reading from the bottom (`fib(6)`), and skipping `fib(1)`, the number of times `fib` is called with each argument value from $6$ down to $2$ is $1, 1, 2, 3, 5$.\n",
    "\n",
    "Let's see if this holds up:"
   ]
  },
  {
   "cell_type": "code",
   "execution_count": 14,
   "metadata": {
    "scrolled": true
   },
   "outputs": [
    {
     "name": "stdout",
     "output_type": "stream",
     "text": [
      "fib(1) was called 55 times\n",
      "fib(2) was called 89 times\n",
      "fib(3) was called 55 times\n",
      "fib(4) was called 34 times\n",
      "fib(5) was called 21 times\n",
      "fib(6) was called 13 times\n",
      "fib(7) was called 8 times\n",
      "fib(8) was called 5 times\n",
      "fib(9) was called 3 times\n",
      "fib(10) was called 2 times\n",
      "fib(11) was called 1 times\n",
      "fib(12) was called 1 times\n"
     ]
    }
   ],
   "source": [
    "counts = defaultdict(lambda: 0)\n",
    "fib(12)\n",
    "for n, count in sorted(counts.items()):\n",
    "    print(\"fib({}) was called {} times\".format(n, count))"
   ]
  },
  {
   "cell_type": "markdown",
   "metadata": {},
   "source": [
    "Note the sequence: `fib` applied to $12, 11, 10, \\ldots, 4, 3, 2$ is $1, 1, 2, 3, 5, 8, 13, 21, 34, 55, 89$. What does this sequence remind you of? Harder: why does it happen?"
   ]
  },
  {
   "cell_type": "markdown",
   "metadata": {},
   "source": [
    "## Caching"
   ]
  },
  {
   "cell_type": "markdown",
   "metadata": {},
   "source": [
    "Instead of *instrumenting* the code, to simply record how many times the function was called, we can modify it to *cache* the computation, and use this cached value.\n",
    "\n",
    "This is the same technique that we used to cache web requests, in the Text Mining project. There it avoided repeated *network requests*. Here it saves repeated *computation*. This reduces the function's **computational complexity**."
   ]
  },
  {
   "cell_type": "code",
   "execution_count": 23,
   "metadata": {},
   "outputs": [
    {
     "name": "stdout",
     "output_type": "stream",
     "text": [
      "fib(10) = 55; fib was computed 11 times\n"
     ]
    }
   ],
   "source": [
    "fib_cache = {}\n",
    "count = 0\n",
    "\n",
    "def fib(n):\n",
    "    global count\n",
    "    if n in fib_cache:\n",
    "        return fib_cache[n]\n",
    "    count += 1\n",
    "    if n <= 2:\n",
    "        return 1\n",
    "    else:\n",
    "        result = fib(n-2) + fib(n-1)\n",
    "        fib_cache[n] = result\n",
    "        return result\n",
    "\n",
    "print(\"fib({}) = {}; fib was computed {} times\".format(10, fib(10), count))"
   ]
  },
  {
   "cell_type": "markdown",
   "metadata": {},
   "source": [
    "Compare this to the uncached `fib`, where `fib(10)` resulted in *109* calls to `fib`.\n",
    "\n",
    "Savings are (exponentially) greater for greater values of $n$."
   ]
  },
  {
   "cell_type": "markdown",
   "metadata": {},
   "source": [
    "Let's re-run the timings. We'll time a wrapper for the cached `fib`, that resets `fib`'s cache each time."
   ]
  },
  {
   "cell_type": "code",
   "execution_count": 25,
   "metadata": {
    "scrolled": false
   },
   "outputs": [
    {
     "name": "stdout",
     "output_type": "stream",
     "text": [
      "100000 loops, best of 3: 5.04 µs per loop\n",
      "100000 loops, best of 3: 10.8 µs per loop\n",
      "100000 loops, best of 3: 17.6 µs per loop\n"
     ]
    }
   ],
   "source": [
    "def rfib(n):\n",
    "    global fib_cache\n",
    "    fib_cache = {}\n",
    "    return fib(n)\n",
    "\n",
    "%timeit rfib(10)\n",
    "%timeit rfib(20)\n",
    "%timeit rfib(30)"
   ]
  },
  {
   "cell_type": "markdown",
   "metadata": {},
   "source": [
    "For reference, the un-cached timings looked like this:\n",
    "\n",
    "    10000 loops, best of 3: 25.9 µs per loop\n",
    "    100 loops, best of 3: 3.22 ms per loop\n",
    "    1 loop, best of 3: 414 ms per loop"
   ]
  },
  {
   "cell_type": "markdown",
   "metadata": {},
   "source": [
    "## Separating concerns"
   ]
  },
  {
   "cell_type": "markdown",
   "metadata": {},
   "source": [
    "The code above takes a step *forwards* in terms of performance, but *backwards* in legibility. Half of it is concerned with doing the math, and half of it is concerned with caching. It violated **separation of concerns**.\n",
    "\n",
    "Let's separate the first instrumented `fib`, that counts how often it's been called, into two functions. The *inner* function, `fib_`, does the computation. The *outer* function, `fib`, *wraps* `fib_`. It adds the instrumentation.\n",
    "\n",
    "(The underscore in `fib_` is used in Python the same way a prime $'$ is used in math. `fib_` corresponds to $\\textrm{fib}'$ or $F'$.)"
   ]
  },
  {
   "cell_type": "code",
   "execution_count": 134,
   "metadata": {},
   "outputs": [
    {
     "name": "stdout",
     "output_type": "stream",
     "text": [
      "fib(10) = 55; fib was called 109 times\n"
     ]
    }
   ],
   "source": [
    "count = 0\n",
    "\n",
    "def fib_(n):\n",
    "    if n <= 2:\n",
    "        return 1\n",
    "    else:\n",
    "        return fib(n-2) + fib(n-1)\n",
    "\n",
    "def fib(n):\n",
    "    global count\n",
    "    count += 1\n",
    "    return fib_(n)\n",
    "\n",
    "print(\"fib({}) = {}; fib was called {:,} times\".format(10, fib(10), count))"
   ]
  },
  {
   "cell_type": "markdown",
   "metadata": {},
   "source": [
    "We can change the outer function to add different instrumentation. We don't need to touch the inner function."
   ]
  },
  {
   "cell_type": "code",
   "execution_count": 19,
   "metadata": {},
   "outputs": [
    {
     "name": "stdout",
     "output_type": "stream",
     "text": [
      "fib(1) was called 21 times\n",
      "fib(2) was called 34 times\n",
      "fib(3) was called 21 times\n",
      "fib(4) was called 13 times\n",
      "fib(5) was called 8 times\n",
      "fib(6) was called 5 times\n",
      "fib(7) was called 3 times\n",
      "fib(8) was called 2 times\n",
      "fib(9) was called 1 times\n",
      "fib(10) was called 1 times\n"
     ]
    }
   ],
   "source": [
    "from collections import defaultdict\n",
    "counts = defaultdict(lambda: 0)\n",
    "\n",
    "def fib(n):\n",
    "    global count\n",
    "    counts[n] += 1\n",
    "    return fib_(n)\n",
    "\n",
    "fib(10)\n",
    "for n, count in sorted(counts.items()):\n",
    "    print(\"fib({}) was called {} times\".format(n, count))"
   ]
  },
  {
   "cell_type": "markdown",
   "metadata": {},
   "source": [
    "Now let's define a different outer function, that adds caching. (We'll also keep some instrumentation, so we can see that the cache is working.) It can use the same inner function."
   ]
  },
  {
   "cell_type": "code",
   "execution_count": 20,
   "metadata": {
    "scrolled": true
   },
   "outputs": [
    {
     "name": "stdout",
     "output_type": "stream",
     "text": [
      "fib(10) = 55; fib was called 10 times\n"
     ]
    }
   ],
   "source": [
    "count = 0\n",
    "fib_cache = {}\n",
    "\n",
    "def fib(n):\n",
    "    if n in fib_cache:\n",
    "        return fib_cache[n]\n",
    "    global count\n",
    "    count += 1\n",
    "    result = fib_(n)\n",
    "    fib_cache[n] = result\n",
    "    return result\n",
    "\n",
    "print(\"fib({}) = {}; fib was called {:,} times\".format(10, fib(10), count))"
   ]
  },
  {
   "cell_type": "markdown",
   "metadata": {},
   "source": [
    "## Higher-Order Programming"
   ]
  },
  {
   "cell_type": "markdown",
   "metadata": {},
   "source": [
    "The various out functions above – all named `fib` – didn't need to know anything about `fib_` specifically. The *name* `fib_` was included in their definitions, but they otherwise could have wrapped any other (unary) function instead.\n",
    "\n",
    "Let's extract `fib_` from the function definition, and instead supply it as a *parameter*:"
   ]
  },
  {
   "cell_type": "code",
   "execution_count": 136,
   "metadata": {},
   "outputs": [
    {
     "name": "stdout",
     "output_type": "stream",
     "text": [
      "fib(10) = 55; fib was called 109 times\n"
     ]
    }
   ],
   "source": [
    "count = 0\n",
    "\n",
    "def fib_(n):\n",
    "    if n <= 2:\n",
    "        return 1\n",
    "    else:\n",
    "        return fib(n-2) + fib(n-1)\n",
    "\n",
    "def counting(fn):\n",
    "    def wrapper(n):\n",
    "        global count\n",
    "        count += 1\n",
    "        return fn(n)\n",
    "    return wrapper\n",
    "\n",
    "fib = counting(fib_)\n",
    "\n",
    "print(\"fib({}) = {}; fib was called {:,} times\".format(10, fib(10), count))"
   ]
  },
  {
   "cell_type": "markdown",
   "metadata": {},
   "source": [
    "Above, `def fib_` defined `fib`, `counting(fib)` used that value, and `fib = …` (on the same line) defined `fib`.\n",
    "\n",
    "We don't need the value of `fib_` after we've used it as an argument to `counting`. We can therefore `def fib` instead of `def fib_`:"
   ]
  },
  {
   "cell_type": "code",
   "execution_count": 27,
   "metadata": {},
   "outputs": [
    {
     "name": "stdout",
     "output_type": "stream",
     "text": [
      "fib(10) = 55; fib was called 109 times\n"
     ]
    }
   ],
   "source": [
    "count = 0\n",
    "\n",
    "def fib(n):\n",
    "    if n <= 2:\n",
    "        return 1\n",
    "    else:\n",
    "        return fib(n-2) + fib(n-1)\n",
    "\n",
    "def counting(fn):\n",
    "    def wrapper(n):\n",
    "        global count\n",
    "        count += 1\n",
    "        return fn(n)\n",
    "    return wrapper\n",
    "\n",
    "fib = counting(fib)\n",
    "\n",
    "print(\"fib({}) = {}; fib was called {:,} times\".format(10, fib(10), count))"
   ]
  },
  {
   "cell_type": "markdown",
   "metadata": {},
   "source": [
    "This relieves us from have to come up separate names for `fib_` and `fib`.\n",
    "\n",
    "It also eliminates the inelegance where `fib_` had to know to call `fib` (that hasn't been defined yet).\n",
    "\n",
    "Previously, in order to recognize that `fib_` was actually recursive, we needed to know that `fib_` was going to be wrapped up and that the wrapped function would be called `fib`.\n",
    "\n",
    "Now, you can read the functionality of `fib` straight from its definition. As a bonus, if we comment out the `fib = counting(fib)` line, `fib` still works – it just isn't instrumented."
   ]
  },
  {
   "cell_type": "markdown",
   "metadata": {},
   "source": [
    "We can wrap a function multiple times. `fib` below has been wrapped by a function (`counting`) that adds counting instrumentation ,and then wrapped in a function (`cached`) that adds caching. The final value of `fib` is a function that both records how many times it's been called, *and* is cached."
   ]
  },
  {
   "cell_type": "code",
   "execution_count": 137,
   "metadata": {},
   "outputs": [
    {
     "name": "stdout",
     "output_type": "stream",
     "text": [
      "fib(10) = 55; fib was called 10 times\n"
     ]
    }
   ],
   "source": [
    "count = 0\n",
    "\n",
    "def cached(fn):\n",
    "    cache = {}\n",
    "    def wrapper(n):\n",
    "        if n in cache:\n",
    "            return cache[n]\n",
    "        result = fn(n)\n",
    "        cache[n] = result\n",
    "        return result\n",
    "    return wrapper\n",
    "\n",
    "def counting(fn):\n",
    "    def wrapper(n):\n",
    "        global count\n",
    "        count += 1\n",
    "        return fn(n)\n",
    "    return wrapper\n",
    "\n",
    "def fib(n):\n",
    "    if n <= 2:\n",
    "        return 1\n",
    "    else:\n",
    "        return fib(n-2) + fib(n-1)\n",
    "\n",
    "fib = counting(fib)\n",
    "fib = cached(fib)\n",
    "\n",
    "print(\"fib({}) = {}; fib was called {:,} times\".format(10, fib(10), count))"
   ]
  },
  {
   "cell_type": "markdown",
   "metadata": {},
   "source": [
    "Let's write one more wrapping function, for even more instrumentation:"
   ]
  },
  {
   "cell_type": "code",
   "execution_count": 142,
   "metadata": {
    "scrolled": true
   },
   "outputs": [
    {
     "name": "stdout",
     "output_type": "stream",
     "text": [
      "called fib(10)\n",
      "called fib(8)\n",
      "called fib(6)\n",
      "called fib(4)\n",
      "called fib(2)\n",
      "called fib(3)\n",
      "called fib(1)\n",
      "called fib(5)\n",
      "called fib(7)\n",
      "called fib(9)\n",
      "fib(10) = 55; fib was called 10 times\n"
     ]
    }
   ],
   "source": [
    "count = 0\n",
    "\n",
    "def cached(fn):\n",
    "    cache = {}\n",
    "    def wrapper(n):\n",
    "        if n in cache:\n",
    "            return cache[n]\n",
    "        result = fn(n)\n",
    "        cache[n] = result\n",
    "        return result\n",
    "    return wrapper\n",
    "\n",
    "def counting(fn):\n",
    "    def wrapper(n):\n",
    "        global count\n",
    "        count += 1\n",
    "        return fn(n)\n",
    "    return wrapper\n",
    "\n",
    "def traced(fn):\n",
    "    def wrapper(n):\n",
    "        print('called {}({})'.format(fn.__name__, n))\n",
    "        return fn(n)\n",
    "    return wrapper\n",
    "\n",
    "def fib(n):\n",
    "    if n <= 2:\n",
    "        return 1\n",
    "    else:\n",
    "        return fib(n-2) + fib(n-1)\n",
    "\n",
    "fib = traced(fib)\n",
    "fib = counting(fib)\n",
    "fib = cached(fib)\n",
    "\n",
    "print(\"fib({}) = {}; fib was called {:,} times\".format(10, fib(10), count))"
   ]
  },
  {
   "cell_type": "markdown",
   "metadata": {},
   "source": [
    "Order matters! Above, the tracing wrapper is inside the wrapped the caching wrapper. Below, the tracing happens *outside* the cache."
   ]
  },
  {
   "cell_type": "code",
   "execution_count": 145,
   "metadata": {
    "scrolled": true
   },
   "outputs": [
    {
     "name": "stdout",
     "output_type": "stream",
     "text": [
      "called wrapper(10)\n",
      "called wrapper(8)\n",
      "called wrapper(6)\n",
      "called wrapper(4)\n",
      "called wrapper(2)\n",
      "called wrapper(3)\n",
      "called wrapper(1)\n",
      "called wrapper(2)\n",
      "called wrapper(5)\n",
      "called wrapper(3)\n",
      "called wrapper(4)\n",
      "called wrapper(7)\n",
      "called wrapper(5)\n",
      "called wrapper(6)\n",
      "called wrapper(9)\n",
      "called wrapper(7)\n",
      "called wrapper(8)\n",
      "fib(10) = 55; fib was called 17 times\n"
     ]
    }
   ],
   "source": [
    "def fib(n):\n",
    "    if n <= 2:\n",
    "        return 1\n",
    "    else:\n",
    "        return fib(n-2) + fib(n-1)\n",
    "\n",
    "fib = cached(fib)\n",
    "fib = counting(fib)\n",
    "fib = traced(fib)\n",
    "\n",
    "count = 0\n",
    "print(\"fib({}) = {}; fib was called {:,} times\".format(10, fib(10), count))"
   ]
  },
  {
   "cell_type": "markdown",
   "metadata": {},
   "source": [
    "The functions that do the wrapping can be applied to any (unary) function. Here, we'll apply it to a version of the exponentiation function that's been modified to take a single argumen: a tuple of $(\\textrm{base}, \\textrm{exp})$: `pow((b, e))` $= b^e$.\n",
    "\n",
    "(The forthcoming Appendix will show how to modify these wrappers for use on functions that take different numbers of arguments.)"
   ]
  },
  {
   "cell_type": "code",
   "execution_count": 162,
   "metadata": {
    "scrolled": true
   },
   "outputs": [
    {
     "name": "stdout",
     "output_type": "stream",
     "text": [
      "called pow((2, 15))\n",
      "called pow((2, 7))\n",
      "called pow((2, 3))\n",
      "called pow((2, 1))\n",
      "called pow((2, 2))\n",
      "called pow((2, 4))\n",
      "called pow((2, 8))\n",
      "exp(2, 15) = 32768\n"
     ]
    }
   ],
   "source": [
    "def pow(base_and_exp):\n",
    "    base, exp = base_and_exp\n",
    "    if exp == 0:\n",
    "        return 1\n",
    "    if exp == 1:\n",
    "        return base\n",
    "    half = exp // 2\n",
    "    return pow((base, half)) * pow((base, exp - half))\n",
    "\n",
    "pow = traced(pow)\n",
    "pow = cached(pow)\n",
    "print('exp({}, {}) = {}'.format(2, 15, pow((2, 15))))"
   ]
  },
  {
   "cell_type": "markdown",
   "metadata": {},
   "source": [
    "### Terminology\n",
    "\n",
    "A function that takes a function as an argument and returns a function as a value, is called a [**higher-order function**, **functor**, or **functional**](https://en.wikipedia.org/wiki/Higher-order_function).\n",
    "\n",
    "Programming with higher-order functions is [**higher-order programming**](https://en.wikipedia.org/wiki/Higher-order_programming).\n",
    "\n",
    "\"Functor\" and \"functional\" are also used in math, for meanings that aren't that different. For example, the (indefinite) integral $\\int$ takes an function $x \\rightarrow x^2 dx$ as an argument and returns another function $x \\rightarrow 3/2 x^3$ as a value: $\\int x^2 dx = 3/2 x^3$."
   ]
  },
  {
   "cell_type": "markdown",
   "metadata": {},
   "source": [
    "## Decorator Syntax"
   ]
  },
  {
   "cell_type": "markdown",
   "metadata": {},
   "source": [
    "`fib = counting(fib)` *after* `fib` has been defined, is equivalent to `@counting` written immediately *before* the function definition.\n",
    "\n",
    "This is the [Python decorator](https://en.wikipedia.org/wiki/Python_syntax_and_semantics#Decorators) construct."
   ]
  },
  {
   "cell_type": "code",
   "execution_count": 138,
   "metadata": {},
   "outputs": [
    {
     "name": "stdout",
     "output_type": "stream",
     "text": [
      "fib(10) = 55; fib was called 109 times\n"
     ]
    }
   ],
   "source": [
    "count = 0\n",
    "\n",
    "def counting(fn):\n",
    "    def wrapper(n):\n",
    "        global count\n",
    "        count += 1\n",
    "        return fn(n)\n",
    "    return wrapper\n",
    "\n",
    "@counting\n",
    "def fib(n):\n",
    "    if n <= 2:\n",
    "        return 1\n",
    "    else:\n",
    "        return fib(n-2) + fib(n-1)\n",
    "\n",
    "print(\"fib({}) = {}; fib was called {:,} times\".format(10, fib(10), count))"
   ]
  },
  {
   "cell_type": "code",
   "execution_count": 139,
   "metadata": {},
   "outputs": [
    {
     "name": "stdout",
     "output_type": "stream",
     "text": [
      "fib(10) = 55; fib was called 10 times\n"
     ]
    }
   ],
   "source": [
    "count = 0\n",
    "\n",
    "def cached(fn):\n",
    "    cache = {}\n",
    "    def wrapper(n):\n",
    "        if n in cache:\n",
    "            return cache[n]\n",
    "        result = fn(n)\n",
    "        cache[n] = result\n",
    "        return result\n",
    "    return wrapper\n",
    "\n",
    "def counting(fn):\n",
    "    def wrapper(n):\n",
    "        global count\n",
    "        count += 1\n",
    "        return fn(n)\n",
    "    return wrapper\n",
    "\n",
    "@cached\n",
    "@counting\n",
    "def fib(n):\n",
    "    if n <= 2:\n",
    "        return 1\n",
    "    else:\n",
    "        return fib(n-2) + fib(n-1)\n",
    "\n",
    "print(\"fib({}) = {}; fib was called {:,} times\".format(10, fib(10), count))"
   ]
  },
  {
   "cell_type": "code",
   "execution_count": 146,
   "metadata": {},
   "outputs": [
    {
     "name": "stdout",
     "output_type": "stream",
     "text": [
      "called fib(10)\n",
      "called fib(8)\n",
      "called fib(6)\n",
      "called fib(4)\n",
      "called fib(2)\n",
      "called fib(3)\n",
      "called fib(1)\n",
      "called fib(5)\n",
      "called fib(7)\n",
      "called fib(9)\n",
      "fib(10) = 55; fib was called 10 times\n"
     ]
    }
   ],
   "source": [
    "count = 0\n",
    "\n",
    "def cached(fn):\n",
    "    cache = {}\n",
    "    def wrapper(n):\n",
    "        if n in cache:\n",
    "            return cache[n]\n",
    "        result = fn(n)\n",
    "        cache[n] = result\n",
    "        return result\n",
    "    return wrapper\n",
    "\n",
    "def counting(fn):\n",
    "    def wrapper(n):\n",
    "        global count\n",
    "        count += 1\n",
    "        return fn(n)\n",
    "    return wrapper\n",
    "\n",
    "def traced(fn):\n",
    "    def wrapper(n):\n",
    "        print('called {}({})'.format(fn.__name__, n))\n",
    "        return fn(n)\n",
    "    return wrapper\n",
    "\n",
    "@cached\n",
    "@counting\n",
    "@traced\n",
    "def fib(n):\n",
    "    if n <= 2:\n",
    "        return 1\n",
    "    else:\n",
    "        return fib(n-2) + fib(n-1)\n",
    "\n",
    "print(\"fib({}) = {}; fib was called {:,} times\".format(10, fib(10), count))"
   ]
  },
  {
   "cell_type": "markdown",
   "metadata": {},
   "source": [
    "## Additional Reading\n",
    "\n",
    "* [Separation of concerns](https://en.wikipedia.org/wiki/Separation_of_concerns)\n",
    "* [Python decorators](https://en.wikipedia.org/wiki/Python_syntax_and_semantics#Decorators)\n",
    "* [Primer on Python decorators](https://realpython.com/blog/python/primer-on-python-decorators/), _Real Python_.\n",
    "* [A guide to Python's function decorators](https://www.thecodeship.com/patterns/guide-to-python-function-decorators/), _The Code Ship_, Ayman Farhat.\n",
    "* [Decorators](http://python-3-patterns-idioms-test.readthedocs.io/en/latest/PythonDecorators.html), _Python 3 Patterns, Recipes and Idioms_."
   ]
  }
 ],
 "metadata": {
  "kernelspec": {
   "display_name": "Python 3",
   "language": "python",
   "name": "python3"
  },
  "language_info": {
   "codemirror_mode": {
    "name": "ipython",
    "version": 3
   },
   "file_extension": ".py",
   "mimetype": "text/x-python",
   "name": "python",
   "nbconvert_exporter": "python",
   "pygments_lexer": "ipython3",
   "version": "3.5.2"
  }
 },
 "nbformat": 4,
 "nbformat_minor": 2
}

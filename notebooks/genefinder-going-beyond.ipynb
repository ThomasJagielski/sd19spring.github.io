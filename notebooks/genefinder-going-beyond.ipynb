{
 "cells": [
  {
   "cell_type": "markdown",
   "metadata": {},
   "source": [
    "# GeneFinder solutions – Going Beyond"
   ]
  },
  {
   "cell_type": "markdown",
   "metadata": {},
   "source": [
    "This notebook contains solutions for *some* of the Going Beyond extension to the GeneFinder project. It is a supplement to [GeneFinder solutions](/notes/genefinder-solutions.md)."
   ]
  },
  {
   "cell_type": "markdown",
   "metadata": {},
   "source": [
    "## Metagenomics"
   ]
  },
  {
   "cell_type": "code",
   "execution_count": null,
   "metadata": {
    "collapsed": true
   },
   "outputs": [],
   "source": [
    "from load import load_nitrogenase_seq, load_metagenome\n",
    "\n",
    "def find_longest_common_substring_length(s1, s2):\n",
    "    \"\"\"Return the length of the longest common substring of `s1` and `s2`.\n",
    "\n",
    "    Examples\n",
    "    --------\n",
    "    >>> find_longest_common_substring_length('abc', 'xaz')\n",
    "    1\n",
    "    >>> find_longest_common_substring_length('abc', 'xabz')\n",
    "    2\n",
    "    >>> find_longest_common_substring_length('abc', 'xabcz')\n",
    "    3\n",
    "    >>> find_longest_common_substring_length('abc', 'xyabcz')\n",
    "    3\n",
    "    >>> find_longest_common_substring_length('abc', 'abcz')\n",
    "    3\n",
    "    >>> find_longest_common_substring_length('abc', 'xyabc')\n",
    "    3\n",
    "    >>> find_longest_common_substring_length('abc', 'xyz')\n",
    "    0\n",
    "    \"\"\"\n",
    "\n",
    "    longest_len = 0\n",
    "    for i1 in range(len(s1)):\n",
    "        for i2 in range(len(s2)):\n",
    "            offset = 0\n",
    "            while i1 + offset < len(s1) and i2 + offset < len(s2) and s1[i1 + offset] == s2[i2 + offset]:\n",
    "                offset += 1\n",
    "            longest_len = max(longest_len, offset)\n",
    "    return longest_len\n",
    "\n",
    "def find_snippet_with_greatest_overlap(target_sequence, snippets):\n",
    "    \"\"\"Return the name of the snippet whose sequence has the greatest overlap with target_sequence.\n",
    "\n",
    "    Arguments\n",
    "    ---------\n",
    "    snippets : list\n",
    "        A list of tuples of (snippet_name, sequence).\n",
    "    target_sequence : str\n",
    "        The nucleotide sequence\n",
    "\n",
    "    Examples\n",
    "    --------\n",
    "    >>> snippets = [('1', 'AG'), ('2', 'AGAGAG'), ('3', 'ATAGA')]\n",
    "    >>> find_snippet_with_greatest_overlap('TAG', snippets)\n",
    "    '3'\n",
    "    >>> find_snippet_with_greatest_overlap('AGAG', snippets)\n",
    "    '2'\n",
    "    \"\"\"\n",
    "    snippet_name, _ = max(snippets, key=lambda snippet: find_longest_common_substring_length(snippet[1], target_sequence))\n",
    "    return snippet_name\n",
    "\n",
    "\n",
    "def main():\n",
    "    nitrogenase = load_nitrogenase_seq()\n",
    "    metagenome = load_metagenome()\n",
    "    print find_snippet_with_greatest_overlap(nitrogenase, metagenome)\n",
    "\n",
    "\n",
    "if __name__ == \"__main__\":\n",
    "    import sys\n",
    "    if len(sys.argv) > 1 and sys.argv[1] == 'test':\n",
    "        import doctest\n",
    "        doctest.testmod()\n",
    "    else:\n",
    "        main()"
   ]
  },
  {
   "cell_type": "markdown",
   "metadata": {},
   "source": [
    "## Multiprocessing"
   ]
  },
  {
   "cell_type": "markdown",
   "metadata": {},
   "source": [
    "This section includes variant implementations of `longest_ORF_noncoding`. From top to bottom, they increase in concision, and make increasing use of list comprehensions."
   ]
  },
  {
   "cell_type": "code",
   "execution_count": null,
   "metadata": {
    "collapsed": true
   },
   "outputs": [],
   "source": [
    "from multiprocessing import Pool\n",
    "\n",
    "def longest_ORF_noncoding(dna, num_trials):\n",
    "    \"\"\"Compute the maximum length of the longest ORF over num_trials shuffles of the specified sequence.\n",
    "    \n",
    "    Arguments\n",
    "    ---------\n",
    "    dna : string\n",
    "        A DNA sequence.\n",
    "    num_trials : int\n",
    "        The number of random shuffles.\n",
    "    \n",
    "    Returns\n",
    "    -------\n",
    "    int\n",
    "        The maximum length longest ORF\n",
    "    \n",
    "    Examples\n",
    "    --------\n",
    "    >>> random.seed(1)\n",
    "    >>> longest_ORF_noncoding(\"ATGCGAATGTAGCATCAAA\", 100)\n",
    "    19\n",
    "    \"\"\"\n",
    "    p = Pool()\n",
    "    shuffles = []\n",
    "    for _ in range(num_trials):\n",
    "        shuffles.append(shuffle_string(dna))\n",
    "    orfs = p.map(longest_ORF, shuffles)\n",
    "    n = 0\n",
    "    for orf in orfs:\n",
    "        if len(orf) > n:\n",
    "            n = len(orf)\n",
    "    return n"
   ]
  },
  {
   "cell_type": "code",
   "execution_count": null,
   "metadata": {
    "collapsed": true
   },
   "outputs": [],
   "source": [
    "from multiprocessing import Pool\n",
    "\n",
    "def longest_ORF_noncoding(dna, num_trials):\n",
    "    \"\"\"\n",
    "    >>> random.seed(1)\n",
    "    >>> longest_ORF_noncoding(\"ATGCGAATGTAGCATCAAA\", 100)\n",
    "    19\n",
    "    \"\"\"\n",
    "    p = Pool()\n",
    "    shuffles = []\n",
    "    for _ in range(num_trials):\n",
    "        shuffles.append(shuffle_string(dna))\n",
    "    n = 0\n",
    "    for orf in p.map(longest_ORF, shuffles):\n",
    "        if orf:\n",
    "            n = max(n, len(orf))\n",
    "    return n"
   ]
  },
  {
   "cell_type": "code",
   "execution_count": null,
   "metadata": {
    "collapsed": true
   },
   "outputs": [],
   "source": [
    "from multiprocessing import Pool\n",
    "\n",
    "def longest_ORF_noncoding(dna, num_trials):\n",
    "    \"\"\"\n",
    "    >>> random.seed(1)\n",
    "    >>> longest_ORF_noncoding(\"ATGCGAATGTAGCATCAAA\", 100)\n",
    "    19\n",
    "    \"\"\"\n",
    "    p = Pool()\n",
    "    shuffles = [shuffles.append(shuffle_string(dna)) for _ in range(num_trials)]\n",
    "    lengths = [orf\n",
    "               for orf in p.map(longest_ORF, shuffles)\n",
    "               if orf]\n",
    "    return max(lengths, default=0)"
   ]
  },
  {
   "cell_type": "code",
   "execution_count": null,
   "metadata": {
    "collapsed": true
   },
   "outputs": [],
   "source": [
    "from multiprocessing import Pool\n",
    "\n",
    "def longest_ORF_noncoding(dna, num_trials):\n",
    "    \"\"\"Compute the maximum length of the longest ORF over num_trials shuffles of the specified sequence.\n",
    "    \n",
    "    Arguments\n",
    "    ---------\n",
    "    dna : string\n",
    "        A DNA sequence.\n",
    "    num_trials : int\n",
    "        The number of random shuffles.\n",
    "    \n",
    "    Returns\n",
    "    -------\n",
    "    int\n",
    "        The maximum length longest ORF\n",
    "    \n",
    "    Examples\n",
    "    --------\n",
    "    >>> random.seed(1)\n",
    "    >>> longest_ORF_noncoding(\"ATGCGAATGTAGCATCAAA\", 100)\n",
    "    19\n",
    "    \"\"\"\n",
    "    p = Pool()\n",
    "    return max(len(orf)\n",
    "               for orf in p.map(longest_ORF, (shuffle_string(dna) for _ in range(num_trials)))\n",
    "               if orf)"
   ]
  }
 ],
 "metadata": {
  "anaconda-cloud": {},
  "kernelspec": {
   "display_name": "Python [default]",
   "language": "python",
   "name": "python3"
  },
  "language_info": {
   "codemirror_mode": {
    "name": "ipython",
    "version": 3
   },
   "file_extension": ".py",
   "mimetype": "text/x-python",
   "name": "python",
   "nbconvert_exporter": "python",
   "pygments_lexer": "ipython3",
   "version": "3.5.2"
  }
 },
 "nbformat": 4,
 "nbformat_minor": 2
}

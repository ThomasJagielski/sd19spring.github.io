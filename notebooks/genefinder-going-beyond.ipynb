{
 "cells": [
  {
   "cell_type": "markdown",
   "metadata": {},
   "source": [
    "# GeneFinder solutions – Going Beyond"
   ]
  },
  {
   "cell_type": "markdown",
   "metadata": {},
   "source": [
    "## Multiprocessing"
   ]
  },
  {
   "cell_type": "code",
   "execution_count": null,
   "metadata": {
    "collapsed": true
   },
   "outputs": [],
   "source": [
    "from multiprocessing import Pool\n",
    "\n",
    "def longest_ORF_noncoding(dna, num_trials):\n",
    "    \"\"\"Compute the maximum length of the longest ORF over num_trials shuffles of the specified sequence.\n",
    "    \n",
    "    Arguments\n",
    "    ---------\n",
    "    dna : string\n",
    "        A DNA sequence.\n",
    "    num_trials : int\n",
    "        The number of random shuffles.\n",
    "    \n",
    "    Returns\n",
    "    -------\n",
    "    int\n",
    "        The maximum length longest ORF\n",
    "    \n",
    "    Examples\n",
    "    --------\n",
    "    >>> random.seed(1)\n",
    "    >>> longest_ORF_noncoding(\"ATGCGAATGTAGCATCAAA\", 100)\n",
    "    19\n",
    "    \"\"\"\n",
    "    p = Pool()\n",
    "    return max(len(orf or '') for orf in p.map(longest_ORF, (shuffle_string(dna) for _ in xrange(num_trials))))\n"
   ]
  }
 ],
 "metadata": {
  "anaconda-cloud": {},
  "kernelspec": {
   "display_name": "Python [default]",
   "language": "python",
   "name": "python3"
  },
  "language_info": {
   "codemirror_mode": {
    "name": "ipython",
    "version": 3
   },
   "file_extension": ".py",
   "mimetype": "text/x-python",
   "name": "python",
   "nbconvert_exporter": "python",
   "pygments_lexer": "ipython3",
   "version": "3.5.2"
  }
 },
 "nbformat": 4,
 "nbformat_minor": 2
}
